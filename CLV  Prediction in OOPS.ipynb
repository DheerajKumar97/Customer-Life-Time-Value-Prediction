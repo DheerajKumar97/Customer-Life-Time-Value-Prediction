{
 "cells": [
  {
   "cell_type": "markdown",
   "metadata": {
    "papermill": {
     "duration": 0.051663,
     "end_time": "2020-09-11T08:50:32.880295",
     "exception": false,
     "start_time": "2020-09-11T08:50:32.828632",
     "status": "completed"
    },
    "tags": []
   },
   "source": [
    "# Four Wheeler Insurance Customer LifeTime Value Prediction <html><font size =\"2\"> &nbsp;&nbsp;&nbsp;&nbsp;BY DHEERAJ KUMAR</html>"
   ]
  },
  {
   "cell_type": "markdown",
   "metadata": {
    "papermill": {
     "duration": 0.047496,
     "end_time": "2020-09-11T08:50:33.072588",
     "exception": false,
     "start_time": "2020-09-11T08:50:33.025092",
     "status": "completed"
    },
    "tags": []
   },
   "source": [
    "# PROJECT GOAL\n",
    "<br>\n",
    "\n",
    "The **Requirement** of a Business Problem **is to develop a predictive model to Analyse and to Predit the LifeTime Value of customer** in a Four wheeler insurance company using **Regression Analysis** with **Python**."
   ]
  },
  {
   "cell_type": "markdown",
   "metadata": {
    "papermill": {
     "duration": 0.046928,
     "end_time": "2020-09-11T08:50:33.166985",
     "exception": false,
     "start_time": "2020-09-11T08:50:33.120057",
     "status": "completed"
    },
    "tags": []
   },
   "source": [
    "# What is Customer Lifetime Value\n",
    "\n",
    "\n",
    "**Customer Lifetime Value** is the **total worth to a business of a customer over the whole period of their relationship**. It’s an important metric as it costs less to keep existing customers than it does to acquire new ones, so increasing the value of your existing customers is a great way to drive growth.\n",
    "\n",
    "This is an important figure to know because it helps you **make decisions about how much money to invest in acquiring new customers and retaining existing ones**.\n",
    "\n",
    "\n",
    "## Calculating CLV\n",
    "\n",
    "**The simplest way to calculate CLV is:**\n",
    "\n",
    "CLV = **average value of a Insurance taken X number of times the customer will take insurance each year X average length of the customer relationship (in years)**\n",
    "\n",
    "\n",
    "## The Value of Knowing Your CLV\n",
    "\n",
    "Calculating the CLV for different customers helps in a number of ways, mainly regarding business decision-making. Knowing your CLV you can determine, among other things:\n",
    "\n",
    "    (i)   How much you can spend to acquire a similar customer and still have a profitable relationship\n",
    "    \n",
    "    (ii)  What kinds of insurance policies or coverages customers with the highest CLV want\n",
    "    \n",
    "    (iii) Which products have the highest profitability\n",
    "    \n",
    "    (iv)  Who your most profitable types of clients are\n"
   ]
  },
  {
   "cell_type": "markdown",
   "metadata": {
    "papermill": {
     "duration": 0.047343,
     "end_time": "2020-09-11T08:50:33.261990",
     "exception": false,
     "start_time": "2020-09-11T08:50:33.214647",
     "status": "completed"
    },
    "tags": []
   },
   "source": [
    "# FEATURES DETAILS\n",
    "\n",
    "\n",
    "<br>\n",
    "<html>\n",
    "<head>\n",
    "<style>\n",
    "table {\n",
    "  font-family: arial, sans-serif;\n",
    "  border-collapse: collapse;\n",
    "  width: 100%;\n",
    "}\n",
    "\n",
    "td, th {\n",
    "  border: 1px solid #dddddd;\n",
    "  text-align: left;\n",
    "  padding: 8px;\n",
    "}\n",
    "\n",
    "tr:nth-child(even) {\n",
    "  background-color: #dddddd;\n",
    "}\n",
    "</style>\n",
    "</head>\n",
    "<body>\n",
    "\n",
    "<h2></h2>\n",
    "\n",
    "<table>\n",
    "  <tr>\n",
    "    <th>FEATURE NAMES</th>\n",
    "    <th>EXPLANATION</th>\n",
    "\n",
    "  </tr>\n",
    "  <tr>\n",
    "    <td><b>CustomerID</b></td>\n",
    "    <td>ID of the Customer</td>\n",
    "\n",
    "  </tr>\n",
    "  <tr>\n",
    "      <td><b>Customer Lifetime Value</b></td>\n",
    "    <td>Life Time Profit to the owner by Customer</b></td>\n",
    "  \n",
    "  </tr>\n",
    "  <tr>\n",
    "    <td><b>Coverage</b></td>\n",
    "    <td>Insurance Coverge to vehicle<b>[Categorical Variable]</td>\n",
    " \n",
    "  </tr>\n",
    "  <tr>\n",
    "    <td><b>Education</b></td>\n",
    "    <td>Customer Education<b>[Categorical Variable]</b></td>\n",
    " \n",
    "  </tr>\n",
    "  <tr>\n",
    "    <td><b>Employment Status</b></td>\n",
    "    <td>Employment Status of Customer<b>[Categorical Variable]</td>\n",
    "\n",
    "  </tr>\n",
    "  <tr>\n",
    "    <td><b>Gender</b></td>\n",
    "    <td>Gender of Customer <b>[Categorical Variable]</b></td>\n",
    "\n",
    "  </tr>\n",
    "    <tr>\n",
    "        <td><b>Income</b></td>\n",
    "    <td>Income of Customer </b></td>\n",
    "\n",
    "  </tr>\n",
    "    <tr>\n",
    "    <td><b>Location Geo</b></td>\n",
    "    <td>Latitude and Longitude of Customer <b>[Categorical Variable]</b></td>\n",
    "\n",
    "  </tr>\n",
    "    <tr>\n",
    "    <td><b>Location Code</b></td>\n",
    "    <td>Location Code of Customer <b>[Categorical Variable]</b></td>\n",
    "\n",
    "  </tr>\n",
    "    <tr>\n",
    "    <td><b>Marital Status</b></td>\n",
    "    <td>Marital Status of Customer <b>[Categorical Variable]</b></td>\n",
    "\n",
    "  </tr>\n",
    "    <tr>\n",
    "    <td><b>Monthly Premium Auto</b></td>\n",
    "    <td>Monthly Premium Amount of Customers</td>\n",
    "\n",
    "  </tr>\n",
    "    <tr>\n",
    "    <td><b>Months Since Last Claim</b></td>\n",
    "    <td>Last Insurance pay of Customer</td>\n",
    "\n",
    "  </tr>\n",
    "    <tr>\n",
    "    <td><b>Months Since Policy Inception</b></td>\n",
    "    <td>Policy Inception of a Customer</td>\n",
    "\n",
    "  </tr>\n",
    "    <tr>\n",
    "    <td><b>Number of Open Complaints</b></td>\n",
    "    <td>Open Complaints of a Customer</b></td>\n",
    "\n",
    "  </tr>\n",
    "    <tr>\n",
    "    <td><b>Number of Policies</b></td>\n",
    "    <td>Number of Policies of Customer </b></td>\n",
    "\n",
    "  </tr>\n",
    "  <tr>\n",
    "    <td><b>Policy Type</b></td>\n",
    "    <td>Policy Type of Customer <b>[Categorical Variable]</b></td>\n",
    "\n",
    "  </tr>\n",
    "  <tr>\n",
    "    <td><b>Policy</b></td>\n",
    "    <td>Policy taken by Customer <b>[Categorical Variable]</b></td>\n",
    "\n",
    "  </tr>\n",
    "  <tr>\n",
    "    <td><b>Renew Offer Type</b></td>\n",
    "    <td>Renew Offers type for Customer <b>[Categorical Variable]</b></td>\n",
    "\n",
    "  </tr>\n",
    "  <tr>\n",
    "    <td><b>Sales Channel</b></td>\n",
    "    <td>Sales Channel of Customer<b>[Categorical Variable] </b></td>\n",
    "\n",
    "  </tr>\n",
    "  <tr>\n",
    "    <td><b>Total Claim Amount</b></td>\n",
    "    <td>Total Claim Amount of Customers </b></td>\n",
    "\n",
    "  </tr>\n",
    "  <tr>\n",
    "    <td><b>Vehicle Class</b></td>\n",
    "    <td>Vehicle Class of Customers <b>[Categorical Variable]</b></td>\n",
    "\n",
    "  </tr>\n",
    "  <tr>\n",
    "    <td><b>Vehicle Size</b></td>\n",
    "    <td>Vehicle Size of Customers </b></td>\n",
    "\n",
    "  </tr>\n",
    "</table>\n",
    "\n",
    "</body>\n",
    "</html>\n"
   ]
  },
  {
   "cell_type": "markdown",
   "metadata": {
    "papermill": {
     "duration": 0.046987,
     "end_time": "2020-09-11T08:50:33.356449",
     "exception": false,
     "start_time": "2020-09-11T08:50:33.309462",
     "status": "completed"
    },
    "tags": []
   },
   "source": [
    "# Import Libraries\n",
    "\n",
    "numpy        =>  Numerical Python\n",
    "\n",
    "pandas       =>  Panel Data Analysis\n",
    "\n",
    "matplotlib   =>  Mathematical Plottig Library\n",
    "\n",
    "scipy        =>  Scientific Python\n",
    "\n",
    "pyodbc       =>  Python Open DataBase Connectivity"
   ]
  },
  {
   "cell_type": "code",
   "execution_count": 6,
   "metadata": {
    "execution": {
     "iopub.execute_input": "2020-09-11T08:50:33.460646Z",
     "iopub.status.busy": "2020-09-11T08:50:33.459762Z",
     "iopub.status.idle": "2020-09-11T08:50:42.164113Z",
     "shell.execute_reply": "2020-09-11T08:50:42.164631Z"
    },
    "papermill": {
     "duration": 8.759891,
     "end_time": "2020-09-11T08:50:42.164890",
     "exception": false,
     "start_time": "2020-09-11T08:50:33.404999",
     "status": "completed"
    },
    "tags": []
   },
   "outputs": [],
   "source": [
    "import numpy as np\n",
    "import pandas as pd\n",
    "import matplotlib.pyplot as plt\n",
    "import seaborn as sns\n",
    "from scipy import stats\n",
    "from fancyimpute import KNN\n",
    "import pyodbc\n",
    "import warnings\n",
    "warnings.filterwarnings(\"ignore\")"
   ]
  },
  {
   "cell_type": "markdown",
   "metadata": {
    "papermill": {
     "duration": 0.04859,
     "end_time": "2020-09-11T08:50:42.262952",
     "exception": false,
     "start_time": "2020-09-11T08:50:42.214362",
     "status": "completed"
    },
    "tags": []
   },
   "source": [
    "# Loader Function to Load Dataframe"
   ]
  },
  {
   "cell_type": "code",
   "execution_count": 3,
   "metadata": {
    "execution": {
     "iopub.execute_input": "2020-09-11T08:50:42.362862Z",
     "iopub.status.busy": "2020-09-11T08:50:42.362199Z",
     "iopub.status.idle": "2020-09-11T08:50:42.595209Z",
     "shell.execute_reply": "2020-09-11T08:50:42.595800Z"
    },
    "papermill": {
     "duration": 0.284712,
     "end_time": "2020-09-11T08:50:42.595963",
     "exception": false,
     "start_time": "2020-09-11T08:50:42.311251",
     "status": "completed"
    },
    "tags": []
   },
   "outputs": [],
   "source": [
    "sql =\"\"\"\n",
    "SELECT * FROM CustomerLifeTimeValue\n",
    "\"\"\"\n",
    "class DataFrame_Loader_SQL:\n",
    "    def __init__(self, DRIVER,server,db,Trusted_Connection):\n",
    "        self.DRIVER = '{SQL Server}'\n",
    "        self.server = 'DESKTOP-GQDTTAA'\n",
    "        self.db = 'practice'\n",
    "        self.Trusted_Connection = 'yes'\n",
    "        \n",
    "    def read_data(self,sql):\n",
    "        conn = pyodbc.connect('DRIVER={SQL Server};SERVER='+self.server+';\\\n",
    "                              DATABASE='+self.db+';Trusted_Connection==yes')\n",
    "        self.df = pd.read_sql(sql,conn)\n",
    "        \n",
    "    def Load_Data(self):\n",
    "        return self.df"
   ]
  },
  {
   "cell_type": "code",
   "execution_count": 7,
   "metadata": {},
   "outputs": [],
   "source": [
    "sql_reader = DataFrame_Loader_SQL('{SQL Server}','DESKTOP-GQDTTAA','practice', 'yes')"
   ]
  },
  {
   "cell_type": "code",
   "execution_count": 8,
   "metadata": {},
   "outputs": [],
   "source": [
    "sql_reader.read_data(sql)"
   ]
  },
  {
   "cell_type": "code",
   "execution_count": 9,
   "metadata": {},
   "outputs": [
    {
     "data": {
      "text/html": [
       "<div>\n",
       "<style scoped>\n",
       "    .dataframe tbody tr th:only-of-type {\n",
       "        vertical-align: middle;\n",
       "    }\n",
       "\n",
       "    .dataframe tbody tr th {\n",
       "        vertical-align: top;\n",
       "    }\n",
       "\n",
       "    .dataframe thead th {\n",
       "        text-align: right;\n",
       "    }\n",
       "</style>\n",
       "<table border=\"1\" class=\"dataframe\">\n",
       "  <thead>\n",
       "    <tr style=\"text-align: right;\">\n",
       "      <th></th>\n",
       "      <th>CustomerID</th>\n",
       "      <th>Customer_Lifetime_Value</th>\n",
       "      <th>Coverage</th>\n",
       "      <th>Education</th>\n",
       "      <th>EmploymentStatus</th>\n",
       "      <th>Gender</th>\n",
       "      <th>Income</th>\n",
       "      <th>Location_Geo</th>\n",
       "      <th>Location_Code</th>\n",
       "      <th>Marital_Status</th>\n",
       "      <th>...</th>\n",
       "      <th>Months_Since_Policy_Inception</th>\n",
       "      <th>Number_of_Open_Complaints</th>\n",
       "      <th>Number_of_Policies</th>\n",
       "      <th>Policy_Type</th>\n",
       "      <th>Policy</th>\n",
       "      <th>Renew_Offer_Type</th>\n",
       "      <th>Sales_Channel</th>\n",
       "      <th>Total_Claim_Amount</th>\n",
       "      <th>Vehicle_Class</th>\n",
       "      <th>Vehicle_Size</th>\n",
       "    </tr>\n",
       "  </thead>\n",
       "  <tbody>\n",
       "    <tr>\n",
       "      <th>0</th>\n",
       "      <td>5917</td>\n",
       "      <td>7824.372789</td>\n",
       "      <td>Basic</td>\n",
       "      <td>Bachelor</td>\n",
       "      <td>Unemployed</td>\n",
       "      <td>F</td>\n",
       "      <td>0</td>\n",
       "      <td>17.7,77.7</td>\n",
       "      <td>Urban</td>\n",
       "      <td>Married</td>\n",
       "      <td>...</td>\n",
       "      <td>33</td>\n",
       "      <td>NA</td>\n",
       "      <td>2</td>\n",
       "      <td>Personal Auto</td>\n",
       "      <td>Personal L2</td>\n",
       "      <td>Offer2</td>\n",
       "      <td>Branch</td>\n",
       "      <td>267.214383</td>\n",
       "      <td>Four-Door Car</td>\n",
       "      <td>2</td>\n",
       "    </tr>\n",
       "    <tr>\n",
       "      <th>1</th>\n",
       "      <td>2057</td>\n",
       "      <td>8005.964669</td>\n",
       "      <td>Basic</td>\n",
       "      <td>College</td>\n",
       "      <td>Employed</td>\n",
       "      <td>M</td>\n",
       "      <td>63357</td>\n",
       "      <td>28.8,76.6</td>\n",
       "      <td>Suburban</td>\n",
       "      <td>Married</td>\n",
       "      <td>...</td>\n",
       "      <td>42</td>\n",
       "      <td>0</td>\n",
       "      <td>5</td>\n",
       "      <td>Personal Auto</td>\n",
       "      <td>Personal L2</td>\n",
       "      <td>Offer2</td>\n",
       "      <td>Agent</td>\n",
       "      <td>565.508572</td>\n",
       "      <td>SUV</td>\n",
       "      <td>2</td>\n",
       "    </tr>\n",
       "    <tr>\n",
       "      <th>2</th>\n",
       "      <td>4119</td>\n",
       "      <td>8646.504109</td>\n",
       "      <td>Basic</td>\n",
       "      <td>High School or Below</td>\n",
       "      <td>Employed</td>\n",
       "      <td>F</td>\n",
       "      <td>64125</td>\n",
       "      <td>21.6,88.4</td>\n",
       "      <td>Urban</td>\n",
       "      <td>Married</td>\n",
       "      <td>...</td>\n",
       "      <td>44</td>\n",
       "      <td>0</td>\n",
       "      <td>3</td>\n",
       "      <td>Personal Auto</td>\n",
       "      <td>Personal L1</td>\n",
       "      <td>Offer2</td>\n",
       "      <td>Branch</td>\n",
       "      <td>369.818708</td>\n",
       "      <td>SUV</td>\n",
       "      <td>1</td>\n",
       "    </tr>\n",
       "    <tr>\n",
       "      <th>3</th>\n",
       "      <td>1801</td>\n",
       "      <td>9294.088719</td>\n",
       "      <td>Basic</td>\n",
       "      <td>College</td>\n",
       "      <td>Employed</td>\n",
       "      <td>M</td>\n",
       "      <td>67544</td>\n",
       "      <td>19,72.5</td>\n",
       "      <td>Suburban</td>\n",
       "      <td>Married</td>\n",
       "      <td>...</td>\n",
       "      <td>15</td>\n",
       "      <td>NA</td>\n",
       "      <td>3</td>\n",
       "      <td>Corporate Auto</td>\n",
       "      <td>Corporate L3</td>\n",
       "      <td>Offer1</td>\n",
       "      <td>Branch</td>\n",
       "      <td>556.800000</td>\n",
       "      <td>SUV</td>\n",
       "      <td>3</td>\n",
       "    </tr>\n",
       "    <tr>\n",
       "      <th>4</th>\n",
       "      <td>9618</td>\n",
       "      <td>5595.971365</td>\n",
       "      <td>Basic</td>\n",
       "      <td>Bachelor</td>\n",
       "      <td>Retired</td>\n",
       "      <td>F</td>\n",
       "      <td>19651</td>\n",
       "      <td>19.1,74.7</td>\n",
       "      <td>Suburban</td>\n",
       "      <td>Married</td>\n",
       "      <td>...</td>\n",
       "      <td>68</td>\n",
       "      <td>0</td>\n",
       "      <td>5</td>\n",
       "      <td>Personal Auto</td>\n",
       "      <td>Personal L1</td>\n",
       "      <td>Offer2</td>\n",
       "      <td>Web</td>\n",
       "      <td>345.600000</td>\n",
       "      <td>Two-Door Car</td>\n",
       "      <td>3</td>\n",
       "    </tr>\n",
       "  </tbody>\n",
       "</table>\n",
       "<p>5 rows × 22 columns</p>\n",
       "</div>"
      ],
      "text/plain": [
       "   CustomerID  Customer_Lifetime_Value Coverage             Education  \\\n",
       "0        5917              7824.372789    Basic              Bachelor   \n",
       "1        2057              8005.964669    Basic               College   \n",
       "2        4119              8646.504109    Basic  High School or Below   \n",
       "3        1801              9294.088719    Basic               College   \n",
       "4        9618              5595.971365    Basic              Bachelor   \n",
       "\n",
       "  EmploymentStatus Gender Income Location_Geo Location_Code Marital_Status  \\\n",
       "0       Unemployed      F      0    17.7,77.7         Urban        Married   \n",
       "1         Employed      M  63357    28.8,76.6      Suburban        Married   \n",
       "2         Employed      F  64125    21.6,88.4         Urban        Married   \n",
       "3         Employed      M  67544      19,72.5      Suburban        Married   \n",
       "4          Retired      F  19651    19.1,74.7      Suburban        Married   \n",
       "\n",
       "   ... Months_Since_Policy_Inception Number_of_Open_Complaints  \\\n",
       "0  ...                            33                        NA   \n",
       "1  ...                            42                         0   \n",
       "2  ...                            44                         0   \n",
       "3  ...                            15                        NA   \n",
       "4  ...                            68                         0   \n",
       "\n",
       "  Number_of_Policies     Policy_Type        Policy Renew_Offer_Type  \\\n",
       "0                  2   Personal Auto   Personal L2           Offer2   \n",
       "1                  5   Personal Auto   Personal L2           Offer2   \n",
       "2                  3   Personal Auto   Personal L1           Offer2   \n",
       "3                  3  Corporate Auto  Corporate L3           Offer1   \n",
       "4                  5   Personal Auto   Personal L1           Offer2   \n",
       "\n",
       "  Sales_Channel Total_Claim_Amount  Vehicle_Class  Vehicle_Size  \n",
       "0        Branch         267.214383  Four-Door Car             2  \n",
       "1         Agent         565.508572            SUV             2  \n",
       "2        Branch         369.818708            SUV             1  \n",
       "3        Branch         556.800000            SUV             3  \n",
       "4           Web         345.600000   Two-Door Car             3  \n",
       "\n",
       "[5 rows x 22 columns]"
      ]
     },
     "execution_count": 9,
     "metadata": {},
     "output_type": "execute_result"
    }
   ],
   "source": [
    "df = sql_reader.Load_Data()\n",
    "df.head()"
   ]
  },
  {
   "cell_type": "markdown",
   "metadata": {
    "papermill": {
     "duration": 0.051224,
     "end_time": "2020-09-11T08:50:42.700643",
     "exception": false,
     "start_time": "2020-09-11T08:50:42.649419",
     "status": "completed"
    },
    "tags": []
   },
   "source": [
    "# What's the Challenge\n",
    "\n",
    "\n",
    "I wouldn't say that knowing your data is the most difficult thing in data science, but it is time-consuming. Therefore, it's easy to overlook this initial step and jump too soon into the water.\n",
    "\n",
    "\n",
    "**Understand the problem :-**\n",
    "\n",
    "          We'll look at each variable and do a philosophical analysis about their meaning and importance for this problem.\n",
    "**Univariable study      :-**\n",
    "\n",
    "          We'll just focus on the dependent variable ('CLV') and try to know a little bit more about it.\n",
    "**Multivariate study     :-**\n",
    "\n",
    "          We'll try to understand how the dependent variable and independent variables relate.\n",
    "**Basic cleaning         :-**\n",
    "\n",
    "          We'll clean the dataset and handle the missing data, outliers and categorical variables.\n",
    "**Doing All with Function       :-**\n",
    "\n",
    "          We'll check some of the satistical Analysis by creating some Customized function, to make the analysis what we want.\n"
   ]
  },
  {
   "cell_type": "markdown",
   "metadata": {
    "papermill": {
     "duration": 0.05207,
     "end_time": "2020-09-11T08:50:42.802970",
     "exception": false,
     "start_time": "2020-09-11T08:50:42.750900",
     "status": "completed"
    },
    "tags": []
   },
   "source": [
    "# Exploratory Data Analysis"
   ]
  },
  {
   "cell_type": "code",
   "execution_count": 3,
   "metadata": {
    "execution": {
     "iopub.execute_input": "2020-09-11T08:50:42.915320Z",
     "iopub.status.busy": "2020-09-11T08:50:42.914030Z",
     "iopub.status.idle": "2020-09-11T08:50:42.958775Z",
     "shell.execute_reply": "2020-09-11T08:50:42.958071Z"
    },
    "papermill": {
     "duration": 0.105482,
     "end_time": "2020-09-11T08:50:42.958923",
     "exception": false,
     "start_time": "2020-09-11T08:50:42.853441",
     "status": "completed"
    },
    "tags": []
   },
   "outputs": [],
   "source": [
    "class Attribute_Information():\n",
    "    \n",
    "\n",
    "    def __init__(self):\n",
    "        \n",
    "        print(\"Attribute Information object created\")\n",
    "        \n",
    "        \n",
    "        \n",
    "    def Column_information(self,df):\n",
    "        \n",
    "        \"\"\"\n",
    "        This method will give us a basic\n",
    "        information of the dataframe like\n",
    "        Count of Attributes,Count of rows,\n",
    "        Numerical Attributes, Categorical \n",
    "        Attributes, Factor Attributes etc..\n",
    "        \"\"\"\n",
    "    \n",
    "        data_info = pd.DataFrame(\n",
    "                                columns=['No of observation',\n",
    "                                        'No of Variables',\n",
    "                                        'No of Numerical Variables',\n",
    "                                        'No of Factor Variables',\n",
    "                                        'No of Categorical Variables',\n",
    "                                        'No of Logical Variables',\n",
    "                                        'No of Date Variables',\n",
    "                                        'No of zero variance variables'])\n",
    "\n",
    "\n",
    "        data_info.loc[0,'No of observation'] = df.shape[0]\n",
    "        data_info.loc[0,'No of Variables'] = df.shape[1]\n",
    "        data_info.loc[0,'No of Numerical Variables'] = df._get_numeric_data().shape[1]\n",
    "        data_info.loc[0,'No of Factor Variables'] = df.select_dtypes(include='category').shape[1]\n",
    "        data_info.loc[0,'No of Logical Variables'] = df.select_dtypes(include='bool').shape[1]\n",
    "        data_info.loc[0,'No of Categorical Variables'] = df.select_dtypes(include='object').shape[1]\n",
    "        data_info.loc[0,'No of Date Variables'] = df.select_dtypes(include='datetime64').shape[1]\n",
    "        data_info.loc[0,'No of zero variance variables'] = df.loc[:,df.apply(pd.Series.nunique)==1].shape[1]\n",
    "\n",
    "        data_info =data_info.transpose()\n",
    "        data_info.columns=['value']\n",
    "        data_info['value'] = data_info['value'].astype(int)\n",
    "\n",
    "\n",
    "        return data_info\n",
    "\n",
    "    def __get_missing_values(self,data):\n",
    "        \n",
    "        \"\"\"\n",
    "        It is a Private method, so it cannot \n",
    "        be accessed by object outside the \n",
    "        class. This function will give us \n",
    "        a basic information like count \n",
    "        of missing values\n",
    "        \"\"\"\n",
    "        \n",
    "        #Getting sum of missing values for each feature\n",
    "        missing_values = data.isnull().sum()\n",
    "        #Feature missing values are sorted from few to many\n",
    "        missing_values.sort_values(ascending=False, inplace=True)\n",
    "        \n",
    "        #Returning missing values\n",
    "        return missing_values\n",
    "\n",
    "    def Generate_Schema(self,data):\n",
    "        \n",
    "        \n",
    "        \"\"\"\n",
    "        This method will gives you a \n",
    "        overall schema of dataframe with\n",
    "        Attributes names,types,missing \n",
    "        values and sample observations\n",
    "        \"\"\"\n",
    "        \n",
    "        feature_dtypes=data.dtypes\n",
    "        self.missing_values=self.__get_missing_values(data)\n",
    "\n",
    "        print(\"=\" * 110)\n",
    "\n",
    "        print(\"{:16} {:16} {:20} {:16}\".format(\"Feature Name\".upper(),\n",
    "                                            \"Data Type\".upper(),\n",
    "                                            \"# of Missing Values\".upper(),\n",
    "                                            \"Samples\".upper()))\n",
    "        for feature_name, dtype, missing_value in zip(self.missing_values.index.values,\n",
    "                                                      feature_dtypes[self.missing_values.index.values],\n",
    "                                                      self.missing_values.values):\n",
    "            print(\"{:18} {:19} {:19} \".format(feature_name, str(dtype), str(missing_value)), end=\"\")\n",
    "            for v in data[feature_name].values[:5]:\n",
    "                print(v, end=\",\")\n",
    "            print()\n",
    "\n",
    "        print(\"=\"*110)\n",
    "        \n",
    "    def Agg_Tabulation(self,data):\n",
    "        \n",
    "        \n",
    "        \"\"\"\n",
    "        This method is a extension of \n",
    "        schema will gives the aditional \n",
    "        information about the data\n",
    "        like Entropy value, Missing \n",
    "        Value Percentage and some observations\n",
    "        \"\"\"\n",
    "        \n",
    "        print(\"=\" * 110)\n",
    "        print(\"Aggregation of Table\")\n",
    "        print(\"=\" * 110)\n",
    "        table = pd.DataFrame(data.dtypes,columns=['dtypes'])\n",
    "        table1 =pd.DataFrame(data.columns,columns=['Names'])\n",
    "        table = table.reset_index()\n",
    "        table= table.rename(columns={'index':'Name'})\n",
    "        table['No of Missing'] = data.isnull().sum().values    \n",
    "        table['No of Uniques'] = data.nunique().values\n",
    "        table['Percent of Missing'] = ((data.isnull().sum().values)/ (data.shape[0])) *100\n",
    "        table['First Observation'] = data.loc[0].values\n",
    "        table['Second Observation'] = data.loc[1].values\n",
    "        table['Third Observation'] = data.loc[2].values\n",
    "        for name in table['Name'].value_counts().index:\n",
    "            table.loc[table['Name'] == name, 'Entropy'] = round(stats.entropy(data[name].value_counts(normalize=True), base=2),2)\n",
    "        return table\n",
    "    \n",
    "        print(\"=\" * 110)\n",
    "        \n",
    "    def __iqr(self,x):\n",
    "        \n",
    "        \n",
    "        \"\"\"\n",
    "        It is a private method which \n",
    "        returns you interquartile Range\n",
    "        \"\"\"\n",
    "        return x.quantile(q=0.75) - x.quantile(q=0.25)\n",
    "\n",
    "    def __outlier_count(self,x):\n",
    "        \n",
    "        \n",
    "        \"\"\"\n",
    "        It is a private method which \n",
    "        returns you outlier present\n",
    "        in the interquartile Range\n",
    "        \"\"\"\n",
    "        upper_out = x.quantile(q=0.75) + 1.5 * self.__iqr(x)\n",
    "        lower_out = x.quantile(q=0.25) - 1.5 * self.__iqr(x)\n",
    "        return len(x[x > upper_out]) + len(x[x < lower_out])\n",
    "\n",
    "    def num_count_summary(self,df):\n",
    "        \n",
    "        \n",
    "        \"\"\"\n",
    "        This method will returns \n",
    "        you the information about\n",
    "        numerical attributes like\n",
    "        Positive values,Negative Values\n",
    "        Unique count, Zero count \n",
    "        positive and negative inf-\n",
    "        nity count and count of outliers\n",
    "        etc \n",
    "        \n",
    "        \"\"\"\n",
    "        \n",
    "        df_num = df._get_numeric_data()\n",
    "        data_info_num = pd.DataFrame()\n",
    "        i=0\n",
    "        for c in  df_num.columns:\n",
    "            data_info_num.loc[c,'Negative values count']= df_num[df_num[c]<0].shape[0]\n",
    "            data_info_num.loc[c,'Positive values count']= df_num[df_num[c]>0].shape[0]\n",
    "            data_info_num.loc[c,'Zero count']= df_num[df_num[c]==0].shape[0]\n",
    "            data_info_num.loc[c,'Unique count']= len(df_num[c].unique())\n",
    "            data_info_num.loc[c,'Negative Infinity count']= df_num[df_num[c]== -np.inf].shape[0]\n",
    "            data_info_num.loc[c,'Positive Infinity count']= df_num[df_num[c]== np.inf].shape[0]\n",
    "            data_info_num.loc[c,'Missing Percentage']= df_num[df_num[c].isnull()].shape[0]/ df_num.shape[0]\n",
    "            data_info_num.loc[c,'Count of outliers']= self.__outlier_count(df_num[c])\n",
    "            i = i+1\n",
    "        return data_info_num\n",
    "    \n",
    "    def statistical_summary(self,df):\n",
    "        \n",
    "        \n",
    "        \"\"\"\n",
    "        This method will returns \n",
    "        you the varoius percentile\n",
    "        of the data including count \n",
    "        and mean\n",
    "        \"\"\"\n",
    "    \n",
    "        df_num = df._get_numeric_data()\n",
    "\n",
    "        data_stat_num = pd.DataFrame()\n",
    "\n",
    "        try:\n",
    "            data_stat_num = pd.concat([df_num.describe().transpose(),\n",
    "                                       pd.DataFrame(df_num.quantile(q=0.10)),\n",
    "                                       pd.DataFrame(df_num.quantile(q=0.90)),\n",
    "                                       pd.DataFrame(df_num.quantile(q=0.95))],axis=1)\n",
    "            data_stat_num.columns = ['count','mean','std','min','25%','50%','75%','max','10%','90%','95%']\n",
    "        except:\n",
    "            pass\n",
    "\n",
    "        return data_stat_num"
   ]
  },
  {
   "cell_type": "code",
   "execution_count": 4,
   "metadata": {
    "execution": {
     "iopub.execute_input": "2020-09-11T08:50:43.066354Z",
     "iopub.status.busy": "2020-09-11T08:50:43.065171Z",
     "iopub.status.idle": "2020-09-11T08:50:43.068948Z",
     "shell.execute_reply": "2020-09-11T08:50:43.069472Z"
    },
    "papermill": {
     "duration": 0.059939,
     "end_time": "2020-09-11T08:50:43.069627",
     "exception": false,
     "start_time": "2020-09-11T08:50:43.009688",
     "status": "completed"
    },
    "tags": []
   },
   "outputs": [
    {
     "name": "stdout",
     "output_type": "stream",
     "text": [
      "Attribute Information object created\n"
     ]
    }
   ],
   "source": [
    "Info = Attribute_Information()"
   ]
  },
  {
   "cell_type": "code",
   "execution_count": 5,
   "metadata": {
    "execution": {
     "iopub.execute_input": "2020-09-11T08:50:43.183185Z",
     "iopub.status.busy": "2020-09-11T08:50:43.182420Z",
     "iopub.status.idle": "2020-09-11T08:50:43.257917Z",
     "shell.execute_reply": "2020-09-11T08:50:43.258394Z"
    },
    "papermill": {
     "duration": 0.138965,
     "end_time": "2020-09-11T08:50:43.258545",
     "exception": false,
     "start_time": "2020-09-11T08:50:43.119580",
     "status": "completed"
    },
    "tags": []
   },
   "outputs": [
    {
     "data": {
      "text/html": [
       "<div>\n",
       "<style scoped>\n",
       "    .dataframe tbody tr th:only-of-type {\n",
       "        vertical-align: middle;\n",
       "    }\n",
       "\n",
       "    .dataframe tbody tr th {\n",
       "        vertical-align: top;\n",
       "    }\n",
       "\n",
       "    .dataframe thead th {\n",
       "        text-align: right;\n",
       "    }\n",
       "</style>\n",
       "<table border=\"1\" class=\"dataframe\">\n",
       "  <thead>\n",
       "    <tr style=\"text-align: right;\">\n",
       "      <th></th>\n",
       "      <th>value</th>\n",
       "    </tr>\n",
       "  </thead>\n",
       "  <tbody>\n",
       "    <tr>\n",
       "      <th>No of observation</th>\n",
       "      <td>9806</td>\n",
       "    </tr>\n",
       "    <tr>\n",
       "      <th>No of Variables</th>\n",
       "      <td>22</td>\n",
       "    </tr>\n",
       "    <tr>\n",
       "      <th>No of Numerical Variables</th>\n",
       "      <td>9</td>\n",
       "    </tr>\n",
       "    <tr>\n",
       "      <th>No of Factor Variables</th>\n",
       "      <td>0</td>\n",
       "    </tr>\n",
       "    <tr>\n",
       "      <th>No of Categorical Variables</th>\n",
       "      <td>13</td>\n",
       "    </tr>\n",
       "    <tr>\n",
       "      <th>No of Logical Variables</th>\n",
       "      <td>0</td>\n",
       "    </tr>\n",
       "    <tr>\n",
       "      <th>No of Date Variables</th>\n",
       "      <td>0</td>\n",
       "    </tr>\n",
       "    <tr>\n",
       "      <th>No of zero variance variables</th>\n",
       "      <td>0</td>\n",
       "    </tr>\n",
       "  </tbody>\n",
       "</table>\n",
       "</div>"
      ],
      "text/plain": [
       "                               value\n",
       "No of observation               9806\n",
       "No of Variables                   22\n",
       "No of Numerical Variables          9\n",
       "No of Factor Variables             0\n",
       "No of Categorical Variables       13\n",
       "No of Logical Variables            0\n",
       "No of Date Variables               0\n",
       "No of zero variance variables      0"
      ]
     },
     "execution_count": 5,
     "metadata": {},
     "output_type": "execute_result"
    }
   ],
   "source": [
    "Info.Column_information(df)"
   ]
  },
  {
   "cell_type": "code",
   "execution_count": 6,
   "metadata": {
    "execution": {
     "iopub.execute_input": "2020-09-11T08:50:43.364456Z",
     "iopub.status.busy": "2020-09-11T08:50:43.363761Z",
     "iopub.status.idle": "2020-09-11T08:50:43.405370Z",
     "shell.execute_reply": "2020-09-11T08:50:43.404758Z"
    },
    "papermill": {
     "duration": 0.095548,
     "end_time": "2020-09-11T08:50:43.405500",
     "exception": false,
     "start_time": "2020-09-11T08:50:43.309952",
     "status": "completed"
    },
    "tags": []
   },
   "outputs": [
    {
     "name": "stdout",
     "output_type": "stream",
     "text": [
      "==============================================================================================================\n",
      "FEATURE NAME     DATA TYPE        # OF MISSING VALUES  SAMPLES         \n",
      "Coverage           object              925                 Basic,Basic,Basic,Basic,Basic,\n",
      "Policy.Type        object              891                 Personal Auto,Personal Auto,Personal Auto,Corporate Auto,Personal Auto,\n",
      "Number.of.Open.Complaints float64             818                 nan,0.0,0.0,nan,0.0,\n",
      "Monthly.Premium.Auto float64             794                 67.0,101.0,108.0,116.0,72.0,\n",
      "Education          object              129                 Bachelor,College,High School or Below,College,Bachelor,\n",
      "Gender             object              129                 F,M,F,M,F,\n",
      "Marital.Status     object              129                 Married,Married,Married,Married,Married,\n",
      "Sales.Channel      object              128                 Branch,Agent,Branch,Branch,Web,\n",
      "Renew.Offer.Type   object              128                 Offer2,Offer2,Offer2,Offer1,Offer2,\n",
      "Vehicle.Class      object              126                 Four-Door Car,SUV,SUV,SUV,Two-Door Car,\n",
      "Vehicle.Size       float64             126                 2.0,2.0,1.0,3.0,3.0,\n",
      "Number.of.Policies float64             121                 2.0,5.0,3.0,3.0,5.0,\n",
      "Policy             object              121                 Personal L2,Personal L2,Personal L1,Corporate L3,Personal L1,\n",
      "Location.Code      object              119                 Urban,Suburban,Urban,Suburban,Suburban,\n",
      "EmploymentStatus   object              118                 Unemployed,Employed,Employed,Employed,Retired,\n",
      "Months.Since.Last.Claim int64               0                   2,26,3,2,3,\n",
      "Months.Since.Policy.Inception int64               0                   33,42,44,15,68,\n",
      "Location.Geo       object              0                   17.7,77.7,28.8,76.6,21.6,88.4,19,72.5,19.1,74.7,\n",
      "Income             object              0                   0,63357,64125,67544,19651,\n",
      "Total.Claim.Amount float64             0                   267.214383,565.508572,369.818708,556.8,345.6,\n",
      "Customer.Lifetime.Value float64             0                   7824.372789,8005.964669,8646.504109,9294.088719,5595.971364999999,\n",
      "CustomerID         int64               0                   5917,2057,4119,1801,9618,\n",
      "==============================================================================================================\n"
     ]
    }
   ],
   "source": [
    "Info.Generate_Schema(df)"
   ]
  },
  {
   "cell_type": "code",
   "execution_count": 7,
   "metadata": {
    "execution": {
     "iopub.execute_input": "2020-09-11T08:50:43.546506Z",
     "iopub.status.busy": "2020-09-11T08:50:43.532036Z",
     "iopub.status.idle": "2020-09-11T08:50:43.712619Z",
     "shell.execute_reply": "2020-09-11T08:50:43.711501Z"
    },
    "papermill": {
     "duration": 0.246702,
     "end_time": "2020-09-11T08:50:43.712759",
     "exception": false,
     "start_time": "2020-09-11T08:50:43.466057",
     "status": "completed"
    },
    "tags": []
   },
   "outputs": [
    {
     "name": "stdout",
     "output_type": "stream",
     "text": [
      "==============================================================================================================\n",
      "Aggregation of Table\n",
      "==============================================================================================================\n"
     ]
    },
    {
     "data": {
      "text/html": [
       "<div>\n",
       "<style scoped>\n",
       "    .dataframe tbody tr th:only-of-type {\n",
       "        vertical-align: middle;\n",
       "    }\n",
       "\n",
       "    .dataframe tbody tr th {\n",
       "        vertical-align: top;\n",
       "    }\n",
       "\n",
       "    .dataframe thead th {\n",
       "        text-align: right;\n",
       "    }\n",
       "</style>\n",
       "<table border=\"1\" class=\"dataframe\">\n",
       "  <thead>\n",
       "    <tr style=\"text-align: right;\">\n",
       "      <th></th>\n",
       "      <th>Name</th>\n",
       "      <th>dtypes</th>\n",
       "      <th>No of Missing</th>\n",
       "      <th>No of Uniques</th>\n",
       "      <th>Percent of Missing</th>\n",
       "      <th>First Observation</th>\n",
       "      <th>Second Observation</th>\n",
       "      <th>Third Observation</th>\n",
       "      <th>Entropy</th>\n",
       "    </tr>\n",
       "  </thead>\n",
       "  <tbody>\n",
       "    <tr>\n",
       "      <th>0</th>\n",
       "      <td>CustomerID</td>\n",
       "      <td>int64</td>\n",
       "      <td>0</td>\n",
       "      <td>9806</td>\n",
       "      <td>0.000000</td>\n",
       "      <td>5917</td>\n",
       "      <td>2057</td>\n",
       "      <td>4119</td>\n",
       "      <td>13.26</td>\n",
       "    </tr>\n",
       "    <tr>\n",
       "      <th>1</th>\n",
       "      <td>Customer.Lifetime.Value</td>\n",
       "      <td>float64</td>\n",
       "      <td>0</td>\n",
       "      <td>6477</td>\n",
       "      <td>0.000000</td>\n",
       "      <td>7824.37</td>\n",
       "      <td>8005.96</td>\n",
       "      <td>8646.5</td>\n",
       "      <td>12.40</td>\n",
       "    </tr>\n",
       "    <tr>\n",
       "      <th>2</th>\n",
       "      <td>Coverage</td>\n",
       "      <td>object</td>\n",
       "      <td>925</td>\n",
       "      <td>3</td>\n",
       "      <td>9.433000</td>\n",
       "      <td>Basic</td>\n",
       "      <td>Basic</td>\n",
       "      <td>Basic</td>\n",
       "      <td>1.28</td>\n",
       "    </tr>\n",
       "    <tr>\n",
       "      <th>3</th>\n",
       "      <td>Education</td>\n",
       "      <td>object</td>\n",
       "      <td>129</td>\n",
       "      <td>5</td>\n",
       "      <td>1.315521</td>\n",
       "      <td>Bachelor</td>\n",
       "      <td>College</td>\n",
       "      <td>High School or Below</td>\n",
       "      <td>2.02</td>\n",
       "    </tr>\n",
       "    <tr>\n",
       "      <th>4</th>\n",
       "      <td>EmploymentStatus</td>\n",
       "      <td>object</td>\n",
       "      <td>118</td>\n",
       "      <td>5</td>\n",
       "      <td>1.203345</td>\n",
       "      <td>Unemployed</td>\n",
       "      <td>Employed</td>\n",
       "      <td>Employed</td>\n",
       "      <td>1.50</td>\n",
       "    </tr>\n",
       "    <tr>\n",
       "      <th>5</th>\n",
       "      <td>Gender</td>\n",
       "      <td>object</td>\n",
       "      <td>129</td>\n",
       "      <td>2</td>\n",
       "      <td>1.315521</td>\n",
       "      <td>F</td>\n",
       "      <td>M</td>\n",
       "      <td>F</td>\n",
       "      <td>1.00</td>\n",
       "    </tr>\n",
       "    <tr>\n",
       "      <th>6</th>\n",
       "      <td>Income</td>\n",
       "      <td>object</td>\n",
       "      <td>0</td>\n",
       "      <td>4622</td>\n",
       "      <td>0.000000</td>\n",
       "      <td>0</td>\n",
       "      <td>63357</td>\n",
       "      <td>64125</td>\n",
       "      <td>9.67</td>\n",
       "    </tr>\n",
       "    <tr>\n",
       "      <th>7</th>\n",
       "      <td>Location.Geo</td>\n",
       "      <td>object</td>\n",
       "      <td>0</td>\n",
       "      <td>2840</td>\n",
       "      <td>0.000000</td>\n",
       "      <td>17.7,77.7</td>\n",
       "      <td>28.8,76.6</td>\n",
       "      <td>21.6,88.4</td>\n",
       "      <td>10.91</td>\n",
       "    </tr>\n",
       "    <tr>\n",
       "      <th>8</th>\n",
       "      <td>Location.Code</td>\n",
       "      <td>object</td>\n",
       "      <td>119</td>\n",
       "      <td>3</td>\n",
       "      <td>1.213543</td>\n",
       "      <td>Urban</td>\n",
       "      <td>Suburban</td>\n",
       "      <td>Urban</td>\n",
       "      <td>1.30</td>\n",
       "    </tr>\n",
       "    <tr>\n",
       "      <th>9</th>\n",
       "      <td>Marital.Status</td>\n",
       "      <td>object</td>\n",
       "      <td>129</td>\n",
       "      <td>3</td>\n",
       "      <td>1.315521</td>\n",
       "      <td>Married</td>\n",
       "      <td>Married</td>\n",
       "      <td>Married</td>\n",
       "      <td>1.37</td>\n",
       "    </tr>\n",
       "    <tr>\n",
       "      <th>10</th>\n",
       "      <td>Monthly.Premium.Auto</td>\n",
       "      <td>float64</td>\n",
       "      <td>794</td>\n",
       "      <td>191</td>\n",
       "      <td>8.097083</td>\n",
       "      <td>67</td>\n",
       "      <td>101</td>\n",
       "      <td>108</td>\n",
       "      <td>6.26</td>\n",
       "    </tr>\n",
       "    <tr>\n",
       "      <th>11</th>\n",
       "      <td>Months.Since.Last.Claim</td>\n",
       "      <td>int64</td>\n",
       "      <td>0</td>\n",
       "      <td>36</td>\n",
       "      <td>0.000000</td>\n",
       "      <td>2</td>\n",
       "      <td>26</td>\n",
       "      <td>3</td>\n",
       "      <td>5.12</td>\n",
       "    </tr>\n",
       "    <tr>\n",
       "      <th>12</th>\n",
       "      <td>Months.Since.Policy.Inception</td>\n",
       "      <td>int64</td>\n",
       "      <td>0</td>\n",
       "      <td>100</td>\n",
       "      <td>0.000000</td>\n",
       "      <td>33</td>\n",
       "      <td>42</td>\n",
       "      <td>44</td>\n",
       "      <td>6.62</td>\n",
       "    </tr>\n",
       "    <tr>\n",
       "      <th>13</th>\n",
       "      <td>Number.of.Open.Complaints</td>\n",
       "      <td>float64</td>\n",
       "      <td>818</td>\n",
       "      <td>6</td>\n",
       "      <td>8.341832</td>\n",
       "      <td>NaN</td>\n",
       "      <td>0</td>\n",
       "      <td>0</td>\n",
       "      <td>1.10</td>\n",
       "    </tr>\n",
       "    <tr>\n",
       "      <th>14</th>\n",
       "      <td>Number.of.Policies</td>\n",
       "      <td>float64</td>\n",
       "      <td>121</td>\n",
       "      <td>9</td>\n",
       "      <td>1.233938</td>\n",
       "      <td>2</td>\n",
       "      <td>5</td>\n",
       "      <td>3</td>\n",
       "      <td>2.60</td>\n",
       "    </tr>\n",
       "    <tr>\n",
       "      <th>15</th>\n",
       "      <td>Policy.Type</td>\n",
       "      <td>object</td>\n",
       "      <td>891</td>\n",
       "      <td>3</td>\n",
       "      <td>9.086274</td>\n",
       "      <td>Personal Auto</td>\n",
       "      <td>Personal Auto</td>\n",
       "      <td>Personal Auto</td>\n",
       "      <td>0.99</td>\n",
       "    </tr>\n",
       "    <tr>\n",
       "      <th>16</th>\n",
       "      <td>Policy</td>\n",
       "      <td>object</td>\n",
       "      <td>121</td>\n",
       "      <td>9</td>\n",
       "      <td>1.233938</td>\n",
       "      <td>Personal L2</td>\n",
       "      <td>Personal L2</td>\n",
       "      <td>Personal L1</td>\n",
       "      <td>2.46</td>\n",
       "    </tr>\n",
       "    <tr>\n",
       "      <th>17</th>\n",
       "      <td>Renew.Offer.Type</td>\n",
       "      <td>object</td>\n",
       "      <td>128</td>\n",
       "      <td>4</td>\n",
       "      <td>1.305323</td>\n",
       "      <td>Offer2</td>\n",
       "      <td>Offer2</td>\n",
       "      <td>Offer2</td>\n",
       "      <td>1.83</td>\n",
       "    </tr>\n",
       "    <tr>\n",
       "      <th>18</th>\n",
       "      <td>Sales.Channel</td>\n",
       "      <td>object</td>\n",
       "      <td>128</td>\n",
       "      <td>4</td>\n",
       "      <td>1.305323</td>\n",
       "      <td>Branch</td>\n",
       "      <td>Agent</td>\n",
       "      <td>Branch</td>\n",
       "      <td>1.91</td>\n",
       "    </tr>\n",
       "    <tr>\n",
       "      <th>19</th>\n",
       "      <td>Total.Claim.Amount</td>\n",
       "      <td>float64</td>\n",
       "      <td>0</td>\n",
       "      <td>4125</td>\n",
       "      <td>0.000000</td>\n",
       "      <td>267.214</td>\n",
       "      <td>565.509</td>\n",
       "      <td>369.819</td>\n",
       "      <td>10.66</td>\n",
       "    </tr>\n",
       "    <tr>\n",
       "      <th>20</th>\n",
       "      <td>Vehicle.Class</td>\n",
       "      <td>object</td>\n",
       "      <td>126</td>\n",
       "      <td>6</td>\n",
       "      <td>1.284928</td>\n",
       "      <td>Four-Door Car</td>\n",
       "      <td>SUV</td>\n",
       "      <td>SUV</td>\n",
       "      <td>1.88</td>\n",
       "    </tr>\n",
       "    <tr>\n",
       "      <th>21</th>\n",
       "      <td>Vehicle.Size</td>\n",
       "      <td>float64</td>\n",
       "      <td>126</td>\n",
       "      <td>3</td>\n",
       "      <td>1.284928</td>\n",
       "      <td>2</td>\n",
       "      <td>2</td>\n",
       "      <td>1</td>\n",
       "      <td>1.16</td>\n",
       "    </tr>\n",
       "  </tbody>\n",
       "</table>\n",
       "</div>"
      ],
      "text/plain": [
       "                             Name   dtypes  No of Missing  No of Uniques  \\\n",
       "0                      CustomerID    int64              0           9806   \n",
       "1         Customer.Lifetime.Value  float64              0           6477   \n",
       "2                        Coverage   object            925              3   \n",
       "3                       Education   object            129              5   \n",
       "4                EmploymentStatus   object            118              5   \n",
       "5                          Gender   object            129              2   \n",
       "6                          Income   object              0           4622   \n",
       "7                    Location.Geo   object              0           2840   \n",
       "8                   Location.Code   object            119              3   \n",
       "9                  Marital.Status   object            129              3   \n",
       "10           Monthly.Premium.Auto  float64            794            191   \n",
       "11        Months.Since.Last.Claim    int64              0             36   \n",
       "12  Months.Since.Policy.Inception    int64              0            100   \n",
       "13      Number.of.Open.Complaints  float64            818              6   \n",
       "14             Number.of.Policies  float64            121              9   \n",
       "15                    Policy.Type   object            891              3   \n",
       "16                         Policy   object            121              9   \n",
       "17               Renew.Offer.Type   object            128              4   \n",
       "18                  Sales.Channel   object            128              4   \n",
       "19             Total.Claim.Amount  float64              0           4125   \n",
       "20                  Vehicle.Class   object            126              6   \n",
       "21                   Vehicle.Size  float64            126              3   \n",
       "\n",
       "    Percent of Missing First Observation Second Observation  \\\n",
       "0             0.000000              5917               2057   \n",
       "1             0.000000           7824.37            8005.96   \n",
       "2             9.433000             Basic              Basic   \n",
       "3             1.315521          Bachelor            College   \n",
       "4             1.203345        Unemployed           Employed   \n",
       "5             1.315521                 F                  M   \n",
       "6             0.000000                 0              63357   \n",
       "7             0.000000         17.7,77.7          28.8,76.6   \n",
       "8             1.213543             Urban           Suburban   \n",
       "9             1.315521           Married            Married   \n",
       "10            8.097083                67                101   \n",
       "11            0.000000                 2                 26   \n",
       "12            0.000000                33                 42   \n",
       "13            8.341832               NaN                  0   \n",
       "14            1.233938                 2                  5   \n",
       "15            9.086274     Personal Auto      Personal Auto   \n",
       "16            1.233938       Personal L2        Personal L2   \n",
       "17            1.305323            Offer2             Offer2   \n",
       "18            1.305323            Branch              Agent   \n",
       "19            0.000000           267.214            565.509   \n",
       "20            1.284928     Four-Door Car                SUV   \n",
       "21            1.284928                 2                  2   \n",
       "\n",
       "       Third Observation  Entropy  \n",
       "0                   4119    13.26  \n",
       "1                 8646.5    12.40  \n",
       "2                  Basic     1.28  \n",
       "3   High School or Below     2.02  \n",
       "4               Employed     1.50  \n",
       "5                      F     1.00  \n",
       "6                  64125     9.67  \n",
       "7              21.6,88.4    10.91  \n",
       "8                  Urban     1.30  \n",
       "9                Married     1.37  \n",
       "10                   108     6.26  \n",
       "11                     3     5.12  \n",
       "12                    44     6.62  \n",
       "13                     0     1.10  \n",
       "14                     3     2.60  \n",
       "15         Personal Auto     0.99  \n",
       "16           Personal L1     2.46  \n",
       "17                Offer2     1.83  \n",
       "18                Branch     1.91  \n",
       "19               369.819    10.66  \n",
       "20                   SUV     1.88  \n",
       "21                     1     1.16  "
      ]
     },
     "execution_count": 7,
     "metadata": {},
     "output_type": "execute_result"
    }
   ],
   "source": [
    "Info.Agg_Tabulation(df)"
   ]
  },
  {
   "cell_type": "code",
   "execution_count": 8,
   "metadata": {
    "execution": {
     "iopub.execute_input": "2020-09-11T08:50:43.830400Z",
     "iopub.status.busy": "2020-09-11T08:50:43.829680Z",
     "iopub.status.idle": "2020-09-11T08:50:43.971818Z",
     "shell.execute_reply": "2020-09-11T08:50:43.971167Z"
    },
    "papermill": {
     "duration": 0.205263,
     "end_time": "2020-09-11T08:50:43.971941",
     "exception": false,
     "start_time": "2020-09-11T08:50:43.766678",
     "status": "completed"
    },
    "tags": []
   },
   "outputs": [
    {
     "data": {
      "text/html": [
       "<div>\n",
       "<style scoped>\n",
       "    .dataframe tbody tr th:only-of-type {\n",
       "        vertical-align: middle;\n",
       "    }\n",
       "\n",
       "    .dataframe tbody tr th {\n",
       "        vertical-align: top;\n",
       "    }\n",
       "\n",
       "    .dataframe thead th {\n",
       "        text-align: right;\n",
       "    }\n",
       "</style>\n",
       "<table border=\"1\" class=\"dataframe\">\n",
       "  <thead>\n",
       "    <tr style=\"text-align: right;\">\n",
       "      <th></th>\n",
       "      <th>Negative values count</th>\n",
       "      <th>Positive values count</th>\n",
       "      <th>Zero count</th>\n",
       "      <th>Unique count</th>\n",
       "      <th>Negative Infinity count</th>\n",
       "      <th>Positive Infinity count</th>\n",
       "      <th>Missing Percentage</th>\n",
       "      <th>Count of outliers</th>\n",
       "    </tr>\n",
       "  </thead>\n",
       "  <tbody>\n",
       "    <tr>\n",
       "      <th>CustomerID</th>\n",
       "      <td>0.0</td>\n",
       "      <td>9806.0</td>\n",
       "      <td>0.0</td>\n",
       "      <td>9806.0</td>\n",
       "      <td>0.0</td>\n",
       "      <td>0.0</td>\n",
       "      <td>0.000000</td>\n",
       "      <td>0.0</td>\n",
       "    </tr>\n",
       "    <tr>\n",
       "      <th>Customer.Lifetime.Value</th>\n",
       "      <td>0.0</td>\n",
       "      <td>9806.0</td>\n",
       "      <td>0.0</td>\n",
       "      <td>6477.0</td>\n",
       "      <td>0.0</td>\n",
       "      <td>0.0</td>\n",
       "      <td>0.000000</td>\n",
       "      <td>883.0</td>\n",
       "    </tr>\n",
       "    <tr>\n",
       "      <th>Monthly.Premium.Auto</th>\n",
       "      <td>0.0</td>\n",
       "      <td>9012.0</td>\n",
       "      <td>0.0</td>\n",
       "      <td>192.0</td>\n",
       "      <td>0.0</td>\n",
       "      <td>0.0</td>\n",
       "      <td>0.080971</td>\n",
       "      <td>432.0</td>\n",
       "    </tr>\n",
       "    <tr>\n",
       "      <th>Months.Since.Last.Claim</th>\n",
       "      <td>0.0</td>\n",
       "      <td>9510.0</td>\n",
       "      <td>296.0</td>\n",
       "      <td>36.0</td>\n",
       "      <td>0.0</td>\n",
       "      <td>0.0</td>\n",
       "      <td>0.000000</td>\n",
       "      <td>0.0</td>\n",
       "    </tr>\n",
       "    <tr>\n",
       "      <th>Months.Since.Policy.Inception</th>\n",
       "      <td>0.0</td>\n",
       "      <td>9712.0</td>\n",
       "      <td>94.0</td>\n",
       "      <td>100.0</td>\n",
       "      <td>0.0</td>\n",
       "      <td>0.0</td>\n",
       "      <td>0.000000</td>\n",
       "      <td>0.0</td>\n",
       "    </tr>\n",
       "    <tr>\n",
       "      <th>Number.of.Open.Complaints</th>\n",
       "      <td>0.0</td>\n",
       "      <td>1858.0</td>\n",
       "      <td>7130.0</td>\n",
       "      <td>7.0</td>\n",
       "      <td>0.0</td>\n",
       "      <td>0.0</td>\n",
       "      <td>0.083418</td>\n",
       "      <td>1858.0</td>\n",
       "    </tr>\n",
       "    <tr>\n",
       "      <th>Number.of.Policies</th>\n",
       "      <td>0.0</td>\n",
       "      <td>9685.0</td>\n",
       "      <td>0.0</td>\n",
       "      <td>10.0</td>\n",
       "      <td>0.0</td>\n",
       "      <td>0.0</td>\n",
       "      <td>0.012339</td>\n",
       "      <td>446.0</td>\n",
       "    </tr>\n",
       "    <tr>\n",
       "      <th>Total.Claim.Amount</th>\n",
       "      <td>0.0</td>\n",
       "      <td>9806.0</td>\n",
       "      <td>0.0</td>\n",
       "      <td>4125.0</td>\n",
       "      <td>0.0</td>\n",
       "      <td>0.0</td>\n",
       "      <td>0.000000</td>\n",
       "      <td>495.0</td>\n",
       "    </tr>\n",
       "    <tr>\n",
       "      <th>Vehicle.Size</th>\n",
       "      <td>0.0</td>\n",
       "      <td>9680.0</td>\n",
       "      <td>0.0</td>\n",
       "      <td>4.0</td>\n",
       "      <td>0.0</td>\n",
       "      <td>0.0</td>\n",
       "      <td>0.012849</td>\n",
       "      <td>2885.0</td>\n",
       "    </tr>\n",
       "  </tbody>\n",
       "</table>\n",
       "</div>"
      ],
      "text/plain": [
       "                               Negative values count  Positive values count  \\\n",
       "CustomerID                                       0.0                 9806.0   \n",
       "Customer.Lifetime.Value                          0.0                 9806.0   \n",
       "Monthly.Premium.Auto                             0.0                 9012.0   \n",
       "Months.Since.Last.Claim                          0.0                 9510.0   \n",
       "Months.Since.Policy.Inception                    0.0                 9712.0   \n",
       "Number.of.Open.Complaints                        0.0                 1858.0   \n",
       "Number.of.Policies                               0.0                 9685.0   \n",
       "Total.Claim.Amount                               0.0                 9806.0   \n",
       "Vehicle.Size                                     0.0                 9680.0   \n",
       "\n",
       "                               Zero count  Unique count  \\\n",
       "CustomerID                            0.0        9806.0   \n",
       "Customer.Lifetime.Value               0.0        6477.0   \n",
       "Monthly.Premium.Auto                  0.0         192.0   \n",
       "Months.Since.Last.Claim             296.0          36.0   \n",
       "Months.Since.Policy.Inception        94.0         100.0   \n",
       "Number.of.Open.Complaints          7130.0           7.0   \n",
       "Number.of.Policies                    0.0          10.0   \n",
       "Total.Claim.Amount                    0.0        4125.0   \n",
       "Vehicle.Size                          0.0           4.0   \n",
       "\n",
       "                               Negative Infinity count  \\\n",
       "CustomerID                                         0.0   \n",
       "Customer.Lifetime.Value                            0.0   \n",
       "Monthly.Premium.Auto                               0.0   \n",
       "Months.Since.Last.Claim                            0.0   \n",
       "Months.Since.Policy.Inception                      0.0   \n",
       "Number.of.Open.Complaints                          0.0   \n",
       "Number.of.Policies                                 0.0   \n",
       "Total.Claim.Amount                                 0.0   \n",
       "Vehicle.Size                                       0.0   \n",
       "\n",
       "                               Positive Infinity count  Missing Percentage  \\\n",
       "CustomerID                                         0.0            0.000000   \n",
       "Customer.Lifetime.Value                            0.0            0.000000   \n",
       "Monthly.Premium.Auto                               0.0            0.080971   \n",
       "Months.Since.Last.Claim                            0.0            0.000000   \n",
       "Months.Since.Policy.Inception                      0.0            0.000000   \n",
       "Number.of.Open.Complaints                          0.0            0.083418   \n",
       "Number.of.Policies                                 0.0            0.012339   \n",
       "Total.Claim.Amount                                 0.0            0.000000   \n",
       "Vehicle.Size                                       0.0            0.012849   \n",
       "\n",
       "                               Count of outliers  \n",
       "CustomerID                                   0.0  \n",
       "Customer.Lifetime.Value                    883.0  \n",
       "Monthly.Premium.Auto                       432.0  \n",
       "Months.Since.Last.Claim                      0.0  \n",
       "Months.Since.Policy.Inception                0.0  \n",
       "Number.of.Open.Complaints                 1858.0  \n",
       "Number.of.Policies                         446.0  \n",
       "Total.Claim.Amount                         495.0  \n",
       "Vehicle.Size                              2885.0  "
      ]
     },
     "execution_count": 8,
     "metadata": {},
     "output_type": "execute_result"
    }
   ],
   "source": [
    "Info.num_count_summary(df)"
   ]
  },
  {
   "cell_type": "code",
   "execution_count": 9,
   "metadata": {
    "execution": {
     "iopub.execute_input": "2020-09-11T08:50:44.090383Z",
     "iopub.status.busy": "2020-09-11T08:50:44.089469Z",
     "iopub.status.idle": "2020-09-11T08:50:44.151202Z",
     "shell.execute_reply": "2020-09-11T08:50:44.151893Z"
    },
    "papermill": {
     "duration": 0.125205,
     "end_time": "2020-09-11T08:50:44.152065",
     "exception": false,
     "start_time": "2020-09-11T08:50:44.026860",
     "status": "completed"
    },
    "tags": []
   },
   "outputs": [
    {
     "data": {
      "text/html": [
       "<div>\n",
       "<style scoped>\n",
       "    .dataframe tbody tr th:only-of-type {\n",
       "        vertical-align: middle;\n",
       "    }\n",
       "\n",
       "    .dataframe tbody tr th {\n",
       "        vertical-align: top;\n",
       "    }\n",
       "\n",
       "    .dataframe thead th {\n",
       "        text-align: right;\n",
       "    }\n",
       "</style>\n",
       "<table border=\"1\" class=\"dataframe\">\n",
       "  <thead>\n",
       "    <tr style=\"text-align: right;\">\n",
       "      <th></th>\n",
       "      <th>count</th>\n",
       "      <th>mean</th>\n",
       "      <th>std</th>\n",
       "      <th>min</th>\n",
       "      <th>25%</th>\n",
       "      <th>50%</th>\n",
       "      <th>75%</th>\n",
       "      <th>max</th>\n",
       "      <th>10%</th>\n",
       "      <th>90%</th>\n",
       "      <th>95%</th>\n",
       "    </tr>\n",
       "  </thead>\n",
       "  <tbody>\n",
       "    <tr>\n",
       "      <th>CustomerID</th>\n",
       "      <td>9806.0</td>\n",
       "      <td>5778.381807</td>\n",
       "      <td>3343.286093</td>\n",
       "      <td>1.000000</td>\n",
       "      <td>2879.250000</td>\n",
       "      <td>5783.000000</td>\n",
       "      <td>8678.750000</td>\n",
       "      <td>11573.000000</td>\n",
       "      <td>1136.500000</td>\n",
       "      <td>10416.500000</td>\n",
       "      <td>11005.750000</td>\n",
       "    </tr>\n",
       "    <tr>\n",
       "      <th>Customer.Lifetime.Value</th>\n",
       "      <td>9806.0</td>\n",
       "      <td>7998.047015</td>\n",
       "      <td>6848.055899</td>\n",
       "      <td>1898.007675</td>\n",
       "      <td>4013.949039</td>\n",
       "      <td>5780.182197</td>\n",
       "      <td>8960.280213</td>\n",
       "      <td>83325.381190</td>\n",
       "      <td>2666.503548</td>\n",
       "      <td>15431.849630</td>\n",
       "      <td>22060.912547</td>\n",
       "    </tr>\n",
       "    <tr>\n",
       "      <th>Monthly.Premium.Auto</th>\n",
       "      <td>9012.0</td>\n",
       "      <td>93.340657</td>\n",
       "      <td>34.417763</td>\n",
       "      <td>61.000000</td>\n",
       "      <td>68.750000</td>\n",
       "      <td>83.000000</td>\n",
       "      <td>109.000000</td>\n",
       "      <td>297.000000</td>\n",
       "      <td>64.000000</td>\n",
       "      <td>129.000000</td>\n",
       "      <td>165.000000</td>\n",
       "    </tr>\n",
       "    <tr>\n",
       "      <th>Months.Since.Last.Claim</th>\n",
       "      <td>9806.0</td>\n",
       "      <td>15.143993</td>\n",
       "      <td>10.004327</td>\n",
       "      <td>0.000000</td>\n",
       "      <td>6.000000</td>\n",
       "      <td>14.000000</td>\n",
       "      <td>23.000000</td>\n",
       "      <td>35.000000</td>\n",
       "      <td>2.000000</td>\n",
       "      <td>30.000000</td>\n",
       "      <td>33.000000</td>\n",
       "    </tr>\n",
       "    <tr>\n",
       "      <th>Months.Since.Policy.Inception</th>\n",
       "      <td>9806.0</td>\n",
       "      <td>48.165001</td>\n",
       "      <td>27.963630</td>\n",
       "      <td>0.000000</td>\n",
       "      <td>24.000000</td>\n",
       "      <td>48.000000</td>\n",
       "      <td>71.750000</td>\n",
       "      <td>99.000000</td>\n",
       "      <td>10.000000</td>\n",
       "      <td>87.000000</td>\n",
       "      <td>93.000000</td>\n",
       "    </tr>\n",
       "    <tr>\n",
       "      <th>Number.of.Open.Complaints</th>\n",
       "      <td>8988.0</td>\n",
       "      <td>0.379172</td>\n",
       "      <td>0.896427</td>\n",
       "      <td>0.000000</td>\n",
       "      <td>0.000000</td>\n",
       "      <td>0.000000</td>\n",
       "      <td>0.000000</td>\n",
       "      <td>5.000000</td>\n",
       "      <td>0.000000</td>\n",
       "      <td>1.000000</td>\n",
       "      <td>3.000000</td>\n",
       "    </tr>\n",
       "    <tr>\n",
       "      <th>Number.of.Policies</th>\n",
       "      <td>9685.0</td>\n",
       "      <td>2.960351</td>\n",
       "      <td>2.389801</td>\n",
       "      <td>1.000000</td>\n",
       "      <td>1.000000</td>\n",
       "      <td>2.000000</td>\n",
       "      <td>4.000000</td>\n",
       "      <td>9.000000</td>\n",
       "      <td>1.000000</td>\n",
       "      <td>7.000000</td>\n",
       "      <td>8.000000</td>\n",
       "    </tr>\n",
       "    <tr>\n",
       "      <th>Total.Claim.Amount</th>\n",
       "      <td>9806.0</td>\n",
       "      <td>438.266734</td>\n",
       "      <td>293.502301</td>\n",
       "      <td>0.099007</td>\n",
       "      <td>280.352767</td>\n",
       "      <td>384.007015</td>\n",
       "      <td>553.540973</td>\n",
       "      <td>2893.239678</td>\n",
       "      <td>104.306060</td>\n",
       "      <td>783.809167</td>\n",
       "      <td>964.800000</td>\n",
       "    </tr>\n",
       "    <tr>\n",
       "      <th>Vehicle.Size</th>\n",
       "      <td>9680.0</td>\n",
       "      <td>2.089773</td>\n",
       "      <td>0.538524</td>\n",
       "      <td>1.000000</td>\n",
       "      <td>2.000000</td>\n",
       "      <td>2.000000</td>\n",
       "      <td>2.000000</td>\n",
       "      <td>3.000000</td>\n",
       "      <td>1.000000</td>\n",
       "      <td>3.000000</td>\n",
       "      <td>3.000000</td>\n",
       "    </tr>\n",
       "  </tbody>\n",
       "</table>\n",
       "</div>"
      ],
      "text/plain": [
       "                                count         mean          std          min  \\\n",
       "CustomerID                     9806.0  5778.381807  3343.286093     1.000000   \n",
       "Customer.Lifetime.Value        9806.0  7998.047015  6848.055899  1898.007675   \n",
       "Monthly.Premium.Auto           9012.0    93.340657    34.417763    61.000000   \n",
       "Months.Since.Last.Claim        9806.0    15.143993    10.004327     0.000000   \n",
       "Months.Since.Policy.Inception  9806.0    48.165001    27.963630     0.000000   \n",
       "Number.of.Open.Complaints      8988.0     0.379172     0.896427     0.000000   \n",
       "Number.of.Policies             9685.0     2.960351     2.389801     1.000000   \n",
       "Total.Claim.Amount             9806.0   438.266734   293.502301     0.099007   \n",
       "Vehicle.Size                   9680.0     2.089773     0.538524     1.000000   \n",
       "\n",
       "                                       25%          50%          75%  \\\n",
       "CustomerID                     2879.250000  5783.000000  8678.750000   \n",
       "Customer.Lifetime.Value        4013.949039  5780.182197  8960.280213   \n",
       "Monthly.Premium.Auto             68.750000    83.000000   109.000000   \n",
       "Months.Since.Last.Claim           6.000000    14.000000    23.000000   \n",
       "Months.Since.Policy.Inception    24.000000    48.000000    71.750000   \n",
       "Number.of.Open.Complaints         0.000000     0.000000     0.000000   \n",
       "Number.of.Policies                1.000000     2.000000     4.000000   \n",
       "Total.Claim.Amount              280.352767   384.007015   553.540973   \n",
       "Vehicle.Size                      2.000000     2.000000     2.000000   \n",
       "\n",
       "                                        max          10%           90%  \\\n",
       "CustomerID                     11573.000000  1136.500000  10416.500000   \n",
       "Customer.Lifetime.Value        83325.381190  2666.503548  15431.849630   \n",
       "Monthly.Premium.Auto             297.000000    64.000000    129.000000   \n",
       "Months.Since.Last.Claim           35.000000     2.000000     30.000000   \n",
       "Months.Since.Policy.Inception     99.000000    10.000000     87.000000   \n",
       "Number.of.Open.Complaints          5.000000     0.000000      1.000000   \n",
       "Number.of.Policies                 9.000000     1.000000      7.000000   \n",
       "Total.Claim.Amount              2893.239678   104.306060    783.809167   \n",
       "Vehicle.Size                       3.000000     1.000000      3.000000   \n",
       "\n",
       "                                        95%  \n",
       "CustomerID                     11005.750000  \n",
       "Customer.Lifetime.Value        22060.912547  \n",
       "Monthly.Premium.Auto             165.000000  \n",
       "Months.Since.Last.Claim           33.000000  \n",
       "Months.Since.Policy.Inception     93.000000  \n",
       "Number.of.Open.Complaints          3.000000  \n",
       "Number.of.Policies                 8.000000  \n",
       "Total.Claim.Amount               964.800000  \n",
       "Vehicle.Size                       3.000000  "
      ]
     },
     "execution_count": 9,
     "metadata": {},
     "output_type": "execute_result"
    }
   ],
   "source": [
    "Info.statistical_summary(df)"
   ]
  },
  {
   "attachments": {
    "image.png": {
     "image/png": "[encoded data removed]"
    }
   },
   "cell_type": "markdown",
   "metadata": {
    "papermill": {
     "duration": 0.054831,
     "end_time": "2020-09-11T08:50:44.262126",
     "exception": false,
     "start_time": "2020-09-11T08:50:44.207295",
     "status": "completed"
    },
    "tags": []
   },
   "source": [
    "# Haversine distance Computaion\n",
    "\n",
    "\n",
    "**Haversine Distance can be defined as the angular distance between two locations on the Earth’s surface.**\n",
    "\n",
    "![image.png](attachment:image.png)\n",
    "\n",
    "Haversine formula determines the great-circle distance between two points on a sphere given their longitudes and latitudes.\n",
    "\n",
    "**Euclidean Distance works for the flat surface** like a Cartesian plain however, **Earth is not flat. So we have to use a special type of formula known as Haversine Distance**."
   ]
  },
  {
   "cell_type": "code",
   "execution_count": 10,
   "metadata": {
    "execution": {
     "iopub.execute_input": "2020-09-11T08:50:44.386279Z",
     "iopub.status.busy": "2020-09-11T08:50:44.385501Z",
     "iopub.status.idle": "2020-09-11T08:50:44.388883Z",
     "shell.execute_reply": "2020-09-11T08:50:44.388295Z"
    },
    "papermill": {
     "duration": 0.072573,
     "end_time": "2020-09-11T08:50:44.389012",
     "exception": false,
     "start_time": "2020-09-11T08:50:44.316439",
     "status": "completed"
    },
    "tags": []
   },
   "outputs": [],
   "source": [
    "import math\n",
    "\n",
    "class Compute_Haversine_Distance():\n",
    "    \n",
    "\n",
    "    def __init__(self):\n",
    "        print(\"Distance object created\")\n",
    "        \n",
    "    \n",
    "    def convert_income_tonumeric(self,df):\n",
    "        df['Income']= pd.to_numeric(df['Income'],errors='coerce')\n",
    "\n",
    "        \n",
    "    def Split_Location_geo(self,Location_Geo):\n",
    "        \n",
    "        \"\"\"\n",
    "        This method is created to split\n",
    "        the Location Geo variable into\n",
    "        Lati and Longi by comma seperated\n",
    "        values to compute distance\n",
    "        \"\"\"\n",
    "        \n",
    "        df['Lati'], df['Longi'] = \\\n",
    "        df['Location.Geo'].str.split(',', 1).str\n",
    "        \n",
    "\n",
    "    def harvesine_distance(self,lati,longi):\n",
    "        \n",
    "        \"\"\"\n",
    "        This method helps to compute the \n",
    "        distance between the points of \n",
    "        latitude and longitude by replicating\n",
    "        the Haversine formula\n",
    "        \"\"\"\n",
    "        \n",
    "        df['Lati']= pd.to_numeric(df['Lati'],errors='coerce')\n",
    "        df['Longi']= pd.to_numeric(df['Longi'],errors='coerce')\n",
    "        df['LAT_rad'],df['LON_rad'] = np.radians(df['Lati']), \\\n",
    "        np.radians(df['Longi'])\n",
    "        df['dLON'] = df['LON_rad'] - math.radians(-56.7213600)\n",
    "        df['dLAT'] = df['LAT_rad'] - math.radians(37.2175900)\n",
    "        df['distance'] = 6367 * 2 * np.arcsin(np.sqrt(np.sin(df['dLAT']/2)**2 +\\\n",
    "        math.cos(math.radians(37.2175900)) * np.cos(df['LAT_rad'])*\\\n",
    "                                        np.sin(df['dLON']/2)**2))"
   ]
  },
  {
   "cell_type": "code",
   "execution_count": 11,
   "metadata": {
    "execution": {
     "iopub.execute_input": "2020-09-11T08:50:44.503472Z",
     "iopub.status.busy": "2020-09-11T08:50:44.502613Z",
     "iopub.status.idle": "2020-09-11T08:50:44.506580Z",
     "shell.execute_reply": "2020-09-11T08:50:44.505932Z"
    },
    "papermill": {
     "duration": 0.063223,
     "end_time": "2020-09-11T08:50:44.506709",
     "exception": false,
     "start_time": "2020-09-11T08:50:44.443486",
     "status": "completed"
    },
    "tags": []
   },
   "outputs": [
    {
     "name": "stdout",
     "output_type": "stream",
     "text": [
      "Distance object created\n"
     ]
    }
   ],
   "source": [
    "distance = Compute_Haversine_Distance()"
   ]
  },
  {
   "cell_type": "code",
   "execution_count": 12,
   "metadata": {
    "execution": {
     "iopub.execute_input": "2020-09-11T08:50:44.633693Z",
     "iopub.status.busy": "2020-09-11T08:50:44.632654Z",
     "iopub.status.idle": "2020-09-11T08:50:44.637168Z",
     "shell.execute_reply": "2020-09-11T08:50:44.636583Z"
    },
    "papermill": {
     "duration": 0.074422,
     "end_time": "2020-09-11T08:50:44.637289",
     "exception": false,
     "start_time": "2020-09-11T08:50:44.562867",
     "status": "completed"
    },
    "tags": []
   },
   "outputs": [],
   "source": [
    "distance.convert_income_tonumeric(df)"
   ]
  },
  {
   "cell_type": "code",
   "execution_count": 13,
   "metadata": {
    "execution": {
     "iopub.execute_input": "2020-09-11T08:50:44.772451Z",
     "iopub.status.busy": "2020-09-11T08:50:44.762267Z",
     "iopub.status.idle": "2020-09-11T08:50:44.799806Z",
     "shell.execute_reply": "2020-09-11T08:50:44.799050Z"
    },
    "papermill": {
     "duration": 0.107668,
     "end_time": "2020-09-11T08:50:44.799928",
     "exception": false,
     "start_time": "2020-09-11T08:50:44.692260",
     "status": "completed"
    },
    "tags": []
   },
   "outputs": [],
   "source": [
    "distance.Split_Location_geo(df)"
   ]
  },
  {
   "cell_type": "code",
   "execution_count": 14,
   "metadata": {
    "execution": {
     "iopub.execute_input": "2020-09-11T08:50:44.932710Z",
     "iopub.status.busy": "2020-09-11T08:50:44.932013Z",
     "iopub.status.idle": "2020-09-11T08:50:44.939265Z",
     "shell.execute_reply": "2020-09-11T08:50:44.939889Z"
    },
    "papermill": {
     "duration": 0.084912,
     "end_time": "2020-09-11T08:50:44.940045",
     "exception": false,
     "start_time": "2020-09-11T08:50:44.855133",
     "status": "completed"
    },
    "tags": []
   },
   "outputs": [],
   "source": [
    "distance.harvesine_distance(df['Lati'],df['Longi'])"
   ]
  },
  {
   "cell_type": "markdown",
   "metadata": {
    "papermill": {
     "duration": 0.05483,
     "end_time": "2020-09-11T08:50:45.051137",
     "exception": false,
     "start_time": "2020-09-11T08:50:44.996307",
     "status": "completed"
    },
    "tags": []
   },
   "source": [
    "# Data Preprocessing\n",
    "### Imputing Categorical Variable\n",
    "\n",
    "This method is applicable for categorical variables, where you have a list of finite values. We can impute with the most frequent value. It is possible, if values are **Nominal and Ordinal categorical values**.\n",
    "\n",
    "Unfortunately this method doesn’t handle correlation between features and there is a possibility of introducing bias in the data. If the category values are not balanced  than you are likely to introduce bias in the data. So make sure that our independent variables are balanced, if it is balanced we can impute with most frequent value."
   ]
  },
  {
   "cell_type": "code",
   "execution_count": 15,
   "metadata": {
    "execution": {
     "iopub.execute_input": "2020-09-11T08:50:45.164864Z",
     "iopub.status.busy": "2020-09-11T08:50:45.164101Z",
     "iopub.status.idle": "2020-09-11T08:50:45.172613Z",
     "shell.execute_reply": "2020-09-11T08:50:45.173239Z"
    },
    "papermill": {
     "duration": 0.067217,
     "end_time": "2020-09-11T08:50:45.173393",
     "exception": false,
     "start_time": "2020-09-11T08:50:45.106176",
     "status": "completed"
    },
    "tags": []
   },
   "outputs": [],
   "source": [
    "class DataFrame_Categorical_Imputer():\n",
    "    \n",
    "\n",
    "    def __init__(self):\n",
    "        \n",
    "        \n",
    "        print(\"Imputation object created\")\n",
    "        \n",
    "        \n",
    "        \n",
    "    def fit(self, data):\n",
    "        \n",
    "        \n",
    "        \"\"\"\n",
    "        This method will fit \n",
    "        impute mode value for \n",
    "        all missing categoriical \n",
    "        variables\n",
    "        \"\"\"\n",
    "        \n",
    "\n",
    "        self.fill = pd.Series([data[column].\\\n",
    "                        value_counts().index[0]\n",
    "            if data[column].dtype == np.dtype('O') else \\\n",
    "                 data[column].mode() for column in data],\n",
    "            index=data.columns)\n",
    "\n",
    "        return self\n",
    "    \n",
    "    \n",
    "\n",
    "    def transform(self, data):\n",
    "        \n",
    "        \"\"\"\n",
    "        This method will transform\n",
    "        the fitted function and \n",
    "        return the DataFrame\n",
    "        \"\"\"\n",
    "        \n",
    "        return data.fillna(self.fill)"
   ]
  },
  {
   "cell_type": "code",
   "execution_count": 16,
   "metadata": {
    "execution": {
     "iopub.execute_input": "2020-09-11T08:50:45.287289Z",
     "iopub.status.busy": "2020-09-11T08:50:45.286560Z",
     "iopub.status.idle": "2020-09-11T08:50:45.292459Z",
     "shell.execute_reply": "2020-09-11T08:50:45.293467Z"
    },
    "papermill": {
     "duration": 0.065078,
     "end_time": "2020-09-11T08:50:45.293765",
     "exception": false,
     "start_time": "2020-09-11T08:50:45.228687",
     "status": "completed"
    },
    "tags": []
   },
   "outputs": [
    {
     "name": "stdout",
     "output_type": "stream",
     "text": [
      "Imputation object created\n"
     ]
    }
   ],
   "source": [
    "impute = DataFrame_Categorical_Imputer()"
   ]
  },
  {
   "cell_type": "code",
   "execution_count": 17,
   "metadata": {
    "execution": {
     "iopub.execute_input": "2020-09-11T08:50:45.411048Z",
     "iopub.status.busy": "2020-09-11T08:50:45.410079Z",
     "iopub.status.idle": "2020-09-11T08:50:45.464771Z",
     "shell.execute_reply": "2020-09-11T08:50:45.464226Z"
    },
    "papermill": {
     "duration": 0.114472,
     "end_time": "2020-09-11T08:50:45.464915",
     "exception": false,
     "start_time": "2020-09-11T08:50:45.350443",
     "status": "completed"
    },
    "tags": []
   },
   "outputs": [
    {
     "data": {
      "text/plain": [
       "<__main__.DataFrame_Categorical_Imputer at 0x7f424a817610>"
      ]
     },
     "execution_count": 17,
     "metadata": {},
     "output_type": "execute_result"
    }
   ],
   "source": [
    "impute.fit(df)"
   ]
  },
  {
   "cell_type": "code",
   "execution_count": 18,
   "metadata": {
    "execution": {
     "iopub.execute_input": "2020-09-11T08:50:45.584010Z",
     "iopub.status.busy": "2020-09-11T08:50:45.583217Z",
     "iopub.status.idle": "2020-09-11T08:50:45.619559Z",
     "shell.execute_reply": "2020-09-11T08:50:45.618999Z"
    },
    "papermill": {
     "duration": 0.098634,
     "end_time": "2020-09-11T08:50:45.619723",
     "exception": false,
     "start_time": "2020-09-11T08:50:45.521089",
     "status": "completed"
    },
    "tags": []
   },
   "outputs": [],
   "source": [
    "df=impute.transform(df)"
   ]
  },
  {
   "cell_type": "markdown",
   "metadata": {
    "papermill": {
     "duration": 0.057372,
     "end_time": "2020-09-11T08:50:45.733586",
     "exception": false,
     "start_time": "2020-09-11T08:50:45.676214",
     "status": "completed"
    },
    "tags": []
   },
   "source": [
    "# Feature Engineering\n",
    "\n",
    "\n",
    "**Feature Engineering** is a **crucial part** part **in data science projects**, in our roject we have done feature engineering **on Location Geo valiable to create Distance variable**, **which is core variable** for this dataset **in terms of contribution**.\n",
    "\n",
    "Mostly in categorical variable, Nonminal variables will be Dummied or OneHot Encoded and ordinal variable will be Label Encoded, but in this case considering the deployment part, beacuse of containing 13 nommial variables, i have performed Label Encoding to handle features and to avoid risk dimentionality factor"
   ]
  },
  {
   "cell_type": "code",
   "execution_count": 19,
   "metadata": {
    "execution": {
     "iopub.execute_input": "2020-09-11T08:50:45.850544Z",
     "iopub.status.busy": "2020-09-11T08:50:45.849349Z",
     "iopub.status.idle": "2020-09-11T08:50:45.861947Z",
     "shell.execute_reply": "2020-09-11T08:50:45.862509Z"
    },
    "papermill": {
     "duration": 0.073039,
     "end_time": "2020-09-11T08:50:45.862659",
     "exception": false,
     "start_time": "2020-09-11T08:50:45.789620",
     "status": "completed"
    },
    "tags": []
   },
   "outputs": [],
   "source": [
    "from sklearn.preprocessing import LabelEncoder\n",
    "from sklearn import preprocessing\n",
    "class Base_Feature_Engineering():\n",
    "\n",
    "    def __init__(self):\n",
    "        print(\"Feature Engineering object created\")\n",
    "        \n",
    "        \n",
    "    \"\"\"\n",
    "    This method hepls\n",
    "    to encode all the\n",
    "    categorical variables\n",
    "    with Labelencoder\n",
    "    \"\"\"\n",
    "    \n",
    "    def _Label_Encoding(self,data):\n",
    "        category_col =[var for var in data.columns if \\\n",
    "                       data[var].dtypes ==\"object\"] \n",
    "        labelEncoder = preprocessing.LabelEncoder()\n",
    "        mapping_dict={}\n",
    "        for col in category_col:\n",
    "            data[col] = labelEncoder.fit_transform(data[col])\n",
    "            le_name_mapping = dict(zip(labelEncoder.classes_,\\\n",
    "                labelEncoder.transform(labelEncoder.classes_)))\n",
    "            mapping_dict[col]=le_name_mapping\n",
    "            return mapping_dict\n",
    "        \n",
    "        \n",
    "    def Process_Income(self,df):\n",
    "        df['Income'] = df['Income'].replace('?', '')\n",
    "        \n",
    "        \n",
    "    def get_dummies(self,data):\n",
    "        \n",
    "        for i in data.columns:\n",
    "            \n",
    "            if data[i].dtypes == \"object\":\n",
    "                \n",
    "                data[i] = pd.get_dummies(data[i])\n",
    "                \n",
    "        return data"
   ]
  },
  {
   "cell_type": "code",
   "execution_count": 20,
   "metadata": {
    "execution": {
     "iopub.execute_input": "2020-09-11T08:50:45.981401Z",
     "iopub.status.busy": "2020-09-11T08:50:45.980361Z",
     "iopub.status.idle": "2020-09-11T08:50:45.986060Z",
     "shell.execute_reply": "2020-09-11T08:50:45.986648Z"
    },
    "papermill": {
     "duration": 0.06718,
     "end_time": "2020-09-11T08:50:45.986824",
     "exception": false,
     "start_time": "2020-09-11T08:50:45.919644",
     "status": "completed"
    },
    "tags": []
   },
   "outputs": [
    {
     "name": "stdout",
     "output_type": "stream",
     "text": [
      "Feature Engineering object created\n"
     ]
    }
   ],
   "source": [
    "FE = Base_Feature_Engineering()"
   ]
  },
  {
   "cell_type": "code",
   "execution_count": 21,
   "metadata": {
    "execution": {
     "iopub.execute_input": "2020-09-11T08:50:46.106764Z",
     "iopub.status.busy": "2020-09-11T08:50:46.106056Z",
     "iopub.status.idle": "2020-09-11T08:50:46.109538Z",
     "shell.execute_reply": "2020-09-11T08:50:46.108996Z"
    },
    "papermill": {
     "duration": 0.065993,
     "end_time": "2020-09-11T08:50:46.109668",
     "exception": false,
     "start_time": "2020-09-11T08:50:46.043675",
     "status": "completed"
    },
    "tags": []
   },
   "outputs": [],
   "source": [
    "FE.Process_Income(df)"
   ]
  },
  {
   "cell_type": "code",
   "execution_count": 22,
   "metadata": {
    "execution": {
     "iopub.execute_input": "2020-09-11T08:50:46.229466Z",
     "iopub.status.busy": "2020-09-11T08:50:46.228696Z",
     "iopub.status.idle": "2020-09-11T08:50:46.318749Z",
     "shell.execute_reply": "2020-09-11T08:50:46.318181Z"
    },
    "papermill": {
     "duration": 0.152401,
     "end_time": "2020-09-11T08:50:46.318901",
     "exception": false,
     "start_time": "2020-09-11T08:50:46.166500",
     "status": "completed"
    },
    "tags": []
   },
   "outputs": [
    {
     "data": {
      "text/html": [
       "<div>\n",
       "<style scoped>\n",
       "    .dataframe tbody tr th:only-of-type {\n",
       "        vertical-align: middle;\n",
       "    }\n",
       "\n",
       "    .dataframe tbody tr th {\n",
       "        vertical-align: top;\n",
       "    }\n",
       "\n",
       "    .dataframe thead th {\n",
       "        text-align: right;\n",
       "    }\n",
       "</style>\n",
       "<table border=\"1\" class=\"dataframe\">\n",
       "  <thead>\n",
       "    <tr style=\"text-align: right;\">\n",
       "      <th></th>\n",
       "      <th>CustomerID</th>\n",
       "      <th>Customer.Lifetime.Value</th>\n",
       "      <th>Coverage</th>\n",
       "      <th>Education</th>\n",
       "      <th>EmploymentStatus</th>\n",
       "      <th>Gender</th>\n",
       "      <th>Income</th>\n",
       "      <th>Location.Geo</th>\n",
       "      <th>Location.Code</th>\n",
       "      <th>Marital.Status</th>\n",
       "      <th>...</th>\n",
       "      <th>Total.Claim.Amount</th>\n",
       "      <th>Vehicle.Class</th>\n",
       "      <th>Vehicle.Size</th>\n",
       "      <th>Lati</th>\n",
       "      <th>Longi</th>\n",
       "      <th>LAT_rad</th>\n",
       "      <th>LON_rad</th>\n",
       "      <th>dLON</th>\n",
       "      <th>dLAT</th>\n",
       "      <th>distance</th>\n",
       "    </tr>\n",
       "  </thead>\n",
       "  <tbody>\n",
       "    <tr>\n",
       "      <th>0</th>\n",
       "      <td>5917</td>\n",
       "      <td>7824.372789</td>\n",
       "      <td>1</td>\n",
       "      <td>1</td>\n",
       "      <td>0</td>\n",
       "      <td>1</td>\n",
       "      <td>0.0</td>\n",
       "      <td>0</td>\n",
       "      <td>0</td>\n",
       "      <td>0</td>\n",
       "      <td>...</td>\n",
       "      <td>267.214383</td>\n",
       "      <td>1</td>\n",
       "      <td>2.0</td>\n",
       "      <td>17.7</td>\n",
       "      <td>77.7</td>\n",
       "      <td>0.308923</td>\n",
       "      <td>1.356121</td>\n",
       "      <td>2.346095</td>\n",
       "      <td>-0.340646</td>\n",
       "      <td>12258.261420</td>\n",
       "    </tr>\n",
       "    <tr>\n",
       "      <th>1</th>\n",
       "      <td>2057</td>\n",
       "      <td>8005.964669</td>\n",
       "      <td>1</td>\n",
       "      <td>0</td>\n",
       "      <td>0</td>\n",
       "      <td>0</td>\n",
       "      <td>63357.0</td>\n",
       "      <td>0</td>\n",
       "      <td>0</td>\n",
       "      <td>0</td>\n",
       "      <td>...</td>\n",
       "      <td>565.508572</td>\n",
       "      <td>0</td>\n",
       "      <td>2.0</td>\n",
       "      <td>28.8</td>\n",
       "      <td>76.6</td>\n",
       "      <td>0.502655</td>\n",
       "      <td>1.336922</td>\n",
       "      <td>2.326897</td>\n",
       "      <td>-0.146915</td>\n",
       "      <td>11201.509077</td>\n",
       "    </tr>\n",
       "    <tr>\n",
       "      <th>2</th>\n",
       "      <td>4119</td>\n",
       "      <td>8646.504109</td>\n",
       "      <td>1</td>\n",
       "      <td>0</td>\n",
       "      <td>0</td>\n",
       "      <td>1</td>\n",
       "      <td>64125.0</td>\n",
       "      <td>0</td>\n",
       "      <td>0</td>\n",
       "      <td>0</td>\n",
       "      <td>...</td>\n",
       "      <td>369.818708</td>\n",
       "      <td>0</td>\n",
       "      <td>1.0</td>\n",
       "      <td>21.6</td>\n",
       "      <td>88.4</td>\n",
       "      <td>0.376991</td>\n",
       "      <td>1.542871</td>\n",
       "      <td>2.532846</td>\n",
       "      <td>-0.272578</td>\n",
       "      <td>12515.884069</td>\n",
       "    </tr>\n",
       "    <tr>\n",
       "      <th>3</th>\n",
       "      <td>1801</td>\n",
       "      <td>9294.088719</td>\n",
       "      <td>1</td>\n",
       "      <td>0</td>\n",
       "      <td>0</td>\n",
       "      <td>0</td>\n",
       "      <td>67544.0</td>\n",
       "      <td>0</td>\n",
       "      <td>0</td>\n",
       "      <td>0</td>\n",
       "      <td>...</td>\n",
       "      <td>556.800000</td>\n",
       "      <td>0</td>\n",
       "      <td>3.0</td>\n",
       "      <td>19.0</td>\n",
       "      <td>72.5</td>\n",
       "      <td>0.331613</td>\n",
       "      <td>1.265364</td>\n",
       "      <td>2.255338</td>\n",
       "      <td>-0.317957</td>\n",
       "      <td>11802.814975</td>\n",
       "    </tr>\n",
       "    <tr>\n",
       "      <th>4</th>\n",
       "      <td>9618</td>\n",
       "      <td>5595.971365</td>\n",
       "      <td>1</td>\n",
       "      <td>1</td>\n",
       "      <td>0</td>\n",
       "      <td>1</td>\n",
       "      <td>19651.0</td>\n",
       "      <td>0</td>\n",
       "      <td>0</td>\n",
       "      <td>0</td>\n",
       "      <td>...</td>\n",
       "      <td>345.600000</td>\n",
       "      <td>0</td>\n",
       "      <td>3.0</td>\n",
       "      <td>19.1</td>\n",
       "      <td>74.7</td>\n",
       "      <td>0.333358</td>\n",
       "      <td>1.303761</td>\n",
       "      <td>2.293735</td>\n",
       "      <td>-0.316212</td>\n",
       "      <td>11940.804448</td>\n",
       "    </tr>\n",
       "  </tbody>\n",
       "</table>\n",
       "<p>5 rows × 29 columns</p>\n",
       "</div>"
      ],
      "text/plain": [
       "   CustomerID  Customer.Lifetime.Value  Coverage  Education  EmploymentStatus  \\\n",
       "0        5917              7824.372789         1          1                 0   \n",
       "1        2057              8005.964669         1          0                 0   \n",
       "2        4119              8646.504109         1          0                 0   \n",
       "3        1801              9294.088719         1          0                 0   \n",
       "4        9618              5595.971365         1          1                 0   \n",
       "\n",
       "   Gender   Income  Location.Geo  Location.Code  Marital.Status  ...  \\\n",
       "0       1      0.0             0              0               0  ...   \n",
       "1       0  63357.0             0              0               0  ...   \n",
       "2       1  64125.0             0              0               0  ...   \n",
       "3       0  67544.0             0              0               0  ...   \n",
       "4       1  19651.0             0              0               0  ...   \n",
       "\n",
       "   Total.Claim.Amount  Vehicle.Class  Vehicle.Size  Lati  Longi   LAT_rad  \\\n",
       "0          267.214383              1           2.0  17.7   77.7  0.308923   \n",
       "1          565.508572              0           2.0  28.8   76.6  0.502655   \n",
       "2          369.818708              0           1.0  21.6   88.4  0.376991   \n",
       "3          556.800000              0           3.0  19.0   72.5  0.331613   \n",
       "4          345.600000              0           3.0  19.1   74.7  0.333358   \n",
       "\n",
       "    LON_rad      dLON      dLAT      distance  \n",
       "0  1.356121  2.346095 -0.340646  12258.261420  \n",
       "1  1.336922  2.326897 -0.146915  11201.509077  \n",
       "2  1.542871  2.532846 -0.272578  12515.884069  \n",
       "3  1.265364  2.255338 -0.317957  11802.814975  \n",
       "4  1.303761  2.293735 -0.316212  11940.804448  \n",
       "\n",
       "[5 rows x 29 columns]"
      ]
     },
     "execution_count": 22,
     "metadata": {},
     "output_type": "execute_result"
    }
   ],
   "source": [
    "df = FE.get_dummies(df)\n",
    "df.head()"
   ]
  },
  {
   "cell_type": "markdown",
   "metadata": {
    "papermill": {
     "duration": 0.057756,
     "end_time": "2020-09-11T08:50:46.434605",
     "exception": false,
     "start_time": "2020-09-11T08:50:46.376849",
     "status": "completed"
    },
    "tags": []
   },
   "source": [
    "# Data Preprocessing\n",
    "### Imputing Numerical Variable\n",
    "\n",
    "We will use the KNNImputer function from the impute module of the sklearn. KNNImputer helps to impute missing values present in the observations by finding the nearest neighbors with the Euclidean distance matrix.\n",
    "\n",
    "The idea in kNN methods is to identify 'k' samples in the dataset that are similar or close in the space. Then we use these 'k' samples to estimate the value of the missing data points. Each sample's missing values are imputed using the mean value of the 'k'-neighbors found in the dataset."
   ]
  },
  {
   "cell_type": "code",
   "execution_count": 23,
   "metadata": {
    "execution": {
     "iopub.execute_input": "2020-09-11T08:50:46.558259Z",
     "iopub.status.busy": "2020-09-11T08:50:46.557560Z",
     "iopub.status.idle": "2020-09-11T08:50:46.560740Z",
     "shell.execute_reply": "2020-09-11T08:50:46.560161Z"
    },
    "papermill": {
     "duration": 0.068458,
     "end_time": "2020-09-11T08:50:46.560871",
     "exception": false,
     "start_time": "2020-09-11T08:50:46.492413",
     "status": "completed"
    },
    "tags": []
   },
   "outputs": [],
   "source": [
    "class DataFrame_numerical_Imputer():\n",
    "    \n",
    "\n",
    "    def __init__(self):\n",
    "        print(\"numerical_Imputer object created\")\n",
    "        \n",
    "        \n",
    "    \"\"\"\n",
    "    This method hepls\n",
    "    to remove the special\n",
    "    charactors in the\n",
    "    income variable\n",
    "    \"\"\"\n",
    "        \n",
    "   \n",
    "    def KNN_Imputer(self,df):\n",
    "        \n",
    "        \"\"\"\n",
    "        This method is for\n",
    "        imputation, behalf\n",
    "        of all methods KNN\n",
    "        imputation performs\n",
    "        well, hence this method\n",
    "        will helps to impute\n",
    "        missing values in \n",
    "        dataset\n",
    "        \"\"\"\n",
    "        \n",
    "        knn_imputer = KNN()\n",
    "        df.iloc[:, :] = knn_imputer.fit_transform(df)\n",
    "        return df"
   ]
  },
  {
   "cell_type": "code",
   "execution_count": 24,
   "metadata": {
    "execution": {
     "iopub.execute_input": "2020-09-11T08:50:46.687075Z",
     "iopub.status.busy": "2020-09-11T08:50:46.686071Z",
     "iopub.status.idle": "2020-09-11T08:50:46.689513Z",
     "shell.execute_reply": "2020-09-11T08:50:46.690113Z"
    },
    "papermill": {
     "duration": 0.067589,
     "end_time": "2020-09-11T08:50:46.690263",
     "exception": false,
     "start_time": "2020-09-11T08:50:46.622674",
     "status": "completed"
    },
    "tags": []
   },
   "outputs": [
    {
     "name": "stdout",
     "output_type": "stream",
     "text": [
      "numerical_Imputer object created\n"
     ]
    }
   ],
   "source": [
    "knn = DataFrame_numerical_Imputer()"
   ]
  },
  {
   "cell_type": "code",
   "execution_count": 25,
   "metadata": {
    "execution": {
     "iopub.execute_input": "2020-09-11T08:50:46.865010Z",
     "iopub.status.busy": "2020-09-11T08:50:46.863843Z",
     "iopub.status.idle": "2020-09-11T08:51:11.135381Z",
     "shell.execute_reply": "2020-09-11T08:51:11.136089Z"
    },
    "papermill": {
     "duration": 24.33888,
     "end_time": "2020-09-11T08:51:11.136292",
     "exception": false,
     "start_time": "2020-09-11T08:50:46.797412",
     "status": "completed"
    },
    "tags": []
   },
   "outputs": [
    {
     "name": "stdout",
     "output_type": "stream",
     "text": [
      "Imputing row 1/9806 with 0 missing, elapsed time: 23.889\n",
      "Imputing row 101/9806 with 1 missing, elapsed time: 23.898\n",
      "Imputing row 201/9806 with 0 missing, elapsed time: 23.901\n",
      "Imputing row 301/9806 with 0 missing, elapsed time: 23.903\n",
      "Imputing row 401/9806 with 0 missing, elapsed time: 23.906\n",
      "Imputing row 501/9806 with 0 missing, elapsed time: 23.909\n",
      "Imputing row 601/9806 with 0 missing, elapsed time: 23.912\n",
      "Imputing row 701/9806 with 0 missing, elapsed time: 23.914\n",
      "Imputing row 801/9806 with 0 missing, elapsed time: 23.917\n",
      "Imputing row 901/9806 with 0 missing, elapsed time: 23.919\n",
      "Imputing row 1001/9806 with 0 missing, elapsed time: 23.921\n",
      "Imputing row 1101/9806 with 0 missing, elapsed time: 23.924\n",
      "Imputing row 1201/9806 with 0 missing, elapsed time: 23.926\n",
      "Imputing row 1301/9806 with 0 missing, elapsed time: 23.928\n",
      "Imputing row 1401/9806 with 0 missing, elapsed time: 23.930\n",
      "Imputing row 1501/9806 with 0 missing, elapsed time: 23.934\n",
      "Imputing row 1601/9806 with 1 missing, elapsed time: 23.936\n",
      "Imputing row 1701/9806 with 0 missing, elapsed time: 23.938\n",
      "Imputing row 1801/9806 with 0 missing, elapsed time: 23.940\n",
      "Imputing row 1901/9806 with 0 missing, elapsed time: 23.942\n",
      "Imputing row 2001/9806 with 0 missing, elapsed time: 23.945\n",
      "Imputing row 2101/9806 with 0 missing, elapsed time: 23.947\n",
      "Imputing row 2201/9806 with 1 missing, elapsed time: 23.949\n",
      "Imputing row 2301/9806 with 0 missing, elapsed time: 23.952\n",
      "Imputing row 2401/9806 with 0 missing, elapsed time: 23.954\n",
      "Imputing row 2501/9806 with 1 missing, elapsed time: 23.956\n",
      "Imputing row 2601/9806 with 0 missing, elapsed time: 23.958\n",
      "Imputing row 2701/9806 with 0 missing, elapsed time: 23.961\n",
      "Imputing row 2801/9806 with 0 missing, elapsed time: 23.963\n",
      "Imputing row 2901/9806 with 0 missing, elapsed time: 23.966\n",
      "Imputing row 3001/9806 with 0 missing, elapsed time: 23.968\n",
      "Imputing row 3101/9806 with 1 missing, elapsed time: 23.970\n",
      "Imputing row 3201/9806 with 0 missing, elapsed time: 23.972\n",
      "Imputing row 3301/9806 with 1 missing, elapsed time: 23.974\n",
      "Imputing row 3401/9806 with 1 missing, elapsed time: 23.976\n",
      "Imputing row 3501/9806 with 0 missing, elapsed time: 23.978\n",
      "Imputing row 3601/9806 with 0 missing, elapsed time: 23.981\n",
      "Imputing row 3701/9806 with 1 missing, elapsed time: 23.983\n",
      "Imputing row 3801/9806 with 1 missing, elapsed time: 23.986\n",
      "Imputing row 3901/9806 with 0 missing, elapsed time: 23.988\n",
      "Imputing row 4001/9806 with 0 missing, elapsed time: 23.991\n",
      "Imputing row 4101/9806 with 1 missing, elapsed time: 23.994\n",
      "Imputing row 4201/9806 with 0 missing, elapsed time: 23.997\n",
      "Imputing row 4301/9806 with 0 missing, elapsed time: 23.999\n",
      "Imputing row 4401/9806 with 0 missing, elapsed time: 24.001\n",
      "Imputing row 4501/9806 with 1 missing, elapsed time: 24.004\n",
      "Imputing row 4601/9806 with 0 missing, elapsed time: 24.006\n",
      "Imputing row 4701/9806 with 0 missing, elapsed time: 24.008\n",
      "Imputing row 4801/9806 with 0 missing, elapsed time: 24.011\n",
      "Imputing row 4901/9806 with 0 missing, elapsed time: 24.013\n",
      "Imputing row 5001/9806 with 0 missing, elapsed time: 24.015\n",
      "Imputing row 5101/9806 with 0 missing, elapsed time: 24.017\n",
      "Imputing row 5201/9806 with 0 missing, elapsed time: 24.021\n",
      "Imputing row 5301/9806 with 2 missing, elapsed time: 24.024\n",
      "Imputing row 5401/9806 with 0 missing, elapsed time: 24.026\n",
      "Imputing row 5501/9806 with 0 missing, elapsed time: 24.029\n",
      "Imputing row 5601/9806 with 0 missing, elapsed time: 24.031\n",
      "Imputing row 5701/9806 with 0 missing, elapsed time: 24.033\n",
      "Imputing row 5801/9806 with 1 missing, elapsed time: 24.036\n",
      "Imputing row 5901/9806 with 1 missing, elapsed time: 24.037\n",
      "Imputing row 6001/9806 with 0 missing, elapsed time: 24.040\n",
      "Imputing row 6101/9806 with 0 missing, elapsed time: 24.042\n",
      "Imputing row 6201/9806 with 0 missing, elapsed time: 24.045\n",
      "Imputing row 6301/9806 with 0 missing, elapsed time: 24.047\n",
      "Imputing row 6401/9806 with 1 missing, elapsed time: 24.049\n",
      "Imputing row 6501/9806 with 0 missing, elapsed time: 24.052\n",
      "Imputing row 6601/9806 with 1 missing, elapsed time: 24.055\n",
      "Imputing row 6701/9806 with 0 missing, elapsed time: 24.057\n",
      "Imputing row 6801/9806 with 0 missing, elapsed time: 24.060\n",
      "Imputing row 6901/9806 with 1 missing, elapsed time: 24.063\n",
      "Imputing row 7001/9806 with 1 missing, elapsed time: 24.065\n",
      "Imputing row 7101/9806 with 0 missing, elapsed time: 24.068\n",
      "Imputing row 7201/9806 with 2 missing, elapsed time: 24.070\n",
      "Imputing row 7301/9806 with 0 missing, elapsed time: 24.073\n",
      "Imputing row 7401/9806 with 1 missing, elapsed time: 24.075\n",
      "Imputing row 7501/9806 with 0 missing, elapsed time: 24.078\n",
      "Imputing row 7601/9806 with 0 missing, elapsed time: 24.081\n",
      "Imputing row 7701/9806 with 0 missing, elapsed time: 24.083\n",
      "Imputing row 7801/9806 with 0 missing, elapsed time: 24.085\n",
      "Imputing row 7901/9806 with 0 missing, elapsed time: 24.087\n",
      "Imputing row 8001/9806 with 0 missing, elapsed time: 24.091\n",
      "Imputing row 8101/9806 with 1 missing, elapsed time: 24.094\n",
      "Imputing row 8201/9806 with 0 missing, elapsed time: 24.097\n",
      "Imputing row 8301/9806 with 0 missing, elapsed time: 24.100\n",
      "Imputing row 8401/9806 with 0 missing, elapsed time: 24.102\n",
      "Imputing row 8501/9806 with 0 missing, elapsed time: 24.105\n",
      "Imputing row 8601/9806 with 0 missing, elapsed time: 24.108\n",
      "Imputing row 8701/9806 with 0 missing, elapsed time: 24.111\n",
      "Imputing row 8801/9806 with 1 missing, elapsed time: 24.114\n",
      "Imputing row 8901/9806 with 1 missing, elapsed time: 24.118\n",
      "Imputing row 9001/9806 with 0 missing, elapsed time: 24.120\n",
      "Imputing row 9101/9806 with 1 missing, elapsed time: 24.123\n",
      "Imputing row 9201/9806 with 0 missing, elapsed time: 24.126\n",
      "Imputing row 9301/9806 with 0 missing, elapsed time: 24.127\n",
      "Imputing row 9401/9806 with 0 missing, elapsed time: 24.130\n",
      "Imputing row 9501/9806 with 8 missing, elapsed time: 24.133\n",
      "Imputing row 9601/9806 with 0 missing, elapsed time: 24.136\n",
      "Imputing row 9701/9806 with 0 missing, elapsed time: 24.139\n",
      "Imputing row 9801/9806 with 0 missing, elapsed time: 24.142\n"
     ]
    }
   ],
   "source": [
    "df = knn.KNN_Imputer(df)"
   ]
  },
  {
   "cell_type": "markdown",
   "metadata": {
    "papermill": {
     "duration": 0.060291,
     "end_time": "2020-09-11T08:51:11.257011",
     "exception": false,
     "start_time": "2020-09-11T08:51:11.196720",
     "status": "completed"
    },
    "tags": []
   },
   "source": [
    "# Dropper Function to drop unwanted variables"
   ]
  },
  {
   "cell_type": "code",
   "execution_count": 26,
   "metadata": {
    "execution": {
     "iopub.execute_input": "2020-09-11T08:51:11.388922Z",
     "iopub.status.busy": "2020-09-11T08:51:11.388176Z",
     "iopub.status.idle": "2020-09-11T08:51:11.389937Z",
     "shell.execute_reply": "2020-09-11T08:51:11.390454Z"
    },
    "papermill": {
     "duration": 0.074486,
     "end_time": "2020-09-11T08:51:11.390604",
     "exception": false,
     "start_time": "2020-09-11T08:51:11.316118",
     "status": "completed"
    },
    "tags": []
   },
   "outputs": [],
   "source": [
    "# The elements present in the list will be dropped by Dropper \n",
    "\n",
    "col_list=['CustomerID','Location.Geo','Lati', 'Longi', \n",
    "          'LAT_rad', 'LON_rad', 'dLON', 'dLAT']\n",
    "\n",
    "\n",
    "class Column_Dopper():\n",
    "\n",
    "    def __init__(self):\n",
    "        print(\"Column Dopper object created\")\n",
    "    \n",
    "    def dropper(self,x):\n",
    "        \n",
    "        \"\"\"\n",
    "        This method helps\n",
    "        to drop the columns\n",
    "        in our original \n",
    "        dataframe which is \n",
    "        available in the \n",
    "        col_list and return \n",
    "        us final dataset\n",
    "        \"\"\"\n",
    "        \n",
    "        data=[]\n",
    "        for i in x.columns:\n",
    "            if i not in col_list:\n",
    "                data.append(i)\n",
    "        return df[data]\n",
    "\n",
    "    def remove_outliers(self,data):\n",
    "        \n",
    "        \"\"\"\n",
    "        This method helps\n",
    "        to remove the outliers\n",
    "        from the target \n",
    "        variable, hence it \n",
    "        removes the influencial\n",
    "        values\n",
    "        \"\"\"\n",
    "        \n",
    "        q1 =df['Customer.Lifetime.Value'].quantile(.25)\n",
    "        q3 = df['Customer.Lifetime.Value'].quantile(.75)\n",
    "        iqr = q3-q1\n",
    "        df_out = df[~((df['Customer.Lifetime.Value'] < \\\n",
    "        (q1 - 1.5 *iqr))  |  (df['Customer.Lifetime.Value'] > \\\n",
    "                            (q3+ 1.5 * iqr)))]\n",
    "        return df_out"
   ]
  },
  {
   "cell_type": "code",
   "execution_count": 27,
   "metadata": {
    "execution": {
     "iopub.execute_input": "2020-09-11T08:51:11.514476Z",
     "iopub.status.busy": "2020-09-11T08:51:11.513742Z",
     "iopub.status.idle": "2020-09-11T08:51:11.521176Z",
     "shell.execute_reply": "2020-09-11T08:51:11.520157Z"
    },
    "papermill": {
     "duration": 0.070619,
     "end_time": "2020-09-11T08:51:11.521391",
     "exception": false,
     "start_time": "2020-09-11T08:51:11.450772",
     "status": "completed"
    },
    "tags": []
   },
   "outputs": [
    {
     "name": "stdout",
     "output_type": "stream",
     "text": [
      "Column Dopper object created\n"
     ]
    }
   ],
   "source": [
    "drop = Column_Dopper()"
   ]
  },
  {
   "cell_type": "code",
   "execution_count": 28,
   "metadata": {
    "execution": {
     "iopub.execute_input": "2020-09-11T08:51:11.650172Z",
     "iopub.status.busy": "2020-09-11T08:51:11.649408Z",
     "iopub.status.idle": "2020-09-11T08:51:11.654804Z",
     "shell.execute_reply": "2020-09-11T08:51:11.654263Z"
    },
    "papermill": {
     "duration": 0.071737,
     "end_time": "2020-09-11T08:51:11.654925",
     "exception": false,
     "start_time": "2020-09-11T08:51:11.583188",
     "status": "completed"
    },
    "tags": []
   },
   "outputs": [],
   "source": [
    "df=drop.dropper(df)"
   ]
  },
  {
   "cell_type": "code",
   "execution_count": 29,
   "metadata": {
    "execution": {
     "iopub.execute_input": "2020-09-11T08:51:11.783137Z",
     "iopub.status.busy": "2020-09-11T08:51:11.782376Z",
     "iopub.status.idle": "2020-09-11T08:51:11.788570Z",
     "shell.execute_reply": "2020-09-11T08:51:11.789077Z"
    },
    "papermill": {
     "duration": 0.07273,
     "end_time": "2020-09-11T08:51:11.789240",
     "exception": false,
     "start_time": "2020-09-11T08:51:11.716510",
     "status": "completed"
    },
    "tags": []
   },
   "outputs": [],
   "source": [
    "df=drop.remove_outliers(df)"
   ]
  },
  {
   "cell_type": "markdown",
   "metadata": {
    "papermill": {
     "duration": 0.061154,
     "end_time": "2020-09-11T08:51:11.911715",
     "exception": false,
     "start_time": "2020-09-11T08:51:11.850561",
     "status": "completed"
    },
    "tags": []
   },
   "source": [
    "# Model Selection using KFold CrossValidation\n",
    "\n",
    "Cross-validation is a statistical method used to estimate the skill of machine learning models.\n",
    "\n",
    "It is commonly used in applied machine learning to compare and select a model for a given predictive modeling problem because it is easy to understand, easy to implement, and results in skill estimates that generally have a lower bias than other methods.\n",
    "\n",
    "        \n",
    "        (i)    That k-fold cross validation is a procedure used to estimate the skill of the model on new data.\n",
    "\n",
    "        (ii)   There are common tactics that you can use to select the value of k for your dataset.\n",
    "\n",
    "        (iii)  There are commonly used variations on cross-validation such as stratified and repeated that are available in scikit-                 learn.\n"
   ]
  },
  {
   "cell_type": "code",
   "execution_count": 30,
   "metadata": {
    "execution": {
     "iopub.execute_input": "2020-09-11T08:51:12.053683Z",
     "iopub.status.busy": "2020-09-11T08:51:12.052843Z",
     "iopub.status.idle": "2020-09-11T08:51:12.993997Z",
     "shell.execute_reply": "2020-09-11T08:51:12.993333Z"
    },
    "papermill": {
     "duration": 1.021571,
     "end_time": "2020-09-11T08:51:12.994140",
     "exception": false,
     "start_time": "2020-09-11T08:51:11.972569",
     "status": "completed"
    },
    "tags": []
   },
   "outputs": [],
   "source": [
    "from sklearn.model_selection import KFold, cross_val_score, GridSearchCV\n",
    "from sklearn.neighbors import KNeighborsRegressor\n",
    "from sklearn import metrics\n",
    "from sklearn.metrics import r2_score\n",
    "from sklearn.linear_model import LinearRegression\n",
    "from sklearn.ensemble import RandomForestRegressor\n",
    "from xgboost import XGBRegressor\n",
    "from sklearn.tree import DecisionTreeRegressor\n",
    "from sklearn.model_selection import train_test_split\n",
    "x = df.drop(['Customer.Lifetime.Value'],axis=1)\n",
    "y = df['Customer.Lifetime.Value']\n",
    "x_train,x_test,y_train,y_test=train_test_split(x\\\n",
    "                ,y,test_size=0.30,random_state=42)\n",
    "\n",
    "class Model_Selector():\n",
    "    \n",
    "    \n",
    "\n",
    "    def __init__(self,n_estimators=100,\\\n",
    "            random_state=42,max_depth=10):\n",
    "        print(\"Model Selector object created\")\n",
    "        \n",
    "    \"\"\"\n",
    "    This method helps to select\n",
    "    the best machine learning \n",
    "    model to compute the relationship\n",
    "    betweem i/p and d/p variable\n",
    "    \n",
    "    \"\"\"    \n",
    "        \n",
    "        \n",
    "    def Regression_Model_Selector(self,df):\n",
    "        seed = 42\n",
    "        models = []\n",
    "        models.append((\"LR\", LinearRegression()))\n",
    "        models.append((\"RF\", RandomForestRegressor()))\n",
    "        models.append((\"KNN\", KNeighborsRegressor()))\n",
    "        models.append((\"CART\", DecisionTreeRegressor()))\n",
    "        models.append((\"XGB\", XGBRegressor()))\n",
    "        result = []\n",
    "        names = []\n",
    "        scoring = 'r2'\n",
    "        seed = 42\n",
    "        \n",
    "        \n",
    "\n",
    "        for name, model in models:\n",
    "            kfold = KFold(n_splits = 5, random_state =seed)\n",
    "            cv_results = cross_val_score(model, x_train,\\\n",
    "                    y_train, cv = kfold, scoring = scoring)\n",
    "            result.append(cv_results)\n",
    "            names.append(name)\n",
    "            msg = (name, cv_results.mean(), cv_results.std())\n",
    "            print(msg)\n",
    "            \n",
    "            \n",
    "            \n",
    "        fig = plt.figure(figsize = (8,4))\n",
    "        fig.suptitle('Algorithm Comparison')\n",
    "        ax = fig.add_subplot(1,1,1)\n",
    "        plt.boxplot(result)\n",
    "        ax.set_xticklabels(names)\n",
    "        plt.show()"
   ]
  },
  {
   "cell_type": "code",
   "execution_count": 31,
   "metadata": {
    "execution": {
     "iopub.execute_input": "2020-09-11T08:51:13.125006Z",
     "iopub.status.busy": "2020-09-11T08:51:13.124196Z",
     "iopub.status.idle": "2020-09-11T08:51:13.130208Z",
     "shell.execute_reply": "2020-09-11T08:51:13.131127Z"
    },
    "papermill": {
     "duration": 0.076408,
     "end_time": "2020-09-11T08:51:13.131355",
     "exception": false,
     "start_time": "2020-09-11T08:51:13.054947",
     "status": "completed"
    },
    "tags": []
   },
   "outputs": [
    {
     "name": "stdout",
     "output_type": "stream",
     "text": [
      "Model Selector object created\n"
     ]
    }
   ],
   "source": [
    "MS = Model_Selector()"
   ]
  },
  {
   "cell_type": "code",
   "execution_count": 32,
   "metadata": {
    "execution": {
     "iopub.execute_input": "2020-09-11T08:51:13.261633Z",
     "iopub.status.busy": "2020-09-11T08:51:13.260941Z",
     "iopub.status.idle": "2020-09-11T08:51:33.002464Z",
     "shell.execute_reply": "2020-09-11T08:51:33.001902Z"
    },
    "papermill": {
     "duration": 19.809456,
     "end_time": "2020-09-11T08:51:33.002594",
     "exception": false,
     "start_time": "2020-09-11T08:51:13.193138",
     "status": "completed"
    },
    "tags": []
   },
   "outputs": [
    {
     "name": "stdout",
     "output_type": "stream",
     "text": [
      "('LR', 0.2859536439898667, 0.01426028260169178)\n",
      "('RF', 0.9090527900179687, 0.008007857716847575)\n",
      "('KNN', -0.03147199727604155, 0.02613888434561803)\n",
      "('CART', 0.82515955159173, 0.026201521250776332)\n",
      "('XGB', 0.9064604749441975, 0.00849113845903245)\n"
     ]
    },
    {
     "data": {
      "image/png": "[encoded data removed]",
      "text/plain": [
       "<Figure size 576x288 with 1 Axes>"
      ]
     },
     "metadata": {
      "needs_background": "light"
     },
     "output_type": "display_data"
    }
   ],
   "source": [
    "MS.Regression_Model_Selector(df)"
   ]
  },
  {
   "cell_type": "markdown",
   "metadata": {
    "papermill": {
     "duration": 0.062808,
     "end_time": "2020-09-11T08:51:33.129265",
     "exception": false,
     "start_time": "2020-09-11T08:51:33.066457",
     "status": "completed"
    },
    "tags": []
   },
   "source": [
    "# Model Building\n",
    "\n",
    "The Model Building process is used to estimate or compute  the relationship between independent and dependant variables.\n",
    "\n",
    "Model Building  involves setting up ways of collecting data, understanding and paying attention to what is important in the data to answer the questions you are asking, finding a statistical, mathematical or a simulation model to gain understanding and make predictions."
   ]
  },
  {
   "cell_type": "code",
   "execution_count": 33,
   "metadata": {
    "execution": {
     "iopub.execute_input": "2020-09-11T08:51:33.274528Z",
     "iopub.status.busy": "2020-09-11T08:51:33.273634Z",
     "iopub.status.idle": "2020-09-11T08:51:34.159249Z",
     "shell.execute_reply": "2020-09-11T08:51:34.158549Z"
    },
    "papermill": {
     "duration": 0.966871,
     "end_time": "2020-09-11T08:51:34.159379",
     "exception": false,
     "start_time": "2020-09-11T08:51:33.192508",
     "status": "completed"
    },
    "tags": []
   },
   "outputs": [],
   "source": [
    "import statsmodels.api as sm\n",
    "\n",
    "class Data_Modelling():\n",
    "    \n",
    "\n",
    "    def __init__(self,n_estimators=100,random_state=42,max_depth=10):\n",
    "        \n",
    "        print(\"Data Modelling object created\")\n",
    "        \n",
    "        \n",
    "    def OLS_Summary(self,data):\n",
    "        model2 =sm.OLS(y_train,x_train).fit()\n",
    "        return model2.summary()\n",
    "    \n",
    "        \n",
    "    def Linear_Regression_Model(self,df):\n",
    "        regressor = LinearRegression()\n",
    "        reg=regressor.fit(x_train,y_train)\n",
    "        LR_pred=regressor.predict(x_test)\n",
    "        LR_RMSE = np.sqrt(metrics.mean_squared_error(y_test,LR_pred))\n",
    "        LR_r2_score = r2_score(y_test,LR_pred)\n",
    "        return LR_RMSE,LR_r2_score\n",
    "    \n",
    "\n",
    "    def Decision_Tree_Model(self,df):\n",
    "        regressor = DecisionTreeRegressor(random_state=29)\n",
    "        reg=regressor.fit(x_train,y_train)\n",
    "        DT_pred=regressor.predict(x_test)\n",
    "        DT_RMSE = np.sqrt(metrics.mean_squared_error(y_test,DT_pred))\n",
    "        DT_r2_score = r2_score(y_test,DT_pred)\n",
    "        return DT_RMSE,DT_r2_score\n",
    "    \n",
    "\n",
    "    def Random_Forest_Model(self,df):\n",
    "        regressor = RandomForestRegressor(n_estimators=100,random_state=29,max_depth=12)\n",
    "        reg=regressor.fit(x_train,y_train)\n",
    "        RF_pred=regressor.predict(x_test)\n",
    "        RF_RMSE = np.sqrt(metrics.mean_squared_error(y_test,RF_pred))\n",
    "        RF_r2_score = r2_score(y_test,RF_pred)\n",
    "        return RF_RMSE,RF_r2_score\n",
    "    \n",
    "\n",
    "    def Extreme_Gradient_Boosting_Model(self,df):\n",
    "        regressor = XGBRegressor(n_estimators=100,random_state=29,max_depth=9,learning_rate=0.07)\n",
    "        reg=regressor.fit(x_train,y_train)\n",
    "        XGB_pred=regressor.predict(x_test)\n",
    "        XGB_RMSE = np.sqrt(metrics.mean_squared_error(y_test,XGB_pred))\n",
    "        XGB_r2_score = r2_score(y_test,XGB_pred)\n",
    "        return XGB_RMSE,XGB_r2_score"
   ]
  },
  {
   "cell_type": "code",
   "execution_count": 34,
   "metadata": {
    "execution": {
     "iopub.execute_input": "2020-09-11T08:51:34.328468Z",
     "iopub.status.busy": "2020-09-11T08:51:34.327362Z",
     "iopub.status.idle": "2020-09-11T08:51:34.332844Z",
     "shell.execute_reply": "2020-09-11T08:51:34.333739Z"
    },
    "papermill": {
     "duration": 0.110715,
     "end_time": "2020-09-11T08:51:34.333982",
     "exception": false,
     "start_time": "2020-09-11T08:51:34.223267",
     "status": "completed"
    },
    "tags": []
   },
   "outputs": [
    {
     "name": "stdout",
     "output_type": "stream",
     "text": [
      "Data Modelling object created\n"
     ]
    }
   ],
   "source": [
    "model = Data_Modelling()"
   ]
  },
  {
   "cell_type": "code",
   "execution_count": 35,
   "metadata": {
    "execution": {
     "iopub.execute_input": "2020-09-11T08:51:34.477259Z",
     "iopub.status.busy": "2020-09-11T08:51:34.476479Z",
     "iopub.status.idle": "2020-09-11T08:51:34.520772Z",
     "shell.execute_reply": "2020-09-11T08:51:34.521324Z"
    },
    "papermill": {
     "duration": 0.117622,
     "end_time": "2020-09-11T08:51:34.521490",
     "exception": false,
     "start_time": "2020-09-11T08:51:34.403868",
     "status": "completed"
    },
    "tags": []
   },
   "outputs": [
    {
     "data": {
      "text/html": [
       "<table class=\"simpletable\">\n",
       "<caption>OLS Regression Results</caption>\n",
       "<tr>\n",
       "  <th>Dep. Variable:</th>    <td>Customer.Lifetime.Value</td> <th>  R-squared (uncentered):</th>      <td>   0.852</td> \n",
       "</tr>\n",
       "<tr>\n",
       "  <th>Model:</th>                      <td>OLS</td>           <th>  Adj. R-squared (uncentered):</th> <td>   0.852</td> \n",
       "</tr>\n",
       "<tr>\n",
       "  <th>Method:</th>                <td>Least Squares</td>      <th>  F-statistic:       </th>          <td>   1798.</td> \n",
       "</tr>\n",
       "<tr>\n",
       "  <th>Date:</th>                <td>Fri, 11 Sep 2020</td>     <th>  Prob (F-statistic):</th>           <td>  0.00</td>  \n",
       "</tr>\n",
       "<tr>\n",
       "  <th>Time:</th>                    <td>08:51:34</td>         <th>  Log-Likelihood:    </th>          <td> -58250.</td> \n",
       "</tr>\n",
       "<tr>\n",
       "  <th>No. Observations:</th>         <td>  6246</td>          <th>  AIC:               </th>          <td>1.165e+05</td>\n",
       "</tr>\n",
       "<tr>\n",
       "  <th>Df Residuals:</th>             <td>  6226</td>          <th>  BIC:               </th>          <td>1.167e+05</td>\n",
       "</tr>\n",
       "<tr>\n",
       "  <th>Df Model:</th>                 <td>    20</td>          <th>                     </th>              <td> </td>    \n",
       "</tr>\n",
       "<tr>\n",
       "  <th>Covariance Type:</th>         <td>nonrobust</td>        <th>                     </th>              <td> </td>    \n",
       "</tr>\n",
       "</table>\n",
       "<table class=\"simpletable\">\n",
       "<tr>\n",
       "                <td></td>                   <th>coef</th>     <th>std err</th>      <th>t</th>      <th>P>|t|</th>  <th>[0.025</th>    <th>0.975]</th>  \n",
       "</tr>\n",
       "<tr>\n",
       "  <th>Coverage</th>                      <td> -275.9089</td> <td>   78.321</td> <td>   -3.523</td> <td> 0.000</td> <td> -429.445</td> <td> -122.372</td>\n",
       "</tr>\n",
       "<tr>\n",
       "  <th>Education</th>                     <td> -140.8684</td> <td>   74.612</td> <td>   -1.888</td> <td> 0.059</td> <td> -287.133</td> <td>    5.396</td>\n",
       "</tr>\n",
       "<tr>\n",
       "  <th>EmploymentStatus</th>              <td>  206.7692</td> <td>  174.600</td> <td>    1.184</td> <td> 0.236</td> <td> -135.506</td> <td>  549.045</td>\n",
       "</tr>\n",
       "<tr>\n",
       "  <th>Gender</th>                        <td>  -71.7410</td> <td>   69.403</td> <td>   -1.034</td> <td> 0.301</td> <td> -207.794</td> <td>   64.312</td>\n",
       "</tr>\n",
       "<tr>\n",
       "  <th>Income</th>                        <td>    0.0063</td> <td>    0.001</td> <td>    4.847</td> <td> 0.000</td> <td>    0.004</td> <td>    0.009</td>\n",
       "</tr>\n",
       "<tr>\n",
       "  <th>Location.Code</th>                 <td>  -48.4717</td> <td>  117.475</td> <td>   -0.413</td> <td> 0.680</td> <td> -278.763</td> <td>  181.819</td>\n",
       "</tr>\n",
       "<tr>\n",
       "  <th>Marital.Status</th>                <td>   68.1609</td> <td>   98.772</td> <td>    0.690</td> <td> 0.490</td> <td> -125.467</td> <td>  261.788</td>\n",
       "</tr>\n",
       "<tr>\n",
       "  <th>Monthly.Premium.Auto</th>          <td>   48.5036</td> <td>    1.793</td> <td>   27.046</td> <td> 0.000</td> <td>   44.988</td> <td>   52.019</td>\n",
       "</tr>\n",
       "<tr>\n",
       "  <th>Months.Since.Last.Claim</th>       <td>   -0.9115</td> <td>    3.472</td> <td>   -0.263</td> <td> 0.793</td> <td>   -7.718</td> <td>    5.895</td>\n",
       "</tr>\n",
       "<tr>\n",
       "  <th>Months.Since.Policy.Inception</th> <td>   -0.9111</td> <td>    1.237</td> <td>   -0.736</td> <td> 0.462</td> <td>   -3.337</td> <td>    1.515</td>\n",
       "</tr>\n",
       "<tr>\n",
       "  <th>Number.of.Open.Complaints</th>     <td> -166.9260</td> <td>   38.742</td> <td>   -4.309</td> <td> 0.000</td> <td> -242.873</td> <td>  -90.979</td>\n",
       "</tr>\n",
       "<tr>\n",
       "  <th>Number.of.Policies</th>            <td>  321.3495</td> <td>   14.100</td> <td>   22.790</td> <td> 0.000</td> <td>  293.708</td> <td>  348.991</td>\n",
       "</tr>\n",
       "<tr>\n",
       "  <th>Policy.Type</th>                   <td> -169.6120</td> <td>   93.008</td> <td>   -1.824</td> <td> 0.068</td> <td> -351.939</td> <td>   12.715</td>\n",
       "</tr>\n",
       "<tr>\n",
       "  <th>Policy</th>                        <td>  581.1151</td> <td>  187.564</td> <td>    3.098</td> <td> 0.002</td> <td>  213.425</td> <td>  948.805</td>\n",
       "</tr>\n",
       "<tr>\n",
       "  <th>Renew.Offer.Type</th>              <td>  557.5410</td> <td>   73.131</td> <td>    7.624</td> <td> 0.000</td> <td>  414.178</td> <td>  700.904</td>\n",
       "</tr>\n",
       "<tr>\n",
       "  <th>Sales.Channel</th>                 <td>  -54.1850</td> <td>   71.311</td> <td>   -0.760</td> <td> 0.447</td> <td> -193.980</td> <td>   85.610</td>\n",
       "</tr>\n",
       "<tr>\n",
       "  <th>Total.Claim.Amount</th>            <td>   -0.4397</td> <td>    0.223</td> <td>   -1.973</td> <td> 0.049</td> <td>   -0.876</td> <td>   -0.003</td>\n",
       "</tr>\n",
       "<tr>\n",
       "  <th>Vehicle.Class</th>                 <td> -215.1362</td> <td>   77.967</td> <td>   -2.759</td> <td> 0.006</td> <td> -367.978</td> <td>  -62.294</td>\n",
       "</tr>\n",
       "<tr>\n",
       "  <th>Vehicle.Size</th>                  <td>    7.6454</td> <td>   64.239</td> <td>    0.119</td> <td> 0.905</td> <td> -118.285</td> <td>  133.576</td>\n",
       "</tr>\n",
       "<tr>\n",
       "  <th>distance</th>                      <td>    0.0938</td> <td>    0.020</td> <td>    4.638</td> <td> 0.000</td> <td>    0.054</td> <td>    0.133</td>\n",
       "</tr>\n",
       "</table>\n",
       "<table class=\"simpletable\">\n",
       "<tr>\n",
       "  <th>Omnibus:</th>       <td>1475.498</td> <th>  Durbin-Watson:     </th> <td>   1.945</td>\n",
       "</tr>\n",
       "<tr>\n",
       "  <th>Prob(Omnibus):</th>  <td> 0.000</td>  <th>  Jarque-Bera (JB):  </th> <td>2947.586</td>\n",
       "</tr>\n",
       "<tr>\n",
       "  <th>Skew:</th>           <td> 1.422</td>  <th>  Prob(JB):          </th> <td>    0.00</td>\n",
       "</tr>\n",
       "<tr>\n",
       "  <th>Kurtosis:</th>       <td> 4.800</td>  <th>  Cond. No.          </th> <td>2.76e+05</td>\n",
       "</tr>\n",
       "</table><br/><br/>Warnings:<br/>[1] Standard Errors assume that the covariance matrix of the errors is correctly specified.<br/>[2] The condition number is large, 2.76e+05. This might indicate that there are<br/>strong multicollinearity or other numerical problems."
      ],
      "text/plain": [
       "<class 'statsmodels.iolib.summary.Summary'>\n",
       "\"\"\"\n",
       "                                   OLS Regression Results                                   \n",
       "============================================================================================\n",
       "Dep. Variable:     Customer.Lifetime.Value   R-squared (uncentered):                   0.852\n",
       "Model:                                 OLS   Adj. R-squared (uncentered):              0.852\n",
       "Method:                      Least Squares   F-statistic:                              1798.\n",
       "Date:                     Fri, 11 Sep 2020   Prob (F-statistic):                        0.00\n",
       "Time:                             08:51:34   Log-Likelihood:                         -58250.\n",
       "No. Observations:                     6246   AIC:                                  1.165e+05\n",
       "Df Residuals:                         6226   BIC:                                  1.167e+05\n",
       "Df Model:                               20                                                  \n",
       "Covariance Type:                 nonrobust                                                  \n",
       "=================================================================================================\n",
       "                                    coef    std err          t      P>|t|      [0.025      0.975]\n",
       "-------------------------------------------------------------------------------------------------\n",
       "Coverage                       -275.9089     78.321     -3.523      0.000    -429.445    -122.372\n",
       "Education                      -140.8684     74.612     -1.888      0.059    -287.133       5.396\n",
       "EmploymentStatus                206.7692    174.600      1.184      0.236    -135.506     549.045\n",
       "Gender                          -71.7410     69.403     -1.034      0.301    -207.794      64.312\n",
       "Income                            0.0063      0.001      4.847      0.000       0.004       0.009\n",
       "Location.Code                   -48.4717    117.475     -0.413      0.680    -278.763     181.819\n",
       "Marital.Status                   68.1609     98.772      0.690      0.490    -125.467     261.788\n",
       "Monthly.Premium.Auto             48.5036      1.793     27.046      0.000      44.988      52.019\n",
       "Months.Since.Last.Claim          -0.9115      3.472     -0.263      0.793      -7.718       5.895\n",
       "Months.Since.Policy.Inception    -0.9111      1.237     -0.736      0.462      -3.337       1.515\n",
       "Number.of.Open.Complaints      -166.9260     38.742     -4.309      0.000    -242.873     -90.979\n",
       "Number.of.Policies              321.3495     14.100     22.790      0.000     293.708     348.991\n",
       "Policy.Type                    -169.6120     93.008     -1.824      0.068    -351.939      12.715\n",
       "Policy                          581.1151    187.564      3.098      0.002     213.425     948.805\n",
       "Renew.Offer.Type                557.5410     73.131      7.624      0.000     414.178     700.904\n",
       "Sales.Channel                   -54.1850     71.311     -0.760      0.447    -193.980      85.610\n",
       "Total.Claim.Amount               -0.4397      0.223     -1.973      0.049      -0.876      -0.003\n",
       "Vehicle.Class                  -215.1362     77.967     -2.759      0.006    -367.978     -62.294\n",
       "Vehicle.Size                      7.6454     64.239      0.119      0.905    -118.285     133.576\n",
       "distance                          0.0938      0.020      4.638      0.000       0.054       0.133\n",
       "==============================================================================\n",
       "Omnibus:                     1475.498   Durbin-Watson:                   1.945\n",
       "Prob(Omnibus):                  0.000   Jarque-Bera (JB):             2947.586\n",
       "Skew:                           1.422   Prob(JB):                         0.00\n",
       "Kurtosis:                       4.800   Cond. No.                     2.76e+05\n",
       "==============================================================================\n",
       "\n",
       "Warnings:\n",
       "[1] Standard Errors assume that the covariance matrix of the errors is correctly specified.\n",
       "[2] The condition number is large, 2.76e+05. This might indicate that there are\n",
       "strong multicollinearity or other numerical problems.\n",
       "\"\"\""
      ]
     },
     "execution_count": 35,
     "metadata": {},
     "output_type": "execute_result"
    }
   ],
   "source": [
    "model.OLS_Summary(df)"
   ]
  },
  {
   "cell_type": "code",
   "execution_count": 36,
   "metadata": {
    "execution": {
     "iopub.execute_input": "2020-09-11T08:51:34.658421Z",
     "iopub.status.busy": "2020-09-11T08:51:34.657280Z",
     "iopub.status.idle": "2020-09-11T08:51:34.671519Z",
     "shell.execute_reply": "2020-09-11T08:51:34.672166Z"
    },
    "papermill": {
     "duration": 0.084954,
     "end_time": "2020-09-11T08:51:34.672322",
     "exception": false,
     "start_time": "2020-09-11T08:51:34.587368",
     "status": "completed"
    },
    "tags": []
   },
   "outputs": [
    {
     "data": {
      "text/plain": [
       "(2703.3602428755967, 0.3148306269155674)"
      ]
     },
     "execution_count": 36,
     "metadata": {},
     "output_type": "execute_result"
    }
   ],
   "source": [
    "model.Linear_Regression_Model(df)"
   ]
  },
  {
   "cell_type": "code",
   "execution_count": 37,
   "metadata": {
    "execution": {
     "iopub.execute_input": "2020-09-11T08:51:34.811007Z",
     "iopub.status.busy": "2020-09-11T08:51:34.809933Z",
     "iopub.status.idle": "2020-09-11T08:51:34.888380Z",
     "shell.execute_reply": "2020-09-11T08:51:34.888980Z"
    },
    "papermill": {
     "duration": 0.149813,
     "end_time": "2020-09-11T08:51:34.889131",
     "exception": false,
     "start_time": "2020-09-11T08:51:34.739318",
     "status": "completed"
    },
    "tags": []
   },
   "outputs": [
    {
     "data": {
      "text/plain": [
       "(1329.0278556467324, 0.8344007887142622)"
      ]
     },
     "execution_count": 37,
     "metadata": {},
     "output_type": "execute_result"
    }
   ],
   "source": [
    "model.Decision_Tree_Model(df)"
   ]
  },
  {
   "cell_type": "code",
   "execution_count": 38,
   "metadata": {
    "execution": {
     "iopub.execute_input": "2020-09-11T08:51:35.029361Z",
     "iopub.status.busy": "2020-09-11T08:51:35.028313Z",
     "iopub.status.idle": "2020-09-11T08:51:38.123448Z",
     "shell.execute_reply": "2020-09-11T08:51:38.124041Z"
    },
    "papermill": {
     "duration": 3.168493,
     "end_time": "2020-09-11T08:51:38.124190",
     "exception": false,
     "start_time": "2020-09-11T08:51:34.955697",
     "status": "completed"
    },
    "tags": []
   },
   "outputs": [
    {
     "data": {
      "text/plain": [
       "(938.1865012183166, 0.9174782447858896)"
      ]
     },
     "execution_count": 38,
     "metadata": {},
     "output_type": "execute_result"
    }
   ],
   "source": [
    "model.Random_Forest_Model(df)"
   ]
  },
  {
   "cell_type": "code",
   "execution_count": 39,
   "metadata": {
    "execution": {
     "iopub.execute_input": "2020-09-11T08:51:38.260950Z",
     "iopub.status.busy": "2020-09-11T08:51:38.259936Z",
     "iopub.status.idle": "2020-09-11T08:51:39.104855Z",
     "shell.execute_reply": "2020-09-11T08:51:39.105646Z"
    },
    "papermill": {
     "duration": 0.91554,
     "end_time": "2020-09-11T08:51:39.105844",
     "exception": false,
     "start_time": "2020-09-11T08:51:38.190304",
     "status": "completed"
    },
    "tags": []
   },
   "outputs": [
    {
     "data": {
      "text/plain": [
       "(946.5425486743164, 0.9160017227967053)"
      ]
     },
     "execution_count": 39,
     "metadata": {},
     "output_type": "execute_result"
    }
   ],
   "source": [
    "model.Extreme_Gradient_Boosting_Model(df)"
   ]
  },
  {
   "cell_type": "markdown",
   "metadata": {
    "papermill": {
     "duration": 0.086357,
     "end_time": "2020-09-11T08:51:39.278809",
     "exception": false,
     "start_time": "2020-09-11T08:51:39.192452",
     "status": "completed"
    },
    "tags": []
   },
   "source": [
    "# Feature Selection"
   ]
  },
  {
   "cell_type": "code",
   "execution_count": 40,
   "metadata": {
    "execution": {
     "iopub.execute_input": "2020-09-11T08:51:39.425451Z",
     "iopub.status.busy": "2020-09-11T08:51:39.424409Z",
     "iopub.status.idle": "2020-09-11T08:51:39.601000Z",
     "shell.execute_reply": "2020-09-11T08:51:39.600288Z"
    },
    "papermill": {
     "duration": 0.252425,
     "end_time": "2020-09-11T08:51:39.601128",
     "exception": false,
     "start_time": "2020-09-11T08:51:39.348703",
     "status": "completed"
    },
    "tags": []
   },
   "outputs": [],
   "source": [
    "from sklearn.feature_selection import RFE\n",
    "from catboost import CatBoostRegressor\n",
    "\n",
    "class Feature_Selection():\n",
    "\n",
    "    def __init__(self,n_estimators=100,\\\n",
    "            random_state=42,max_depth=10):\n",
    "        print(\"Feature Selection object created\")\n",
    "        \n",
    "    def Regression_Feature_Selector(self,data):\n",
    "        x = df.drop(['Customer.Lifetime.Value'],axis=1)\n",
    "        y = df['Customer.Lifetime.Value']\n",
    "        x_train,x_test,y_train,y_test=\\\n",
    "        train_test_split(x,y,test_size=0.30,random_state=42)\n",
    "        estimator = RandomForestRegressor()\n",
    "        selector = RFE(estimator,6,step=1)\n",
    "        selector = selector.fit(x_train,y_train)\n",
    "        rank =pd.DataFrame(selector.ranking_,\\\n",
    "                        columns=['Importance'])\n",
    "        Columns = pd.DataFrame(x_train.columns,\\\n",
    "                            columns=['Columns'])\n",
    "        Var = pd.concat([rank,Columns],axis=1)\n",
    "        Var.sort_values([\"Importance\"], axis=0,\\\n",
    "                    ascending=True, inplace=True) \n",
    "        return Var\n",
    "    \n",
    "    def Feature_visualizer(self,data):\n",
    "        RF_Selector = RandomForestRegressor()\n",
    "        RF_Selector = RF_Selector.fit(x_train,y_train)\n",
    "        importances = RF_Selector.feature_importances_\n",
    "        std = np.std([tree.feature_importances_ for tree \\\n",
    "                          in RF_Selector.estimators_],\n",
    "                         axis=0)\n",
    "        indices = np.argsort(importances)[::-1]\n",
    "\n",
    "            # Print the feature ranking\n",
    "        print(\"Feature ranking:\")\n",
    "        for f in range(x_train.shape[1]):\n",
    "            print(\"%d. feature %d (%f)\" % (f + 1, indices[f],\\\n",
    "                                        importances[indices[f]]))\n",
    "\n",
    "            # Plot the feature importances of the forest\n",
    "\n",
    "        plt.figure(1, figsize=(14, 13))\n",
    "        plt.title(\"Feature importances\")\n",
    "        plt.bar(range(x_train.shape[1]), importances[indices],\n",
    "                   color=\"g\", yerr=std[indices], align=\"center\")\n",
    "        plt.xticks(range(x_train.shape[1]), \\\n",
    "                    x_train.columns[indices],rotation=90)\n",
    "        plt.xlim([-1, x_train.shape[1]])\n",
    "        plt.show()    "
   ]
  },
  {
   "cell_type": "code",
   "execution_count": 41,
   "metadata": {
    "execution": {
     "iopub.execute_input": "2020-09-11T08:51:39.742430Z",
     "iopub.status.busy": "2020-09-11T08:51:39.741516Z",
     "iopub.status.idle": "2020-09-11T08:51:39.746289Z",
     "shell.execute_reply": "2020-09-11T08:51:39.745706Z"
    },
    "papermill": {
     "duration": 0.07835,
     "end_time": "2020-09-11T08:51:39.746413",
     "exception": false,
     "start_time": "2020-09-11T08:51:39.668063",
     "status": "completed"
    },
    "tags": []
   },
   "outputs": [
    {
     "name": "stdout",
     "output_type": "stream",
     "text": [
      "Feature Selection object created\n"
     ]
    }
   ],
   "source": [
    "FS = Feature_Selection()"
   ]
  },
  {
   "cell_type": "code",
   "execution_count": 42,
   "metadata": {
    "execution": {
     "iopub.execute_input": "2020-09-11T08:51:39.889475Z",
     "iopub.status.busy": "2020-09-11T08:51:39.888812Z",
     "iopub.status.idle": "2020-09-11T08:52:33.230949Z",
     "shell.execute_reply": "2020-09-11T08:52:33.231480Z"
    },
    "papermill": {
     "duration": 53.417361,
     "end_time": "2020-09-11T08:52:33.231644",
     "exception": false,
     "start_time": "2020-09-11T08:51:39.814283",
     "status": "completed"
    },
    "tags": []
   },
   "outputs": [
    {
     "data": {
      "text/html": [
       "<div>\n",
       "<style scoped>\n",
       "    .dataframe tbody tr th:only-of-type {\n",
       "        vertical-align: middle;\n",
       "    }\n",
       "\n",
       "    .dataframe tbody tr th {\n",
       "        vertical-align: top;\n",
       "    }\n",
       "\n",
       "    .dataframe thead th {\n",
       "        text-align: right;\n",
       "    }\n",
       "</style>\n",
       "<table border=\"1\" class=\"dataframe\">\n",
       "  <thead>\n",
       "    <tr style=\"text-align: right;\">\n",
       "      <th></th>\n",
       "      <th>Importance</th>\n",
       "      <th>Columns</th>\n",
       "    </tr>\n",
       "  </thead>\n",
       "  <tbody>\n",
       "    <tr>\n",
       "      <th>9</th>\n",
       "      <td>1</td>\n",
       "      <td>Months.Since.Policy.Inception</td>\n",
       "    </tr>\n",
       "    <tr>\n",
       "      <th>16</th>\n",
       "      <td>1</td>\n",
       "      <td>Total.Claim.Amount</td>\n",
       "    </tr>\n",
       "    <tr>\n",
       "      <th>11</th>\n",
       "      <td>1</td>\n",
       "      <td>Number.of.Policies</td>\n",
       "    </tr>\n",
       "    <tr>\n",
       "      <th>7</th>\n",
       "      <td>1</td>\n",
       "      <td>Monthly.Premium.Auto</td>\n",
       "    </tr>\n",
       "    <tr>\n",
       "      <th>19</th>\n",
       "      <td>1</td>\n",
       "      <td>distance</td>\n",
       "    </tr>\n",
       "    <tr>\n",
       "      <th>4</th>\n",
       "      <td>1</td>\n",
       "      <td>Income</td>\n",
       "    </tr>\n",
       "    <tr>\n",
       "      <th>8</th>\n",
       "      <td>2</td>\n",
       "      <td>Months.Since.Last.Claim</td>\n",
       "    </tr>\n",
       "    <tr>\n",
       "      <th>10</th>\n",
       "      <td>3</td>\n",
       "      <td>Number.of.Open.Complaints</td>\n",
       "    </tr>\n",
       "    <tr>\n",
       "      <th>0</th>\n",
       "      <td>4</td>\n",
       "      <td>Coverage</td>\n",
       "    </tr>\n",
       "    <tr>\n",
       "      <th>18</th>\n",
       "      <td>5</td>\n",
       "      <td>Vehicle.Size</td>\n",
       "    </tr>\n",
       "    <tr>\n",
       "      <th>17</th>\n",
       "      <td>6</td>\n",
       "      <td>Vehicle.Class</td>\n",
       "    </tr>\n",
       "    <tr>\n",
       "      <th>15</th>\n",
       "      <td>7</td>\n",
       "      <td>Sales.Channel</td>\n",
       "    </tr>\n",
       "    <tr>\n",
       "      <th>14</th>\n",
       "      <td>8</td>\n",
       "      <td>Renew.Offer.Type</td>\n",
       "    </tr>\n",
       "    <tr>\n",
       "      <th>3</th>\n",
       "      <td>9</td>\n",
       "      <td>Gender</td>\n",
       "    </tr>\n",
       "    <tr>\n",
       "      <th>1</th>\n",
       "      <td>10</td>\n",
       "      <td>Education</td>\n",
       "    </tr>\n",
       "    <tr>\n",
       "      <th>6</th>\n",
       "      <td>11</td>\n",
       "      <td>Marital.Status</td>\n",
       "    </tr>\n",
       "    <tr>\n",
       "      <th>12</th>\n",
       "      <td>12</td>\n",
       "      <td>Policy.Type</td>\n",
       "    </tr>\n",
       "    <tr>\n",
       "      <th>2</th>\n",
       "      <td>13</td>\n",
       "      <td>EmploymentStatus</td>\n",
       "    </tr>\n",
       "    <tr>\n",
       "      <th>13</th>\n",
       "      <td>14</td>\n",
       "      <td>Policy</td>\n",
       "    </tr>\n",
       "    <tr>\n",
       "      <th>5</th>\n",
       "      <td>15</td>\n",
       "      <td>Location.Code</td>\n",
       "    </tr>\n",
       "  </tbody>\n",
       "</table>\n",
       "</div>"
      ],
      "text/plain": [
       "    Importance                        Columns\n",
       "9            1  Months.Since.Policy.Inception\n",
       "16           1             Total.Claim.Amount\n",
       "11           1             Number.of.Policies\n",
       "7            1           Monthly.Premium.Auto\n",
       "19           1                       distance\n",
       "4            1                         Income\n",
       "8            2        Months.Since.Last.Claim\n",
       "10           3      Number.of.Open.Complaints\n",
       "0            4                       Coverage\n",
       "18           5                   Vehicle.Size\n",
       "17           6                  Vehicle.Class\n",
       "15           7                  Sales.Channel\n",
       "14           8               Renew.Offer.Type\n",
       "3            9                         Gender\n",
       "1           10                      Education\n",
       "6           11                 Marital.Status\n",
       "12          12                    Policy.Type\n",
       "2           13               EmploymentStatus\n",
       "13          14                         Policy\n",
       "5           15                  Location.Code"
      ]
     },
     "execution_count": 42,
     "metadata": {},
     "output_type": "execute_result"
    }
   ],
   "source": [
    "FS.Regression_Feature_Selector(df)"
   ]
  },
  {
   "cell_type": "code",
   "execution_count": 43,
   "metadata": {
    "execution": {
     "iopub.execute_input": "2020-09-11T08:52:33.375496Z",
     "iopub.status.busy": "2020-09-11T08:52:33.374455Z",
     "iopub.status.idle": "2020-09-11T08:52:37.869092Z",
     "shell.execute_reply": "2020-09-11T08:52:37.868509Z"
    },
    "papermill": {
     "duration": 4.569399,
     "end_time": "2020-09-11T08:52:37.869213",
     "exception": false,
     "start_time": "2020-09-11T08:52:33.299814",
     "status": "completed"
    },
    "tags": []
   },
   "outputs": [
    {
     "name": "stdout",
     "output_type": "stream",
     "text": [
      "Feature ranking:\n",
      "1. feature 11 (0.593797)\n",
      "2. feature 7 (0.325684)\n",
      "3. feature 4 (0.017361)\n",
      "4. feature 16 (0.014814)\n",
      "5. feature 9 (0.009992)\n",
      "6. feature 19 (0.009621)\n",
      "7. feature 8 (0.008696)\n",
      "8. feature 0 (0.004549)\n",
      "9. feature 10 (0.004171)\n",
      "10. feature 18 (0.002070)\n",
      "11. feature 17 (0.001814)\n",
      "12. feature 14 (0.001237)\n",
      "13. feature 1 (0.001196)\n",
      "14. feature 15 (0.001128)\n",
      "15. feature 3 (0.001008)\n",
      "16. feature 6 (0.000845)\n",
      "17. feature 12 (0.000773)\n",
      "18. feature 5 (0.000455)\n",
      "19. feature 13 (0.000407)\n",
      "20. feature 2 (0.000383)\n"
     ]
    },
    {
     "data": {
      "image/png": "[encoded data removed]",
      "text/plain": [
       "<Figure size 1008x936 with 1 Axes>"
      ]
     },
     "metadata": {
      "needs_background": "light"
     },
     "output_type": "display_data"
    }
   ],
   "source": [
    "FS.Feature_visualizer(df)"
   ]
  },
  {
   "cell_type": "code",
   "execution_count": 44,
   "metadata": {
    "execution": {
     "iopub.execute_input": "2020-09-11T08:52:38.023101Z",
     "iopub.status.busy": "2020-09-11T08:52:38.022315Z",
     "iopub.status.idle": "2020-09-11T08:52:38.025912Z",
     "shell.execute_reply": "2020-09-11T08:52:38.025221Z"
    },
    "papermill": {
     "duration": 0.081693,
     "end_time": "2020-09-11T08:52:38.026035",
     "exception": false,
     "start_time": "2020-09-11T08:52:37.944342",
     "status": "completed"
    },
    "tags": []
   },
   "outputs": [],
   "source": [
    "feature_list=[['Months.Since.Policy.Inception',\\\n",
    "'Total.Claim.Amount','Number.of.Policies',\\\n",
    "'Monthly.Premium.Auto','distance','Income',\\\n",
    "'Months.Since.Last.Claim']]\n",
    "\n",
    "\n",
    "class Feature_Dopper():\n",
    "\n",
    "    def __init__(self):\n",
    "        \n",
    "        \n",
    "        print(\"Column Dopper object created\")\n",
    "        \n",
    "        \n",
    "    \n",
    "    def drop_Feature(self,x):\n",
    "        \n",
    "        \"\"\"\n",
    "        This method helps\n",
    "        to removes all the \n",
    "        variable in dataset \n",
    "        except variables \n",
    "        availabe in the \n",
    "        feature list\n",
    "        \"\"\"\n",
    "        for i in feature_list:\n",
    "            data = x[i]\n",
    "        return data"
   ]
  },
  {
   "cell_type": "code",
   "execution_count": 45,
   "metadata": {
    "execution": {
     "iopub.execute_input": "2020-09-11T08:52:38.204741Z",
     "iopub.status.busy": "2020-09-11T08:52:38.203939Z",
     "iopub.status.idle": "2020-09-11T08:52:38.209508Z",
     "shell.execute_reply": "2020-09-11T08:52:38.209006Z"
    },
    "papermill": {
     "duration": 0.098927,
     "end_time": "2020-09-11T08:52:38.209622",
     "exception": false,
     "start_time": "2020-09-11T08:52:38.110695",
     "status": "completed"
    },
    "tags": []
   },
   "outputs": [
    {
     "name": "stdout",
     "output_type": "stream",
     "text": [
      "Column Dopper object created\n"
     ]
    }
   ],
   "source": [
    "FD =Feature_Dopper()"
   ]
  },
  {
   "cell_type": "code",
   "execution_count": 46,
   "metadata": {
    "execution": {
     "iopub.execute_input": "2020-09-11T08:52:38.380908Z",
     "iopub.status.busy": "2020-09-11T08:52:38.380220Z",
     "iopub.status.idle": "2020-09-11T08:52:38.384107Z",
     "shell.execute_reply": "2020-09-11T08:52:38.383550Z"
    },
    "papermill": {
     "duration": 0.092828,
     "end_time": "2020-09-11T08:52:38.384221",
     "exception": false,
     "start_time": "2020-09-11T08:52:38.291393",
     "status": "completed"
    },
    "tags": []
   },
   "outputs": [
    {
     "data": {
      "text/html": [
       "<div>\n",
       "<style scoped>\n",
       "    .dataframe tbody tr th:only-of-type {\n",
       "        vertical-align: middle;\n",
       "    }\n",
       "\n",
       "    .dataframe tbody tr th {\n",
       "        vertical-align: top;\n",
       "    }\n",
       "\n",
       "    .dataframe thead th {\n",
       "        text-align: right;\n",
       "    }\n",
       "</style>\n",
       "<table border=\"1\" class=\"dataframe\">\n",
       "  <thead>\n",
       "    <tr style=\"text-align: right;\">\n",
       "      <th></th>\n",
       "      <th>Months.Since.Policy.Inception</th>\n",
       "      <th>Total.Claim.Amount</th>\n",
       "      <th>Number.of.Policies</th>\n",
       "      <th>Monthly.Premium.Auto</th>\n",
       "      <th>distance</th>\n",
       "      <th>Income</th>\n",
       "      <th>Months.Since.Last.Claim</th>\n",
       "    </tr>\n",
       "  </thead>\n",
       "  <tbody>\n",
       "    <tr>\n",
       "      <th>0</th>\n",
       "      <td>33.0</td>\n",
       "      <td>267.214383</td>\n",
       "      <td>2.0</td>\n",
       "      <td>67.0</td>\n",
       "      <td>12258.261420</td>\n",
       "      <td>0.0</td>\n",
       "      <td>2.0</td>\n",
       "    </tr>\n",
       "    <tr>\n",
       "      <th>1</th>\n",
       "      <td>42.0</td>\n",
       "      <td>565.508572</td>\n",
       "      <td>5.0</td>\n",
       "      <td>101.0</td>\n",
       "      <td>11201.509077</td>\n",
       "      <td>63357.0</td>\n",
       "      <td>26.0</td>\n",
       "    </tr>\n",
       "    <tr>\n",
       "      <th>2</th>\n",
       "      <td>44.0</td>\n",
       "      <td>369.818708</td>\n",
       "      <td>3.0</td>\n",
       "      <td>108.0</td>\n",
       "      <td>12515.884069</td>\n",
       "      <td>64125.0</td>\n",
       "      <td>3.0</td>\n",
       "    </tr>\n",
       "    <tr>\n",
       "      <th>3</th>\n",
       "      <td>15.0</td>\n",
       "      <td>556.800000</td>\n",
       "      <td>3.0</td>\n",
       "      <td>116.0</td>\n",
       "      <td>11802.814975</td>\n",
       "      <td>67544.0</td>\n",
       "      <td>2.0</td>\n",
       "    </tr>\n",
       "    <tr>\n",
       "      <th>4</th>\n",
       "      <td>68.0</td>\n",
       "      <td>345.600000</td>\n",
       "      <td>5.0</td>\n",
       "      <td>72.0</td>\n",
       "      <td>11940.804448</td>\n",
       "      <td>19651.0</td>\n",
       "      <td>3.0</td>\n",
       "    </tr>\n",
       "  </tbody>\n",
       "</table>\n",
       "</div>"
      ],
      "text/plain": [
       "   Months.Since.Policy.Inception  Total.Claim.Amount  Number.of.Policies  \\\n",
       "0                           33.0          267.214383                 2.0   \n",
       "1                           42.0          565.508572                 5.0   \n",
       "2                           44.0          369.818708                 3.0   \n",
       "3                           15.0          556.800000                 3.0   \n",
       "4                           68.0          345.600000                 5.0   \n",
       "\n",
       "   Monthly.Premium.Auto      distance   Income  Months.Since.Last.Claim  \n",
       "0                  67.0  12258.261420      0.0                      2.0  \n",
       "1                 101.0  11201.509077  63357.0                     26.0  \n",
       "2                 108.0  12515.884069  64125.0                      3.0  \n",
       "3                 116.0  11802.814975  67544.0                      2.0  \n",
       "4                  72.0  11940.804448  19651.0                      3.0  "
      ]
     },
     "execution_count": 46,
     "metadata": {},
     "output_type": "execute_result"
    }
   ],
   "source": [
    "x = FD.drop_Feature(df)\n",
    "x.head()"
   ]
  },
  {
   "cell_type": "code",
   "execution_count": 47,
   "metadata": {
    "execution": {
     "iopub.execute_input": "2020-09-11T08:52:38.534031Z",
     "iopub.status.busy": "2020-09-11T08:52:38.533277Z",
     "iopub.status.idle": "2020-09-11T08:52:38.537435Z",
     "shell.execute_reply": "2020-09-11T08:52:38.538011Z"
    },
    "papermill": {
     "duration": 0.082258,
     "end_time": "2020-09-11T08:52:38.538165",
     "exception": false,
     "start_time": "2020-09-11T08:52:38.455907",
     "status": "completed"
    },
    "tags": []
   },
   "outputs": [],
   "source": [
    "y = df['Customer.Lifetime.Value']\n",
    "x_train,x_test,y_train,y_test=train_test_split(x\\\n",
    "                ,y,test_size=0.30,random_state=42)"
   ]
  },
  {
   "cell_type": "markdown",
   "metadata": {
    "papermill": {
     "duration": 0.071173,
     "end_time": "2020-09-11T08:52:38.680559",
     "exception": false,
     "start_time": "2020-09-11T08:52:38.609386",
     "status": "completed"
    },
    "tags": []
   },
   "source": [
    "# Model Creation After Feature Selection"
   ]
  },
  {
   "cell_type": "code",
   "execution_count": 48,
   "metadata": {
    "execution": {
     "iopub.execute_input": "2020-09-11T08:52:38.828475Z",
     "iopub.status.busy": "2020-09-11T08:52:38.827838Z",
     "iopub.status.idle": "2020-09-11T08:52:38.851518Z",
     "shell.execute_reply": "2020-09-11T08:52:38.852193Z"
    },
    "papermill": {
     "duration": 0.098623,
     "end_time": "2020-09-11T08:52:38.852345",
     "exception": false,
     "start_time": "2020-09-11T08:52:38.753722",
     "status": "completed"
    },
    "tags": []
   },
   "outputs": [
    {
     "data": {
      "text/html": [
       "<table class=\"simpletable\">\n",
       "<caption>OLS Regression Results</caption>\n",
       "<tr>\n",
       "  <th>Dep. Variable:</th>    <td>Customer.Lifetime.Value</td> <th>  R-squared (uncentered):</th>      <td>   0.850</td> \n",
       "</tr>\n",
       "<tr>\n",
       "  <th>Model:</th>                      <td>OLS</td>           <th>  Adj. R-squared (uncentered):</th> <td>   0.850</td> \n",
       "</tr>\n",
       "<tr>\n",
       "  <th>Method:</th>                <td>Least Squares</td>      <th>  F-statistic:       </th>          <td>   5043.</td> \n",
       "</tr>\n",
       "<tr>\n",
       "  <th>Date:</th>                <td>Fri, 11 Sep 2020</td>     <th>  Prob (F-statistic):</th>           <td>  0.00</td>  \n",
       "</tr>\n",
       "<tr>\n",
       "  <th>Time:</th>                    <td>08:52:38</td>         <th>  Log-Likelihood:    </th>          <td> -58305.</td> \n",
       "</tr>\n",
       "<tr>\n",
       "  <th>No. Observations:</th>         <td>  6246</td>          <th>  AIC:               </th>          <td>1.166e+05</td>\n",
       "</tr>\n",
       "<tr>\n",
       "  <th>Df Residuals:</th>             <td>  6239</td>          <th>  BIC:               </th>          <td>1.167e+05</td>\n",
       "</tr>\n",
       "<tr>\n",
       "  <th>Df Model:</th>                 <td>     7</td>          <th>                     </th>              <td> </td>    \n",
       "</tr>\n",
       "<tr>\n",
       "  <th>Covariance Type:</th>         <td>nonrobust</td>        <th>                     </th>              <td> </td>    \n",
       "</tr>\n",
       "</table>\n",
       "<table class=\"simpletable\">\n",
       "<tr>\n",
       "                <td></td>                   <th>coef</th>     <th>std err</th>      <th>t</th>      <th>P>|t|</th>  <th>[0.025</th>    <th>0.975]</th>  \n",
       "</tr>\n",
       "<tr>\n",
       "  <th>Months.Since.Policy.Inception</th> <td>   -0.2283</td> <td>    1.241</td> <td>   -0.184</td> <td> 0.854</td> <td>   -2.662</td> <td>    2.205</td>\n",
       "</tr>\n",
       "<tr>\n",
       "  <th>Total.Claim.Amount</th>            <td>   -0.4478</td> <td>    0.176</td> <td>   -2.550</td> <td> 0.011</td> <td>   -0.792</td> <td>   -0.104</td>\n",
       "</tr>\n",
       "<tr>\n",
       "  <th>Number.of.Policies</th>            <td>  329.1702</td> <td>   14.123</td> <td>   23.307</td> <td> 0.000</td> <td>  301.484</td> <td>  356.857</td>\n",
       "</tr>\n",
       "<tr>\n",
       "  <th>Monthly.Premium.Auto</th>          <td>   52.4570</td> <td>    1.475</td> <td>   35.567</td> <td> 0.000</td> <td>   49.566</td> <td>   55.348</td>\n",
       "</tr>\n",
       "<tr>\n",
       "  <th>distance</th>                      <td>    0.0491</td> <td>    0.013</td> <td>    3.917</td> <td> 0.000</td> <td>    0.025</td> <td>    0.074</td>\n",
       "</tr>\n",
       "<tr>\n",
       "  <th>Income</th>                        <td>    0.0040</td> <td>    0.001</td> <td>    3.157</td> <td> 0.002</td> <td>    0.002</td> <td>    0.006</td>\n",
       "</tr>\n",
       "<tr>\n",
       "  <th>Months.Since.Last.Claim</th>       <td>   -0.7589</td> <td>    3.491</td> <td>   -0.217</td> <td> 0.828</td> <td>   -7.602</td> <td>    6.084</td>\n",
       "</tr>\n",
       "</table>\n",
       "<table class=\"simpletable\">\n",
       "<tr>\n",
       "  <th>Omnibus:</th>       <td>1472.513</td> <th>  Durbin-Watson:     </th> <td>   1.945</td>\n",
       "</tr>\n",
       "<tr>\n",
       "  <th>Prob(Omnibus):</th>  <td> 0.000</td>  <th>  Jarque-Bera (JB):  </th> <td>2909.695</td>\n",
       "</tr>\n",
       "<tr>\n",
       "  <th>Skew:</th>           <td> 1.428</td>  <th>  Prob(JB):          </th> <td>    0.00</td>\n",
       "</tr>\n",
       "<tr>\n",
       "  <th>Kurtosis:</th>       <td> 4.737</td>  <th>  Cond. No.          </th> <td>2.02e+04</td>\n",
       "</tr>\n",
       "</table><br/><br/>Warnings:<br/>[1] Standard Errors assume that the covariance matrix of the errors is correctly specified.<br/>[2] The condition number is large, 2.02e+04. This might indicate that there are<br/>strong multicollinearity or other numerical problems."
      ],
      "text/plain": [
       "<class 'statsmodels.iolib.summary.Summary'>\n",
       "\"\"\"\n",
       "                                   OLS Regression Results                                   \n",
       "============================================================================================\n",
       "Dep. Variable:     Customer.Lifetime.Value   R-squared (uncentered):                   0.850\n",
       "Model:                                 OLS   Adj. R-squared (uncentered):              0.850\n",
       "Method:                      Least Squares   F-statistic:                              5043.\n",
       "Date:                     Fri, 11 Sep 2020   Prob (F-statistic):                        0.00\n",
       "Time:                             08:52:38   Log-Likelihood:                         -58305.\n",
       "No. Observations:                     6246   AIC:                                  1.166e+05\n",
       "Df Residuals:                         6239   BIC:                                  1.167e+05\n",
       "Df Model:                                7                                                  \n",
       "Covariance Type:                 nonrobust                                                  \n",
       "=================================================================================================\n",
       "                                    coef    std err          t      P>|t|      [0.025      0.975]\n",
       "-------------------------------------------------------------------------------------------------\n",
       "Months.Since.Policy.Inception    -0.2283      1.241     -0.184      0.854      -2.662       2.205\n",
       "Total.Claim.Amount               -0.4478      0.176     -2.550      0.011      -0.792      -0.104\n",
       "Number.of.Policies              329.1702     14.123     23.307      0.000     301.484     356.857\n",
       "Monthly.Premium.Auto             52.4570      1.475     35.567      0.000      49.566      55.348\n",
       "distance                          0.0491      0.013      3.917      0.000       0.025       0.074\n",
       "Income                            0.0040      0.001      3.157      0.002       0.002       0.006\n",
       "Months.Since.Last.Claim          -0.7589      3.491     -0.217      0.828      -7.602       6.084\n",
       "==============================================================================\n",
       "Omnibus:                     1472.513   Durbin-Watson:                   1.945\n",
       "Prob(Omnibus):                  0.000   Jarque-Bera (JB):             2909.695\n",
       "Skew:                           1.428   Prob(JB):                         0.00\n",
       "Kurtosis:                       4.737   Cond. No.                     2.02e+04\n",
       "==============================================================================\n",
       "\n",
       "Warnings:\n",
       "[1] Standard Errors assume that the covariance matrix of the errors is correctly specified.\n",
       "[2] The condition number is large, 2.02e+04. This might indicate that there are\n",
       "strong multicollinearity or other numerical problems.\n",
       "\"\"\""
      ]
     },
     "execution_count": 48,
     "metadata": {},
     "output_type": "execute_result"
    }
   ],
   "source": [
    "model.OLS_Summary(df)"
   ]
  },
  {
   "cell_type": "code",
   "execution_count": 49,
   "metadata": {
    "execution": {
     "iopub.execute_input": "2020-09-11T08:52:39.010242Z",
     "iopub.status.busy": "2020-09-11T08:52:39.009272Z",
     "iopub.status.idle": "2020-09-11T08:52:39.018297Z",
     "shell.execute_reply": "2020-09-11T08:52:39.019024Z"
    },
    "papermill": {
     "duration": 0.093983,
     "end_time": "2020-09-11T08:52:39.019212",
     "exception": false,
     "start_time": "2020-09-11T08:52:38.925229",
     "status": "completed"
    },
    "tags": []
   },
   "outputs": [
    {
     "data": {
      "text/plain": [
       "(2721.2066665532793, 0.3057543786619915)"
      ]
     },
     "execution_count": 49,
     "metadata": {},
     "output_type": "execute_result"
    }
   ],
   "source": [
    "model.Linear_Regression_Model(df)"
   ]
  },
  {
   "cell_type": "code",
   "execution_count": 50,
   "metadata": {
    "execution": {
     "iopub.execute_input": "2020-09-11T08:52:39.184472Z",
     "iopub.status.busy": "2020-09-11T08:52:39.183422Z",
     "iopub.status.idle": "2020-09-11T08:52:39.238349Z",
     "shell.execute_reply": "2020-09-11T08:52:39.237631Z"
    },
    "papermill": {
     "duration": 0.135899,
     "end_time": "2020-09-11T08:52:39.238479",
     "exception": false,
     "start_time": "2020-09-11T08:52:39.102580",
     "status": "completed"
    },
    "tags": []
   },
   "outputs": [
    {
     "data": {
      "text/plain": [
       "(1356.2359790773628, 0.8275510240828231)"
      ]
     },
     "execution_count": 50,
     "metadata": {},
     "output_type": "execute_result"
    }
   ],
   "source": [
    "model.Decision_Tree_Model(df)"
   ]
  },
  {
   "cell_type": "code",
   "execution_count": 51,
   "metadata": {
    "execution": {
     "iopub.execute_input": "2020-09-11T08:52:39.392173Z",
     "iopub.status.busy": "2020-09-11T08:52:39.391506Z",
     "iopub.status.idle": "2020-09-11T08:52:41.700259Z",
     "shell.execute_reply": "2020-09-11T08:52:41.699630Z"
    },
    "papermill": {
     "duration": 2.388466,
     "end_time": "2020-09-11T08:52:41.700403",
     "exception": false,
     "start_time": "2020-09-11T08:52:39.311937",
     "status": "completed"
    },
    "tags": []
   },
   "outputs": [
    {
     "data": {
      "text/plain": [
       "(947.5083603189264, 0.9158302188249479)"
      ]
     },
     "execution_count": 51,
     "metadata": {},
     "output_type": "execute_result"
    }
   ],
   "source": [
    "model.Random_Forest_Model(df)"
   ]
  },
  {
   "cell_type": "code",
   "execution_count": 52,
   "metadata": {
    "execution": {
     "iopub.execute_input": "2020-09-11T08:52:41.855196Z",
     "iopub.status.busy": "2020-09-11T08:52:41.854157Z",
     "iopub.status.idle": "2020-09-11T08:52:42.428125Z",
     "shell.execute_reply": "2020-09-11T08:52:42.428773Z"
    },
    "papermill": {
     "duration": 0.654646,
     "end_time": "2020-09-11T08:52:42.428962",
     "exception": false,
     "start_time": "2020-09-11T08:52:41.774316",
     "status": "completed"
    },
    "tags": []
   },
   "outputs": [
    {
     "data": {
      "text/plain": [
       "(974.8040331301856, 0.9109108671966293)"
      ]
     },
     "execution_count": 52,
     "metadata": {},
     "output_type": "execute_result"
    }
   ],
   "source": [
    "model.Extreme_Gradient_Boosting_Model(df)"
   ]
  },
  {
   "cell_type": "code",
   "execution_count": 10,
   "metadata": {
    "execution": {
     "iopub.execute_input": "2020-09-11T08:52:42.628530Z",
     "iopub.status.busy": "2020-09-11T08:52:42.627739Z",
     "iopub.status.idle": "2020-09-11T08:52:43.051115Z",
     "shell.execute_reply": "2020-09-11T08:52:43.050540Z"
    },
    "papermill": {
     "duration": 0.525976,
     "end_time": "2020-09-11T08:52:43.051240",
     "exception": false,
     "start_time": "2020-09-11T08:52:42.525264",
     "status": "completed"
    },
    "tags": []
   },
   "outputs": [],
   "source": [
    "import pickle\n",
    "pickle.dump(regressor,open('RF_KModel.pkl','wb'))"
   ]
  },
  {
   "cell_type": "markdown",
   "metadata": {
    "papermill": {
     "duration": 0.074317,
     "end_time": "2020-09-11T08:52:43.202032",
     "exception": false,
     "start_time": "2020-09-11T08:52:43.127715",
     "status": "completed"
    },
    "tags": []
   },
   "source": [
    " # Model HyperParameter Tuning\n",
    " \n",
    " \n",
    " The parameters, called hyperparameters, that define the performance of the machine learning algorithm (model), depends on the problem we are trying to solve. Thus, they need to be configured accordingly. This process of finding the best set of parameters is called hyperparameter optimization.\n",
    " \n",
    " \n",
    " The grid search is an exhaustive search through a set of manually specified set of values of hyperparameters. It means you have a set of models (which differ from each other in their parameter values, which lie on a grid). What you do is you then train each of the models and evaluate it using cross-validation. You then select the one that performed best."
   ]
  },
  {
   "cell_type": "code",
   "execution_count": 54,
   "metadata": {
    "execution": {
     "iopub.execute_input": "2020-09-11T08:52:43.370635Z",
     "iopub.status.busy": "2020-09-11T08:52:43.369550Z",
     "iopub.status.idle": "2020-09-11T08:52:43.373953Z",
     "shell.execute_reply": "2020-09-11T08:52:43.372587Z"
    },
    "papermill": {
     "duration": 0.096981,
     "end_time": "2020-09-11T08:52:43.374094",
     "exception": false,
     "start_time": "2020-09-11T08:52:43.277113",
     "status": "completed"
    },
    "tags": []
   },
   "outputs": [],
   "source": [
    "from sklearn.model_selection import GridSearchCV\n",
    "import warnings\n",
    "warnings.filterwarnings(\"ignore\")\n",
    "\n",
    "class Regression_Cross_Validator():\n",
    "    \n",
    "\n",
    "    def __init__(self,n_estimators=100,random_state=42,max_depth=10):\n",
    "        \n",
    "        print(\"Cross Validation object created\")\n",
    "\n",
    "    def Cross_Validated_Random_Forest_Model(self,data):\n",
    "        \n",
    "        \n",
    "        \n",
    "        param_grid = [\n",
    "        {'n_estimators': [10, 100], 'max_features': [5, 60], \n",
    "         'max_depth': [10, 200, None], 'bootstrap': [True, False]}\n",
    "        ]\n",
    "        regressor = RandomForestRegressor(n_estimators=100,random_state=29,max_depth=12)\n",
    "        reg=regressor.fit(x_train,y_train)\n",
    "        grid_search_forest = GridSearchCV(regressor, param_grid, cv=10, scoring='neg_mean_squared_error')\n",
    "        grid_search_forest.fit(x_train, y_train)\n",
    "\n",
    "        grid_best= grid_search_forest.best_estimator_.predict(x_test)\n",
    "        grid_mse = metrics.mean_squared_error(y_test, grid_best)\n",
    "        grid_rScore = r2_score(y_test, grid_best)\n",
    "        grid_rmse = np.sqrt(grid_mse)\n",
    "        return grid_rmse,grid_rScore\n",
    "    \n",
    "    def Cross_Validated_Extreme_Gradient_Boosting_Model(self,data):\n",
    "        \n",
    "        \n",
    "        params={\n",
    "         \"learning_rate\"    : [0.05, 0.1] ,\n",
    "         \"max_depth\"        : [ 10,100],\n",
    "         \"n_estimators\"     : [ 10, 100],\n",
    "         \"colsample_bytree\" : [ 0.3, 0.4, 0.5 , 0.7 ]\n",
    "\n",
    "        }\n",
    "        XGBregressor = XGBRegressor(n_estimators=100,random_state=29,max_depth=9,learning_rate=0.07)\n",
    "        reg=XGBregressor.fit(x_train,y_train)\n",
    "        grid_search_forest = GridSearchCV(XGBregressor, params, cv=10, scoring='neg_mean_squared_error')\n",
    "        grid_search_forest.fit(x_train, y_train)\n",
    "\n",
    "        grid_best= grid_search_forest.best_estimator_.predict(x_test)\n",
    "        grid_mse = metrics.mean_squared_error(y_test, grid_best)\n",
    "        grid_rScore = r2_score(y_test, grid_best)\n",
    "        grid_rmse = np.sqrt(grid_mse)\n",
    "        return grid_rmse,grid_rScore"
   ]
  },
  {
   "cell_type": "code",
   "execution_count": 55,
   "metadata": {
    "execution": {
     "iopub.execute_input": "2020-09-11T08:52:43.533078Z",
     "iopub.status.busy": "2020-09-11T08:52:43.532184Z",
     "iopub.status.idle": "2020-09-11T08:52:43.535231Z",
     "shell.execute_reply": "2020-09-11T08:52:43.536077Z"
    },
    "papermill": {
     "duration": 0.086742,
     "end_time": "2020-09-11T08:52:43.536288",
     "exception": false,
     "start_time": "2020-09-11T08:52:43.449546",
     "status": "completed"
    },
    "tags": []
   },
   "outputs": [
    {
     "name": "stdout",
     "output_type": "stream",
     "text": [
      "Cross Validation object created\n"
     ]
    }
   ],
   "source": [
    "cv = Regression_Cross_Validator()"
   ]
  },
  {
   "cell_type": "code",
   "execution_count": 56,
   "metadata": {
    "execution": {
     "iopub.execute_input": "2020-09-11T08:52:43.693703Z",
     "iopub.status.busy": "2020-09-11T08:52:43.693051Z",
     "iopub.status.idle": "2020-09-11T08:55:22.297756Z",
     "shell.execute_reply": "2020-09-11T08:55:22.298312Z"
    },
    "papermill": {
     "duration": 158.684641,
     "end_time": "2020-09-11T08:55:22.298470",
     "exception": false,
     "start_time": "2020-09-11T08:52:43.613829",
     "status": "completed"
    },
    "tags": []
   },
   "outputs": [
    {
     "data": {
      "text/plain": [
       "(937.3769897934166, 0.9176205906488447)"
      ]
     },
     "execution_count": 56,
     "metadata": {},
     "output_type": "execute_result"
    }
   ],
   "source": [
    "cv.Cross_Validated_Random_Forest_Model(df)"
   ]
  },
  {
   "cell_type": "code",
   "execution_count": 57,
   "metadata": {
    "execution": {
     "iopub.execute_input": "2020-09-11T08:55:22.478151Z",
     "iopub.status.busy": "2020-09-11T08:55:22.477439Z",
     "iopub.status.idle": "2020-09-11T08:57:33.434948Z",
     "shell.execute_reply": "2020-09-11T08:57:33.435627Z"
    },
    "papermill": {
     "duration": 131.051211,
     "end_time": "2020-09-11T08:57:33.435860",
     "exception": false,
     "start_time": "2020-09-11T08:55:22.384649",
     "status": "completed"
    },
    "tags": []
   },
   "outputs": [
    {
     "data": {
      "text/plain": [
       "(1109.3609484084373, 0.884618589313057)"
      ]
     },
     "execution_count": 57,
     "metadata": {},
     "output_type": "execute_result"
    }
   ],
   "source": [
    "cv.Cross_Validated_Extreme_Gradient_Boosting_Model(df)"
   ]
  },
  {
   "cell_type": "code",
   "execution_count": null,
   "metadata": {
    "papermill": {
     "duration": 0.076475,
     "end_time": "2020-09-11T08:57:33.611311",
     "exception": false,
     "start_time": "2020-09-11T08:57:33.534836",
     "status": "completed"
    },
    "tags": []
   },
   "outputs": [],
   "source": []
  }
 ],
 "metadata": {
  "kernelspec": {
   "display_name": "Python 3",
   "language": "python",
   "name": "python3"
  },
  "language_info": {
   "codemirror_mode": {
    "name": "ipython",
    "version": 3
   },
   "file_extension": ".py",
   "mimetype": "text/x-python",
   "name": "python",
   "nbconvert_exporter": "python",
   "pygments_lexer": "ipython3",
   "version": "3.7.7"
  },
  "papermill": {
   "duration": 425.871321,
   "end_time": "2020-09-11T08:57:33.797214",
   "environment_variables": {},
   "exception": null,
   "input_path": "__notebook__.ipynb",
   "output_path": "__notebook__.ipynb",
   "parameters": {},
   "start_time": "2020-09-11T08:50:27.925893",
   "version": "2.1.0"
  }
 },
 "nbformat": 4,
 "nbformat_minor": 4
}
