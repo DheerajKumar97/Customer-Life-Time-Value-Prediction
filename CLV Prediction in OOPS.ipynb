{
 "cells": [
  {
   "cell_type": "markdown",
   "metadata": {},
   "source": [
    "# Four Wheeler Insurance Customer LifeTime Value Prediction <html><font size =\"2\"> &nbsp;&nbsp;&nbsp;&nbsp;BY DHEERAJ KUMAR</html>"
   ]
  },
  {
   "cell_type": "markdown",
   "metadata": {},
   "source": [
    "# PROJECT GOAL\n",
    "<br>\n",
    "\n",
    "The **Requirement** of a Business Problem **is to develop a predictive model to Analyse and to Predit the LifeTime Value of customer** in a Four wheeler insurance company using **Regresson Analysis** with **Python**."
   ]
  },
  {
   "cell_type": "markdown",
   "metadata": {},
   "source": [
    "# FEATURES DETAILS\n",
    "\n",
    "\n",
    "<br>\n",
    "<html>\n",
    "<head>\n",
    "<style>\n",
    "table {\n",
    "  font-family: arial, sans-serif;\n",
    "  border-collapse: collapse;\n",
    "  width: 100%;\n",
    "}\n",
    "\n",
    "td, th {\n",
    "  border: 1px solid #dddddd;\n",
    "  text-align: left;\n",
    "  padding: 8px;\n",
    "}\n",
    "\n",
    "tr:nth-child(even) {\n",
    "  background-color: #dddddd;\n",
    "}\n",
    "</style>\n",
    "</head>\n",
    "<body>\n",
    "\n",
    "<h2></h2>\n",
    "\n",
    "<table>\n",
    "  <tr>\n",
    "    <th>FEATURE NAMES</th>\n",
    "    <th>EXPLANATION</th>\n",
    "\n",
    "  </tr>\n",
    "  <tr>\n",
    "    <td><b>CustomerID</b></td>\n",
    "    <td>ID of the Customer</td>\n",
    "\n",
    "  </tr>\n",
    "  <tr>\n",
    "      <td><b>Customer Lifetime Value</b></td>\n",
    "    <td>Life Time Profit to the owner by Customer</b></td>\n",
    "  \n",
    "  </tr>\n",
    "  <tr>\n",
    "    <td><b>Coverage</b></td>\n",
    "    <td>Insurance Coverge to vehicle<b>[Categorical Variable]</td>\n",
    " \n",
    "  </tr>\n",
    "  <tr>\n",
    "    <td><b>Education</b></td>\n",
    "    <td>Customer Education<b>[Categorical Variable]</b></td>\n",
    " \n",
    "  </tr>\n",
    "  <tr>\n",
    "    <td><b>Employment Status</b></td>\n",
    "    <td>Employment Status of Customer<b>[Categorical Variable]</td>\n",
    "\n",
    "  </tr>\n",
    "  <tr>\n",
    "    <td><b>Gender</b></td>\n",
    "    <td>Gender of Customer <b>[Categorical Variable]</b></td>\n",
    "\n",
    "  </tr>\n",
    "    <tr>\n",
    "        <td><b>Income</b></td>\n",
    "    <td>Income of Customer </b></td>\n",
    "\n",
    "  </tr>\n",
    "    <tr>\n",
    "    <td><b>Location Geo</b></td>\n",
    "    <td>Latitude and Longitude of Customer <b>[Categorical Variable]</b></td>\n",
    "\n",
    "  </tr>\n",
    "    <tr>\n",
    "    <td><b>Location Code</b></td>\n",
    "    <td>Location Code of Customer <b>[Categorical Variable]</b></td>\n",
    "\n",
    "  </tr>\n",
    "    <tr>\n",
    "    <td><b>Marital Status</b></td>\n",
    "    <td>Marital Status of Customer <b>[Categorical Variable]</b></td>\n",
    "\n",
    "  </tr>\n",
    "    <tr>\n",
    "    <td><b>Monthly Premium Auto</b></td>\n",
    "    <td>Monthly Premium Amount of Customers</td>\n",
    "\n",
    "  </tr>\n",
    "    <tr>\n",
    "    <td><b>Months Since Last Claim</b></td>\n",
    "    <td>Last Insurance pay of Customer</td>\n",
    "\n",
    "  </tr>\n",
    "    <tr>\n",
    "    <td><b>Months Since Policy Inception</b></td>\n",
    "    <td>Policy Inception of a Customer</td>\n",
    "\n",
    "  </tr>\n",
    "    <tr>\n",
    "    <td><b>Number of Open Complaints</b></td>\n",
    "    <td>Open Complaints of a Customer</b></td>\n",
    "\n",
    "  </tr>\n",
    "    <tr>\n",
    "    <td><b>Number of Policies</b></td>\n",
    "    <td>Number of Policies of Customer </b></td>\n",
    "\n",
    "  </tr>\n",
    "  <tr>\n",
    "    <td><b>Policy Type</b></td>\n",
    "    <td>Policy Type of Customer <b>[Categorical Variable]</b></td>\n",
    "\n",
    "  </tr>\n",
    "  <tr>\n",
    "    <td><b>Policy</b></td>\n",
    "    <td>Policy taken by Customer <b>[Categorical Variable]</b></td>\n",
    "\n",
    "  </tr>\n",
    "  <tr>\n",
    "    <td><b>Renew Offer Type</b></td>\n",
    "    <td>Renew Offers type for Customer <b>[Categorical Variable]</b></td>\n",
    "\n",
    "  </tr>\n",
    "  <tr>\n",
    "    <td><b>Sales Channel</b></td>\n",
    "    <td>Sales Channel of Customer<b>[Categorical Variable] </b></td>\n",
    "\n",
    "  </tr>\n",
    "  <tr>\n",
    "    <td><b>Total Claim Amount</b></td>\n",
    "    <td>Total Claim Amount of Customers </b></td>\n",
    "\n",
    "  </tr>\n",
    "  <tr>\n",
    "    <td><b>Vehicle Class</b></td>\n",
    "    <td>Vehicle Class of Customers <b>[Categorical Variable]</b></td>\n",
    "\n",
    "  </tr>\n",
    "  <tr>\n",
    "    <td><b>Vehicle Size</b></td>\n",
    "    <td>Vehicle Size of Customers </b></td>\n",
    "\n",
    "  </tr>\n",
    "</table>\n",
    "\n",
    "</body>\n",
    "</html>\n"
   ]
  },
  {
   "cell_type": "markdown",
   "metadata": {},
   "source": [
    "# Import Libraries"
   ]
  },
  {
   "cell_type": "code",
   "execution_count": 197,
   "metadata": {},
   "outputs": [],
   "source": [
    "import numpy as np\n",
    "import pandas as pd\n",
    "import matplotlib.pyplot as plt\n",
    "import seaborn as sns\n",
    "from scipy import stats"
   ]
  },
  {
   "cell_type": "markdown",
   "metadata": {},
   "source": [
    "# Loader Function to Load Dataframe"
   ]
  },
  {
   "cell_type": "code",
   "execution_count": 198,
   "metadata": {},
   "outputs": [],
   "source": [
    "path =\"D:\\Data Science Python Programs\\Terra Final Deployment\\CLV_Train.csv\"\n",
    "class DataFrame_Loader():\n",
    "    data = path\n",
    "    \n",
    "    def __init__(self):\n",
    "        \n",
    "        print(\"Loadind DataFrame\")\n",
    "        \n",
    "    def read_csv(self,data):\n",
    "        self.df = pd.read_csv(data)\n",
    "        \n",
    "    def load_csv(self):\n",
    "        return self.df"
   ]
  },
  {
   "cell_type": "code",
   "execution_count": 199,
   "metadata": {},
   "outputs": [
    {
     "name": "stdout",
     "output_type": "stream",
     "text": [
      "Loadind DataFrame\n"
     ]
    }
   ],
   "source": [
    "data = DataFrame_Loader()"
   ]
  },
  {
   "cell_type": "code",
   "execution_count": 200,
   "metadata": {},
   "outputs": [],
   "source": [
    "data.read_csv(path)"
   ]
  },
  {
   "cell_type": "code",
   "execution_count": 201,
   "metadata": {},
   "outputs": [],
   "source": [
    "df=data.load_csv()"
   ]
  },
  {
   "cell_type": "markdown",
   "metadata": {},
   "source": [
    "# Exploratory Data Analysis"
   ]
  },
  {
   "cell_type": "code",
   "execution_count": 202,
   "metadata": {},
   "outputs": [],
   "source": [
    "class Attribute_Information():\n",
    "\n",
    "    def __init__(self):\n",
    "        \n",
    "        print(\"Attribute Information object created\")\n",
    "        \n",
    "    def Column_information(self,df):\n",
    "    \n",
    "        data_info = pd.DataFrame(\n",
    "                                columns=['No of observation',\n",
    "                                        'No of Variables',\n",
    "                                        'No of Numerical Variables',\n",
    "                                        'No of Factor Variables',\n",
    "                                        'No of Categorical Variables',\n",
    "                                        'No of Logical Variables',\n",
    "                                        'No of Date Variables',\n",
    "                                        'No of zero variance variables'])\n",
    "\n",
    "\n",
    "        data_info.loc[0,'No of observation'] = df.shape[0]\n",
    "        data_info.loc[0,'No of Variables'] = df.shape[1]\n",
    "        data_info.loc[0,'No of Numerical Variables'] = df._get_numeric_data().shape[1]\n",
    "        data_info.loc[0,'No of Factor Variables'] = df.select_dtypes(include='category').shape[1]\n",
    "        data_info.loc[0,'No of Logical Variables'] = df.select_dtypes(include='bool').shape[1]\n",
    "        data_info.loc[0,'No of Categorical Variables'] = df.select_dtypes(include='object').shape[1]\n",
    "        data_info.loc[0,'No of Date Variables'] = df.select_dtypes(include='datetime64').shape[1]\n",
    "        data_info.loc[0,'No of zero variance variables'] = df.loc[:,df.apply(pd.Series.nunique)==1].shape[1]\n",
    "\n",
    "        data_info =data_info.transpose()\n",
    "        data_info.columns=['value']\n",
    "        data_info['value'] = data_info['value'].astype(int)\n",
    "\n",
    "\n",
    "        return data_info\n",
    "\n",
    "    def _get_missing_values(self,data):\n",
    "        \n",
    "        #Getting sum of missing values for each feature\n",
    "        missing_values = data.isnull().sum()\n",
    "        #Feature missing values are sorted from few to many\n",
    "        missing_values.sort_values(ascending=False, inplace=True)\n",
    "        \n",
    "        #Returning missing values\n",
    "        return missing_values\n",
    "\n",
    "    def Generate_Schema(self,data):\n",
    "        \n",
    "        feature_dtypes=data.dtypes\n",
    "        self.missing_values=self._get_missing_values(data)\n",
    "\n",
    "        print(\"=\" * 110)\n",
    "\n",
    "        print(\"{:16} {:16} {:20} {:16}\".format(\"Feature Name\".upper(),\n",
    "                                            \"Data Type\".upper(),\n",
    "                                            \"# of Missing Values\".upper(),\n",
    "                                            \"Samples\".upper()))\n",
    "        for feature_name, dtype, missing_value in zip(self.missing_values.index.values,\n",
    "                                                      feature_dtypes[self.missing_values.index.values],\n",
    "                                                      self.missing_values.values):\n",
    "            print(\"{:18} {:19} {:19} \".format(feature_name, str(dtype), str(missing_value)), end=\"\")\n",
    "            for v in data[feature_name].values[:5]:\n",
    "                print(v, end=\",\")\n",
    "            print()\n",
    "\n",
    "        print(\"=\"*110)\n",
    "        \n",
    "    def Agg_Tabulation(self,data):\n",
    "        \n",
    "        print(\"=\" * 110)\n",
    "        print(\"Aggregation of Table\")\n",
    "        print(\"=\" * 110)\n",
    "        table = pd.DataFrame(data.dtypes,columns=['dtypes'])\n",
    "        table1 =pd.DataFrame(data.columns,columns=['Names'])\n",
    "        table = table.reset_index()\n",
    "        table= table.rename(columns={'index':'Name'})\n",
    "        table['No of Missing'] = data.isnull().sum().values    \n",
    "        table['No of Uniques'] = data.nunique().values\n",
    "        table['Percent of Missing'] = ((data.isnull().sum().values)/ (data.shape[0])) *100\n",
    "        table['First Observation'] = data.loc[0].values\n",
    "        table['Second Observation'] = data.loc[1].values\n",
    "        table['Third Observation'] = data.loc[2].values\n",
    "        for name in table['Name'].value_counts().index:\n",
    "            table.loc[table['Name'] == name, 'Entropy'] = round(stats.entropy(data[name].value_counts(normalize=True), base=2),2)\n",
    "        return table\n",
    "    \n",
    "        print(\"=\" * 110)\n",
    "        \n",
    "    def _iqr(self,x):\n",
    "        return x.quantile(q=0.75) - x.quantile(q=0.25)\n",
    "\n",
    "    def _outlier_count(self,x):\n",
    "        upper_out = x.quantile(q=0.75) + 1.5 * self._iqr(x)\n",
    "        lower_out = x.quantile(q=0.25) - 1.5 * self._iqr(x)\n",
    "        return len(x[x > upper_out]) + len(x[x < lower_out])\n",
    "\n",
    "    def num_count_summary(self,df):\n",
    "        df_num = df._get_numeric_data()\n",
    "        data_info_num = pd.DataFrame()\n",
    "        i=0\n",
    "        for c in  df_num.columns:\n",
    "            data_info_num.loc[c,'Negative values count']= df_num[df_num[c]<0].shape[0]\n",
    "            data_info_num.loc[c,'Positive values count']= df_num[df_num[c]>0].shape[0]\n",
    "            data_info_num.loc[c,'Zero count']= df_num[df_num[c]==0].shape[0]\n",
    "            data_info_num.loc[c,'Unique count']= len(df_num[c].unique())\n",
    "            data_info_num.loc[c,'Negative Infinity count']= df_num[df_num[c]== -np.inf].shape[0]\n",
    "            data_info_num.loc[c,'Positive Infinity count']= df_num[df_num[c]== np.inf].shape[0]\n",
    "            data_info_num.loc[c,'Missing Percentage']= df_num[df_num[c].isnull()].shape[0]/ df_num.shape[0]\n",
    "            data_info_num.loc[c,'Count of outliers']= self._outlier_count(df_num[c])\n",
    "            i = i+1\n",
    "        return data_info_num"
   ]
  },
  {
   "cell_type": "code",
   "execution_count": 203,
   "metadata": {},
   "outputs": [
    {
     "name": "stdout",
     "output_type": "stream",
     "text": [
      "Attribute Information object created\n"
     ]
    }
   ],
   "source": [
    "Info = Attribute_Information()"
   ]
  },
  {
   "cell_type": "code",
   "execution_count": 204,
   "metadata": {},
   "outputs": [
    {
     "data": {
      "text/html": [
       "<div>\n",
       "<style scoped>\n",
       "    .dataframe tbody tr th:only-of-type {\n",
       "        vertical-align: middle;\n",
       "    }\n",
       "\n",
       "    .dataframe tbody tr th {\n",
       "        vertical-align: top;\n",
       "    }\n",
       "\n",
       "    .dataframe thead th {\n",
       "        text-align: right;\n",
       "    }\n",
       "</style>\n",
       "<table border=\"1\" class=\"dataframe\">\n",
       "  <thead>\n",
       "    <tr style=\"text-align: right;\">\n",
       "      <th></th>\n",
       "      <th>value</th>\n",
       "    </tr>\n",
       "  </thead>\n",
       "  <tbody>\n",
       "    <tr>\n",
       "      <th>No of observation</th>\n",
       "      <td>9806</td>\n",
       "    </tr>\n",
       "    <tr>\n",
       "      <th>No of Variables</th>\n",
       "      <td>22</td>\n",
       "    </tr>\n",
       "    <tr>\n",
       "      <th>No of Numerical Variables</th>\n",
       "      <td>9</td>\n",
       "    </tr>\n",
       "    <tr>\n",
       "      <th>No of Factor Variables</th>\n",
       "      <td>0</td>\n",
       "    </tr>\n",
       "    <tr>\n",
       "      <th>No of Categorical Variables</th>\n",
       "      <td>13</td>\n",
       "    </tr>\n",
       "    <tr>\n",
       "      <th>No of Logical Variables</th>\n",
       "      <td>0</td>\n",
       "    </tr>\n",
       "    <tr>\n",
       "      <th>No of Date Variables</th>\n",
       "      <td>0</td>\n",
       "    </tr>\n",
       "    <tr>\n",
       "      <th>No of zero variance variables</th>\n",
       "      <td>0</td>\n",
       "    </tr>\n",
       "  </tbody>\n",
       "</table>\n",
       "</div>"
      ],
      "text/plain": [
       "                               value\n",
       "No of observation               9806\n",
       "No of Variables                   22\n",
       "No of Numerical Variables          9\n",
       "No of Factor Variables             0\n",
       "No of Categorical Variables       13\n",
       "No of Logical Variables            0\n",
       "No of Date Variables               0\n",
       "No of zero variance variables      0"
      ]
     },
     "execution_count": 204,
     "metadata": {},
     "output_type": "execute_result"
    }
   ],
   "source": [
    "Info.Column_information(df)"
   ]
  },
  {
   "cell_type": "code",
   "execution_count": 205,
   "metadata": {},
   "outputs": [
    {
     "data": {
      "text/plain": [
       "Coverage                         925\n",
       "Policy.Type                      891\n",
       "Number.of.Open.Complaints        818\n",
       "Monthly.Premium.Auto             794\n",
       "Education                        129\n",
       "Gender                           129\n",
       "Marital.Status                   129\n",
       "Sales.Channel                    128\n",
       "Renew.Offer.Type                 128\n",
       "Vehicle.Class                    126\n",
       "Vehicle.Size                     126\n",
       "Number.of.Policies               121\n",
       "Policy                           121\n",
       "Location.Code                    119\n",
       "EmploymentStatus                 118\n",
       "Months.Since.Last.Claim            0\n",
       "Months.Since.Policy.Inception      0\n",
       "Location.Geo                       0\n",
       "Income                             0\n",
       "Total.Claim.Amount                 0\n",
       "Customer.Lifetime.Value            0\n",
       "CustomerID                         0\n",
       "dtype: int64"
      ]
     },
     "execution_count": 205,
     "metadata": {},
     "output_type": "execute_result"
    }
   ],
   "source": [
    "Info._get_missing_values(df)"
   ]
  },
  {
   "cell_type": "code",
   "execution_count": 206,
   "metadata": {},
   "outputs": [
    {
     "name": "stdout",
     "output_type": "stream",
     "text": [
      "==============================================================================================================\n",
      "FEATURE NAME     DATA TYPE        # OF MISSING VALUES  SAMPLES         \n",
      "Coverage           object              925                 Basic,Basic,Basic,Basic,Basic,\n",
      "Policy.Type        object              891                 Personal Auto,Personal Auto,Personal Auto,Corporate Auto,Personal Auto,\n",
      "Number.of.Open.Complaints float64             818                 nan,0.0,0.0,nan,0.0,\n",
      "Monthly.Premium.Auto float64             794                 67.0,101.0,108.0,116.0,72.0,\n",
      "Education          object              129                 Bachelor,College,High School or Below,College,Bachelor,\n",
      "Gender             object              129                 F,M,F,M,F,\n",
      "Marital.Status     object              129                 Married,Married,Married,Married,Married,\n",
      "Sales.Channel      object              128                 Branch,Agent,Branch,Branch,Web,\n",
      "Renew.Offer.Type   object              128                 Offer2,Offer2,Offer2,Offer1,Offer2,\n",
      "Vehicle.Class      object              126                 Four-Door Car,SUV,SUV,SUV,Two-Door Car,\n",
      "Vehicle.Size       float64             126                 2.0,2.0,1.0,3.0,3.0,\n",
      "Number.of.Policies float64             121                 2.0,5.0,3.0,3.0,5.0,\n",
      "Policy             object              121                 Personal L2,Personal L2,Personal L1,Corporate L3,Personal L1,\n",
      "Location.Code      object              119                 Urban,Suburban,Urban,Suburban,Suburban,\n",
      "EmploymentStatus   object              118                 Unemployed,Employed,Employed,Employed,Retired,\n",
      "Months.Since.Last.Claim int64               0                   2,26,3,2,3,\n",
      "Months.Since.Policy.Inception int64               0                   33,42,44,15,68,\n",
      "Location.Geo       object              0                   17.7,77.7,28.8,76.6,21.6,88.4,19,72.5,19.1,74.7,\n",
      "Income             object              0                   0,63357,64125,67544,19651,\n",
      "Total.Claim.Amount float64             0                   267.214383,565.508572,369.818708,556.8,345.6,\n",
      "Customer.Lifetime.Value float64             0                   7824.372789,8005.964669,8646.504109,9294.088719,5595.971364999999,\n",
      "CustomerID         int64               0                   5917,2057,4119,1801,9618,\n",
      "==============================================================================================================\n"
     ]
    }
   ],
   "source": [
    "Info.Generate_Schema(df)"
   ]
  },
  {
   "cell_type": "code",
   "execution_count": 207,
   "metadata": {},
   "outputs": [
    {
     "name": "stdout",
     "output_type": "stream",
     "text": [
      "==============================================================================================================\n",
      "Aggregation of Table\n",
      "==============================================================================================================\n"
     ]
    },
    {
     "data": {
      "text/html": [
       "<div>\n",
       "<style scoped>\n",
       "    .dataframe tbody tr th:only-of-type {\n",
       "        vertical-align: middle;\n",
       "    }\n",
       "\n",
       "    .dataframe tbody tr th {\n",
       "        vertical-align: top;\n",
       "    }\n",
       "\n",
       "    .dataframe thead th {\n",
       "        text-align: right;\n",
       "    }\n",
       "</style>\n",
       "<table border=\"1\" class=\"dataframe\">\n",
       "  <thead>\n",
       "    <tr style=\"text-align: right;\">\n",
       "      <th></th>\n",
       "      <th>Name</th>\n",
       "      <th>dtypes</th>\n",
       "      <th>No of Missing</th>\n",
       "      <th>No of Uniques</th>\n",
       "      <th>Percent of Missing</th>\n",
       "      <th>First Observation</th>\n",
       "      <th>Second Observation</th>\n",
       "      <th>Third Observation</th>\n",
       "      <th>Entropy</th>\n",
       "    </tr>\n",
       "  </thead>\n",
       "  <tbody>\n",
       "    <tr>\n",
       "      <th>0</th>\n",
       "      <td>CustomerID</td>\n",
       "      <td>int64</td>\n",
       "      <td>0</td>\n",
       "      <td>9806</td>\n",
       "      <td>0.000000</td>\n",
       "      <td>5917</td>\n",
       "      <td>2057</td>\n",
       "      <td>4119</td>\n",
       "      <td>13.26</td>\n",
       "    </tr>\n",
       "    <tr>\n",
       "      <th>1</th>\n",
       "      <td>Customer.Lifetime.Value</td>\n",
       "      <td>float64</td>\n",
       "      <td>0</td>\n",
       "      <td>6477</td>\n",
       "      <td>0.000000</td>\n",
       "      <td>7824.37</td>\n",
       "      <td>8005.96</td>\n",
       "      <td>8646.5</td>\n",
       "      <td>12.40</td>\n",
       "    </tr>\n",
       "    <tr>\n",
       "      <th>2</th>\n",
       "      <td>Coverage</td>\n",
       "      <td>object</td>\n",
       "      <td>925</td>\n",
       "      <td>3</td>\n",
       "      <td>9.433000</td>\n",
       "      <td>Basic</td>\n",
       "      <td>Basic</td>\n",
       "      <td>Basic</td>\n",
       "      <td>1.28</td>\n",
       "    </tr>\n",
       "    <tr>\n",
       "      <th>3</th>\n",
       "      <td>Education</td>\n",
       "      <td>object</td>\n",
       "      <td>129</td>\n",
       "      <td>5</td>\n",
       "      <td>1.315521</td>\n",
       "      <td>Bachelor</td>\n",
       "      <td>College</td>\n",
       "      <td>High School or Below</td>\n",
       "      <td>2.02</td>\n",
       "    </tr>\n",
       "    <tr>\n",
       "      <th>4</th>\n",
       "      <td>EmploymentStatus</td>\n",
       "      <td>object</td>\n",
       "      <td>118</td>\n",
       "      <td>5</td>\n",
       "      <td>1.203345</td>\n",
       "      <td>Unemployed</td>\n",
       "      <td>Employed</td>\n",
       "      <td>Employed</td>\n",
       "      <td>1.50</td>\n",
       "    </tr>\n",
       "    <tr>\n",
       "      <th>5</th>\n",
       "      <td>Gender</td>\n",
       "      <td>object</td>\n",
       "      <td>129</td>\n",
       "      <td>2</td>\n",
       "      <td>1.315521</td>\n",
       "      <td>F</td>\n",
       "      <td>M</td>\n",
       "      <td>F</td>\n",
       "      <td>1.00</td>\n",
       "    </tr>\n",
       "    <tr>\n",
       "      <th>6</th>\n",
       "      <td>Income</td>\n",
       "      <td>object</td>\n",
       "      <td>0</td>\n",
       "      <td>4622</td>\n",
       "      <td>0.000000</td>\n",
       "      <td>0</td>\n",
       "      <td>63357</td>\n",
       "      <td>64125</td>\n",
       "      <td>9.67</td>\n",
       "    </tr>\n",
       "    <tr>\n",
       "      <th>7</th>\n",
       "      <td>Location.Geo</td>\n",
       "      <td>object</td>\n",
       "      <td>0</td>\n",
       "      <td>2840</td>\n",
       "      <td>0.000000</td>\n",
       "      <td>17.7,77.7</td>\n",
       "      <td>28.8,76.6</td>\n",
       "      <td>21.6,88.4</td>\n",
       "      <td>10.91</td>\n",
       "    </tr>\n",
       "    <tr>\n",
       "      <th>8</th>\n",
       "      <td>Location.Code</td>\n",
       "      <td>object</td>\n",
       "      <td>119</td>\n",
       "      <td>3</td>\n",
       "      <td>1.213543</td>\n",
       "      <td>Urban</td>\n",
       "      <td>Suburban</td>\n",
       "      <td>Urban</td>\n",
       "      <td>1.30</td>\n",
       "    </tr>\n",
       "    <tr>\n",
       "      <th>9</th>\n",
       "      <td>Marital.Status</td>\n",
       "      <td>object</td>\n",
       "      <td>129</td>\n",
       "      <td>3</td>\n",
       "      <td>1.315521</td>\n",
       "      <td>Married</td>\n",
       "      <td>Married</td>\n",
       "      <td>Married</td>\n",
       "      <td>1.37</td>\n",
       "    </tr>\n",
       "    <tr>\n",
       "      <th>10</th>\n",
       "      <td>Monthly.Premium.Auto</td>\n",
       "      <td>float64</td>\n",
       "      <td>794</td>\n",
       "      <td>191</td>\n",
       "      <td>8.097083</td>\n",
       "      <td>67</td>\n",
       "      <td>101</td>\n",
       "      <td>108</td>\n",
       "      <td>6.26</td>\n",
       "    </tr>\n",
       "    <tr>\n",
       "      <th>11</th>\n",
       "      <td>Months.Since.Last.Claim</td>\n",
       "      <td>int64</td>\n",
       "      <td>0</td>\n",
       "      <td>36</td>\n",
       "      <td>0.000000</td>\n",
       "      <td>2</td>\n",
       "      <td>26</td>\n",
       "      <td>3</td>\n",
       "      <td>5.12</td>\n",
       "    </tr>\n",
       "    <tr>\n",
       "      <th>12</th>\n",
       "      <td>Months.Since.Policy.Inception</td>\n",
       "      <td>int64</td>\n",
       "      <td>0</td>\n",
       "      <td>100</td>\n",
       "      <td>0.000000</td>\n",
       "      <td>33</td>\n",
       "      <td>42</td>\n",
       "      <td>44</td>\n",
       "      <td>6.62</td>\n",
       "    </tr>\n",
       "    <tr>\n",
       "      <th>13</th>\n",
       "      <td>Number.of.Open.Complaints</td>\n",
       "      <td>float64</td>\n",
       "      <td>818</td>\n",
       "      <td>6</td>\n",
       "      <td>8.341832</td>\n",
       "      <td>NaN</td>\n",
       "      <td>0</td>\n",
       "      <td>0</td>\n",
       "      <td>1.10</td>\n",
       "    </tr>\n",
       "    <tr>\n",
       "      <th>14</th>\n",
       "      <td>Number.of.Policies</td>\n",
       "      <td>float64</td>\n",
       "      <td>121</td>\n",
       "      <td>9</td>\n",
       "      <td>1.233938</td>\n",
       "      <td>2</td>\n",
       "      <td>5</td>\n",
       "      <td>3</td>\n",
       "      <td>2.60</td>\n",
       "    </tr>\n",
       "    <tr>\n",
       "      <th>15</th>\n",
       "      <td>Policy.Type</td>\n",
       "      <td>object</td>\n",
       "      <td>891</td>\n",
       "      <td>3</td>\n",
       "      <td>9.086274</td>\n",
       "      <td>Personal Auto</td>\n",
       "      <td>Personal Auto</td>\n",
       "      <td>Personal Auto</td>\n",
       "      <td>0.99</td>\n",
       "    </tr>\n",
       "    <tr>\n",
       "      <th>16</th>\n",
       "      <td>Policy</td>\n",
       "      <td>object</td>\n",
       "      <td>121</td>\n",
       "      <td>9</td>\n",
       "      <td>1.233938</td>\n",
       "      <td>Personal L2</td>\n",
       "      <td>Personal L2</td>\n",
       "      <td>Personal L1</td>\n",
       "      <td>2.46</td>\n",
       "    </tr>\n",
       "    <tr>\n",
       "      <th>17</th>\n",
       "      <td>Renew.Offer.Type</td>\n",
       "      <td>object</td>\n",
       "      <td>128</td>\n",
       "      <td>4</td>\n",
       "      <td>1.305323</td>\n",
       "      <td>Offer2</td>\n",
       "      <td>Offer2</td>\n",
       "      <td>Offer2</td>\n",
       "      <td>1.83</td>\n",
       "    </tr>\n",
       "    <tr>\n",
       "      <th>18</th>\n",
       "      <td>Sales.Channel</td>\n",
       "      <td>object</td>\n",
       "      <td>128</td>\n",
       "      <td>4</td>\n",
       "      <td>1.305323</td>\n",
       "      <td>Branch</td>\n",
       "      <td>Agent</td>\n",
       "      <td>Branch</td>\n",
       "      <td>1.91</td>\n",
       "    </tr>\n",
       "    <tr>\n",
       "      <th>19</th>\n",
       "      <td>Total.Claim.Amount</td>\n",
       "      <td>float64</td>\n",
       "      <td>0</td>\n",
       "      <td>4125</td>\n",
       "      <td>0.000000</td>\n",
       "      <td>267.214</td>\n",
       "      <td>565.509</td>\n",
       "      <td>369.819</td>\n",
       "      <td>10.66</td>\n",
       "    </tr>\n",
       "    <tr>\n",
       "      <th>20</th>\n",
       "      <td>Vehicle.Class</td>\n",
       "      <td>object</td>\n",
       "      <td>126</td>\n",
       "      <td>6</td>\n",
       "      <td>1.284928</td>\n",
       "      <td>Four-Door Car</td>\n",
       "      <td>SUV</td>\n",
       "      <td>SUV</td>\n",
       "      <td>1.88</td>\n",
       "    </tr>\n",
       "    <tr>\n",
       "      <th>21</th>\n",
       "      <td>Vehicle.Size</td>\n",
       "      <td>float64</td>\n",
       "      <td>126</td>\n",
       "      <td>3</td>\n",
       "      <td>1.284928</td>\n",
       "      <td>2</td>\n",
       "      <td>2</td>\n",
       "      <td>1</td>\n",
       "      <td>1.16</td>\n",
       "    </tr>\n",
       "  </tbody>\n",
       "</table>\n",
       "</div>"
      ],
      "text/plain": [
       "                             Name   dtypes  No of Missing  No of Uniques  \\\n",
       "0                      CustomerID    int64              0           9806   \n",
       "1         Customer.Lifetime.Value  float64              0           6477   \n",
       "2                        Coverage   object            925              3   \n",
       "3                       Education   object            129              5   \n",
       "4                EmploymentStatus   object            118              5   \n",
       "5                          Gender   object            129              2   \n",
       "6                          Income   object              0           4622   \n",
       "7                    Location.Geo   object              0           2840   \n",
       "8                   Location.Code   object            119              3   \n",
       "9                  Marital.Status   object            129              3   \n",
       "10           Monthly.Premium.Auto  float64            794            191   \n",
       "11        Months.Since.Last.Claim    int64              0             36   \n",
       "12  Months.Since.Policy.Inception    int64              0            100   \n",
       "13      Number.of.Open.Complaints  float64            818              6   \n",
       "14             Number.of.Policies  float64            121              9   \n",
       "15                    Policy.Type   object            891              3   \n",
       "16                         Policy   object            121              9   \n",
       "17               Renew.Offer.Type   object            128              4   \n",
       "18                  Sales.Channel   object            128              4   \n",
       "19             Total.Claim.Amount  float64              0           4125   \n",
       "20                  Vehicle.Class   object            126              6   \n",
       "21                   Vehicle.Size  float64            126              3   \n",
       "\n",
       "    Percent of Missing First Observation Second Observation  \\\n",
       "0             0.000000              5917               2057   \n",
       "1             0.000000           7824.37            8005.96   \n",
       "2             9.433000             Basic              Basic   \n",
       "3             1.315521          Bachelor            College   \n",
       "4             1.203345        Unemployed           Employed   \n",
       "5             1.315521                 F                  M   \n",
       "6             0.000000                 0              63357   \n",
       "7             0.000000         17.7,77.7          28.8,76.6   \n",
       "8             1.213543             Urban           Suburban   \n",
       "9             1.315521           Married            Married   \n",
       "10            8.097083                67                101   \n",
       "11            0.000000                 2                 26   \n",
       "12            0.000000                33                 42   \n",
       "13            8.341832               NaN                  0   \n",
       "14            1.233938                 2                  5   \n",
       "15            9.086274     Personal Auto      Personal Auto   \n",
       "16            1.233938       Personal L2        Personal L2   \n",
       "17            1.305323            Offer2             Offer2   \n",
       "18            1.305323            Branch              Agent   \n",
       "19            0.000000           267.214            565.509   \n",
       "20            1.284928     Four-Door Car                SUV   \n",
       "21            1.284928                 2                  2   \n",
       "\n",
       "       Third Observation  Entropy  \n",
       "0                   4119    13.26  \n",
       "1                 8646.5    12.40  \n",
       "2                  Basic     1.28  \n",
       "3   High School or Below     2.02  \n",
       "4               Employed     1.50  \n",
       "5                      F     1.00  \n",
       "6                  64125     9.67  \n",
       "7              21.6,88.4    10.91  \n",
       "8                  Urban     1.30  \n",
       "9                Married     1.37  \n",
       "10                   108     6.26  \n",
       "11                     3     5.12  \n",
       "12                    44     6.62  \n",
       "13                     0     1.10  \n",
       "14                     3     2.60  \n",
       "15         Personal Auto     0.99  \n",
       "16           Personal L1     2.46  \n",
       "17                Offer2     1.83  \n",
       "18                Branch     1.91  \n",
       "19               369.819    10.66  \n",
       "20                   SUV     1.88  \n",
       "21                     1     1.16  "
      ]
     },
     "execution_count": 207,
     "metadata": {},
     "output_type": "execute_result"
    }
   ],
   "source": [
    "Info.Agg_Tabulation(df)"
   ]
  },
  {
   "cell_type": "code",
   "execution_count": 140,
   "metadata": {},
   "outputs": [
    {
     "data": {
      "text/plain": [
       "CustomerID                       5799.500000\n",
       "Customer.Lifetime.Value          4946.331174\n",
       "Monthly.Premium.Auto               40.250000\n",
       "Months.Since.Last.Claim            17.000000\n",
       "Months.Since.Policy.Inception      47.750000\n",
       "Number.of.Open.Complaints           0.000000\n",
       "Number.of.Policies                  3.000000\n",
       "Total.Claim.Amount                273.188206\n",
       "Vehicle.Size                        0.000000\n",
       "dtype: float64"
      ]
     },
     "execution_count": 140,
     "metadata": {},
     "output_type": "execute_result"
    }
   ],
   "source": [
    "Info._iqr(df)"
   ]
  },
  {
   "cell_type": "code",
   "execution_count": 141,
   "metadata": {},
   "outputs": [
    {
     "data": {
      "text/plain": [
       "19612"
      ]
     },
     "execution_count": 141,
     "metadata": {},
     "output_type": "execute_result"
    }
   ],
   "source": [
    "Info._outlier_count(df)"
   ]
  },
  {
   "cell_type": "code",
   "execution_count": 208,
   "metadata": {},
   "outputs": [
    {
     "data": {
      "text/html": [
       "<div>\n",
       "<style scoped>\n",
       "    .dataframe tbody tr th:only-of-type {\n",
       "        vertical-align: middle;\n",
       "    }\n",
       "\n",
       "    .dataframe tbody tr th {\n",
       "        vertical-align: top;\n",
       "    }\n",
       "\n",
       "    .dataframe thead th {\n",
       "        text-align: right;\n",
       "    }\n",
       "</style>\n",
       "<table border=\"1\" class=\"dataframe\">\n",
       "  <thead>\n",
       "    <tr style=\"text-align: right;\">\n",
       "      <th></th>\n",
       "      <th>Negative values count</th>\n",
       "      <th>Positive values count</th>\n",
       "      <th>Zero count</th>\n",
       "      <th>Unique count</th>\n",
       "      <th>Negative Infinity count</th>\n",
       "      <th>Positive Infinity count</th>\n",
       "      <th>Missing Percentage</th>\n",
       "      <th>Count of outliers</th>\n",
       "    </tr>\n",
       "  </thead>\n",
       "  <tbody>\n",
       "    <tr>\n",
       "      <th>CustomerID</th>\n",
       "      <td>0.0</td>\n",
       "      <td>9806.0</td>\n",
       "      <td>0.0</td>\n",
       "      <td>9806.0</td>\n",
       "      <td>0.0</td>\n",
       "      <td>0.0</td>\n",
       "      <td>0.000000</td>\n",
       "      <td>0.0</td>\n",
       "    </tr>\n",
       "    <tr>\n",
       "      <th>Customer.Lifetime.Value</th>\n",
       "      <td>0.0</td>\n",
       "      <td>9806.0</td>\n",
       "      <td>0.0</td>\n",
       "      <td>6477.0</td>\n",
       "      <td>0.0</td>\n",
       "      <td>0.0</td>\n",
       "      <td>0.000000</td>\n",
       "      <td>883.0</td>\n",
       "    </tr>\n",
       "    <tr>\n",
       "      <th>Monthly.Premium.Auto</th>\n",
       "      <td>0.0</td>\n",
       "      <td>9012.0</td>\n",
       "      <td>0.0</td>\n",
       "      <td>192.0</td>\n",
       "      <td>0.0</td>\n",
       "      <td>0.0</td>\n",
       "      <td>0.080971</td>\n",
       "      <td>432.0</td>\n",
       "    </tr>\n",
       "    <tr>\n",
       "      <th>Months.Since.Last.Claim</th>\n",
       "      <td>0.0</td>\n",
       "      <td>9510.0</td>\n",
       "      <td>296.0</td>\n",
       "      <td>36.0</td>\n",
       "      <td>0.0</td>\n",
       "      <td>0.0</td>\n",
       "      <td>0.000000</td>\n",
       "      <td>0.0</td>\n",
       "    </tr>\n",
       "    <tr>\n",
       "      <th>Months.Since.Policy.Inception</th>\n",
       "      <td>0.0</td>\n",
       "      <td>9712.0</td>\n",
       "      <td>94.0</td>\n",
       "      <td>100.0</td>\n",
       "      <td>0.0</td>\n",
       "      <td>0.0</td>\n",
       "      <td>0.000000</td>\n",
       "      <td>0.0</td>\n",
       "    </tr>\n",
       "    <tr>\n",
       "      <th>Number.of.Open.Complaints</th>\n",
       "      <td>0.0</td>\n",
       "      <td>1858.0</td>\n",
       "      <td>7130.0</td>\n",
       "      <td>7.0</td>\n",
       "      <td>0.0</td>\n",
       "      <td>0.0</td>\n",
       "      <td>0.083418</td>\n",
       "      <td>1858.0</td>\n",
       "    </tr>\n",
       "    <tr>\n",
       "      <th>Number.of.Policies</th>\n",
       "      <td>0.0</td>\n",
       "      <td>9685.0</td>\n",
       "      <td>0.0</td>\n",
       "      <td>10.0</td>\n",
       "      <td>0.0</td>\n",
       "      <td>0.0</td>\n",
       "      <td>0.012339</td>\n",
       "      <td>446.0</td>\n",
       "    </tr>\n",
       "    <tr>\n",
       "      <th>Total.Claim.Amount</th>\n",
       "      <td>0.0</td>\n",
       "      <td>9806.0</td>\n",
       "      <td>0.0</td>\n",
       "      <td>4125.0</td>\n",
       "      <td>0.0</td>\n",
       "      <td>0.0</td>\n",
       "      <td>0.000000</td>\n",
       "      <td>495.0</td>\n",
       "    </tr>\n",
       "    <tr>\n",
       "      <th>Vehicle.Size</th>\n",
       "      <td>0.0</td>\n",
       "      <td>9680.0</td>\n",
       "      <td>0.0</td>\n",
       "      <td>4.0</td>\n",
       "      <td>0.0</td>\n",
       "      <td>0.0</td>\n",
       "      <td>0.012849</td>\n",
       "      <td>2885.0</td>\n",
       "    </tr>\n",
       "  </tbody>\n",
       "</table>\n",
       "</div>"
      ],
      "text/plain": [
       "                               Negative values count  Positive values count  \\\n",
       "CustomerID                                       0.0                 9806.0   \n",
       "Customer.Lifetime.Value                          0.0                 9806.0   \n",
       "Monthly.Premium.Auto                             0.0                 9012.0   \n",
       "Months.Since.Last.Claim                          0.0                 9510.0   \n",
       "Months.Since.Policy.Inception                    0.0                 9712.0   \n",
       "Number.of.Open.Complaints                        0.0                 1858.0   \n",
       "Number.of.Policies                               0.0                 9685.0   \n",
       "Total.Claim.Amount                               0.0                 9806.0   \n",
       "Vehicle.Size                                     0.0                 9680.0   \n",
       "\n",
       "                               Zero count  Unique count  \\\n",
       "CustomerID                            0.0        9806.0   \n",
       "Customer.Lifetime.Value               0.0        6477.0   \n",
       "Monthly.Premium.Auto                  0.0         192.0   \n",
       "Months.Since.Last.Claim             296.0          36.0   \n",
       "Months.Since.Policy.Inception        94.0         100.0   \n",
       "Number.of.Open.Complaints          7130.0           7.0   \n",
       "Number.of.Policies                    0.0          10.0   \n",
       "Total.Claim.Amount                    0.0        4125.0   \n",
       "Vehicle.Size                          0.0           4.0   \n",
       "\n",
       "                               Negative Infinity count  \\\n",
       "CustomerID                                         0.0   \n",
       "Customer.Lifetime.Value                            0.0   \n",
       "Monthly.Premium.Auto                               0.0   \n",
       "Months.Since.Last.Claim                            0.0   \n",
       "Months.Since.Policy.Inception                      0.0   \n",
       "Number.of.Open.Complaints                          0.0   \n",
       "Number.of.Policies                                 0.0   \n",
       "Total.Claim.Amount                                 0.0   \n",
       "Vehicle.Size                                       0.0   \n",
       "\n",
       "                               Positive Infinity count  Missing Percentage  \\\n",
       "CustomerID                                         0.0            0.000000   \n",
       "Customer.Lifetime.Value                            0.0            0.000000   \n",
       "Monthly.Premium.Auto                               0.0            0.080971   \n",
       "Months.Since.Last.Claim                            0.0            0.000000   \n",
       "Months.Since.Policy.Inception                      0.0            0.000000   \n",
       "Number.of.Open.Complaints                          0.0            0.083418   \n",
       "Number.of.Policies                                 0.0            0.012339   \n",
       "Total.Claim.Amount                                 0.0            0.000000   \n",
       "Vehicle.Size                                       0.0            0.012849   \n",
       "\n",
       "                               Count of outliers  \n",
       "CustomerID                                   0.0  \n",
       "Customer.Lifetime.Value                    883.0  \n",
       "Monthly.Premium.Auto                       432.0  \n",
       "Months.Since.Last.Claim                      0.0  \n",
       "Months.Since.Policy.Inception                0.0  \n",
       "Number.of.Open.Complaints                 1858.0  \n",
       "Number.of.Policies                         446.0  \n",
       "Total.Claim.Amount                         495.0  \n",
       "Vehicle.Size                              2885.0  "
      ]
     },
     "execution_count": 208,
     "metadata": {},
     "output_type": "execute_result"
    }
   ],
   "source": [
    "Info.num_count_summary(df)"
   ]
  },
  {
   "cell_type": "markdown",
   "metadata": {},
   "source": [
    "# Haversine distance Computaion"
   ]
  },
  {
   "cell_type": "code",
   "execution_count": 143,
   "metadata": {},
   "outputs": [],
   "source": [
    "import math\n",
    "\n",
    "class Compute_Haversine_Distance():\n",
    "\n",
    "    def __init__(self):\n",
    "        print(\"Distance object created\")\n",
    "\n",
    "    def Split_Location_geo(self,Location_Geo):\n",
    "        df['Lati'], df['Longi'] = df['Location.Geo'].str.split(',', 1).str\n",
    "\n",
    "    def harvasine_distance(self,lati,longi):\n",
    "        df['Lati']= pd.to_numeric(df['Lati'],errors='coerce')\n",
    "        df['Longi']= pd.to_numeric(df['Longi'],errors='coerce')\n",
    "        df['LAT_rad'],df['LON_rad'] = np.radians(df['Lati']), np.radians(df['Longi'])\n",
    "        df['dLON'] = df['LON_rad'] - math.radians(-56.7213600)\n",
    "        df['dLAT'] = df['LAT_rad'] - math.radians(37.2175900)\n",
    "        df['distance'] = 6367 * 2 * np.arcsin(np.sqrt(np.sin(df['dLAT']/2)**2 + math.cos(math.radians(37.2175900)) * np.cos(df['LAT_rad']) * np.sin(df['dLON']/2)**2))"
   ]
  },
  {
   "cell_type": "code",
   "execution_count": 144,
   "metadata": {},
   "outputs": [
    {
     "name": "stdout",
     "output_type": "stream",
     "text": [
      "Distance object created\n"
     ]
    }
   ],
   "source": [
    "distance = Compute_Haversine_Distance()"
   ]
  },
  {
   "cell_type": "code",
   "execution_count": 145,
   "metadata": {},
   "outputs": [
    {
     "name": "stderr",
     "output_type": "stream",
     "text": [
      "C:\\Users\\DELL\\Anaconda3\\envs\\Tensorflow env\\lib\\site-packages\\ipykernel_launcher.py:9: FutureWarning: Columnar iteration over characters will be deprecated in future releases.\n",
      "  if __name__ == '__main__':\n"
     ]
    }
   ],
   "source": [
    "distance.Split_Location_geo(df)"
   ]
  },
  {
   "cell_type": "code",
   "execution_count": 146,
   "metadata": {},
   "outputs": [],
   "source": [
    "distance.harvasine_distance(df['Lati'],df['Longi'])"
   ]
  },
  {
   "cell_type": "markdown",
   "metadata": {},
   "source": [
    "# Data Preprocessing"
   ]
  },
  {
   "cell_type": "code",
   "execution_count": 147,
   "metadata": {},
   "outputs": [],
   "source": [
    "import pandas as pd\n",
    "from sklearn.preprocessing import LabelEncoder\n",
    "class Imputer(Attribute_Information):\n",
    "\n",
    "    def __init__(self):\n",
    "        print(\"Imputation object created\")\n",
    "        \n",
    "    def fit(self, data):\n",
    "\n",
    "        self.fill = pd.Series([data[column].value_counts().index[0]\n",
    "            if data[column].dtype == np.dtype('O') else data[column].mean() for column in data],\n",
    "            index=data.columns)\n",
    "\n",
    "        return self\n",
    "\n",
    "    def transform(self, data):\n",
    "        return data.fillna(self.fill)"
   ]
  },
  {
   "cell_type": "code",
   "execution_count": 148,
   "metadata": {},
   "outputs": [
    {
     "name": "stdout",
     "output_type": "stream",
     "text": [
      "Imputation object created\n"
     ]
    }
   ],
   "source": [
    "impute = Imputer()"
   ]
  },
  {
   "cell_type": "code",
   "execution_count": 149,
   "metadata": {},
   "outputs": [
    {
     "data": {
      "text/plain": [
       "<__main__.Imputer at 0x1dfd21ee908>"
      ]
     },
     "execution_count": 149,
     "metadata": {},
     "output_type": "execute_result"
    }
   ],
   "source": [
    "impute.fit(df)"
   ]
  },
  {
   "cell_type": "code",
   "execution_count": 150,
   "metadata": {},
   "outputs": [],
   "source": [
    "df=impute.transform(df)"
   ]
  },
  {
   "cell_type": "markdown",
   "metadata": {},
   "source": [
    "# Feature Engineering"
   ]
  },
  {
   "cell_type": "code",
   "execution_count": 151,
   "metadata": {},
   "outputs": [],
   "source": [
    "from sklearn.preprocessing import LabelEncoder\n",
    "from sklearn import preprocessing\n",
    "col_list=['Renew.Offer.Type','Policy.Type']\n",
    "nondummy=['CustomerID','Customer.Lifetime.Value','Income','Location.Geo','Months.Since.Policy.Inception','Number.of.Open.Complaints','Number.of.Policies','Total.Claim.Amount','Vehicle.Size']\n",
    "class Base_Feature_Engineering(Imputer):\n",
    "\n",
    "    def __init__(self):\n",
    "        print(\"Feature Engineering object created\")\n",
    "    \n",
    "    def _Label_Encoding(self,data):\n",
    "        category_col =[var for var in data.columns if data[var].dtypes ==\"object\"] \n",
    "        labelEncoder = preprocessing.LabelEncoder()\n",
    "        mapping_dict={}\n",
    "        for col in category_col:\n",
    "            data[col] = labelEncoder.fit_transform(data[col])\n",
    "            le_name_mapping = dict(zip(labelEncoder.classes_, labelEncoder.transform(labelEncoder.classes_)))\n",
    "            mapping_dict[col]=le_name_mapping\n",
    "            return mapping_dict\n",
    "\n",
    "    def _get_dummies(self, data, prefered_columns=None):\n",
    "\n",
    "        if prefered_columns is None:\n",
    "            columns=data.columns.values\n",
    "            non_dummies=None\n",
    "        else:\n",
    "            non_dummies=[col for col in data.columns.values if col not in prefered_columns ]\n",
    "\n",
    "            columns=prefered_columns\n",
    "\n",
    "\n",
    "        dummies_data=[pd.get_dummies(data[col],prefix=col) for col in columns]\n",
    "\n",
    "        if non_dummies is not None:\n",
    "            for non_dummy in non_dummies:\n",
    "                dummies_data.append(data[non_dummy])\n",
    "\n",
    "        return pd.concat(dummies_data, axis=1)"
   ]
  },
  {
   "cell_type": "code",
   "execution_count": 152,
   "metadata": {},
   "outputs": [
    {
     "name": "stdout",
     "output_type": "stream",
     "text": [
      "Feature Engineering object created\n"
     ]
    }
   ],
   "source": [
    "FE = Base_Feature_Engineering()"
   ]
  },
  {
   "cell_type": "code",
   "execution_count": 166,
   "metadata": {},
   "outputs": [],
   "source": [
    "FE._Label_Encoding(df)"
   ]
  },
  {
   "cell_type": "markdown",
   "metadata": {},
   "source": [
    "# Dropper Function to drop unwanted variables"
   ]
  },
  {
   "cell_type": "code",
   "execution_count": 167,
   "metadata": {},
   "outputs": [],
   "source": [
    "col_list=['Location.Geo','Lati', 'Longi', 'LAT_rad', 'LON_rad', 'dLON', 'dLAT']\n",
    "class Column_Dopper():\n",
    "\n",
    "    def __init__(self):\n",
    "        print(\"Column Dopper object created\")\n",
    "    \n",
    "    def dropper(self,x):\n",
    "        data=[]\n",
    "        for i in x.columns:\n",
    "            if i not in col_list:\n",
    "                data.append(i)\n",
    "        return df[data]\n",
    "\n",
    "    def remove_outliers(self,data):\n",
    "        q1 =df['Customer.Lifetime.Value'].quantile(.25)\n",
    "        q3 = df['Customer.Lifetime.Value'].quantile(.75)\n",
    "        iqr = q3-q1\n",
    "        df_out = df[~((df['Customer.Lifetime.Value'] < (q1 - 1.5 *iqr))  |  (df['Customer.Lifetime.Value'] > (q3+ 1.5 * iqr)))]\n",
    "        return df_out"
   ]
  },
  {
   "cell_type": "code",
   "execution_count": 168,
   "metadata": {},
   "outputs": [
    {
     "name": "stdout",
     "output_type": "stream",
     "text": [
      "Column Dopper object created\n"
     ]
    }
   ],
   "source": [
    "drop = Column_Dopper()"
   ]
  },
  {
   "cell_type": "code",
   "execution_count": 169,
   "metadata": {},
   "outputs": [],
   "source": [
    "df=drop.dropper(df)"
   ]
  },
  {
   "cell_type": "code",
   "execution_count": 170,
   "metadata": {},
   "outputs": [],
   "source": [
    "df=drop.remove_outliers(df)"
   ]
  },
  {
   "cell_type": "markdown",
   "metadata": {},
   "source": [
    "# Model Building"
   ]
  },
  {
   "cell_type": "code",
   "execution_count": 177,
   "metadata": {},
   "outputs": [],
   "source": [
    "from sklearn import metrics\n",
    "from sklearn.metrics import r2_score\n",
    "from sklearn.linear_model import LinearRegression\n",
    "from sklearn.ensemble import RandomForestRegressor\n",
    "from xgboost import XGBRegressor\n",
    "from sklearn.tree import DecisionTreeRegressor\n",
    "from sklearn.model_selection import train_test_split\n",
    "\n",
    "class Data_Modelling():\n",
    "\n",
    "    def __init__(self,n_estimators=100,random_state=42,max_depth=10):\n",
    "        print(\"Data Modelling object created\")\n",
    "        \n",
    "    def Linear_Regression_Model(self,df):\n",
    "        x = df.drop(['Customer.Lifetime.Value'],axis=1)\n",
    "        y = df['Customer.Lifetime.Value']\n",
    "        x_train,x_test,y_train,y_test=train_test_split(x,y,test_size=0.30,random_state=42)\n",
    "        regressor = LinearRegression()\n",
    "        reg=regressor.fit(x_train,y_train)\n",
    "        LR_pred=regressor.predict(x_test)\n",
    "        LR_RMSE = np.sqrt(metrics.mean_squared_error(y_test,LR_pred))\n",
    "        LR_r2_score = r2_score(y_test,LR_pred)\n",
    "        return LR_RMSE,LR_r2_score\n",
    "\n",
    "    def Decision_Tree_Model(self,df):\n",
    "        x = df.drop(['Customer.Lifetime.Value'],axis=1)\n",
    "        y = df['Customer.Lifetime.Value']\n",
    "        x_train,x_test,y_train,y_test=train_test_split(x,y,test_size=0.30,random_state=42)\n",
    "        regressor = DecisionTreeRegressor(random_state=29)\n",
    "        reg=regressor.fit(x_train,y_train)\n",
    "        DT_pred=regressor.predict(x_test)\n",
    "        DT_RMSE = np.sqrt(metrics.mean_squared_error(y_test,DT_pred))\n",
    "        DT_r2_score = r2_score(y_test,DT_pred)\n",
    "        return DT_RMSE,DT_r2_score\n",
    "\n",
    "    def Random_Forest_Model(self,df):\n",
    "        x = df.drop(['Customer.Lifetime.Value'],axis=1)\n",
    "        y = df['Customer.Lifetime.Value']\n",
    "        x_train,x_test,y_train,y_test=train_test_split(x,y,test_size=0.30,random_state=42)\n",
    "        regressor = RandomForestRegressor(n_estimators=100,random_state=29,max_depth=12)\n",
    "        reg=regressor.fit(x_train,y_train)\n",
    "        RF_pred=regressor.predict(x_test)\n",
    "        RF_RMSE = np.sqrt(metrics.mean_squared_error(y_test,RF_pred))\n",
    "        RF_r2_score = r2_score(y_test,RF_pred)\n",
    "        return RF_RMSE,RF_r2_score\n",
    "\n",
    "    def Extreme_Gradient_Boosting_Model(self,df):\n",
    "        x = df.drop(['Customer.Lifetime.Value'],axis=1)\n",
    "        y = df['Customer.Lifetime.Value']\n",
    "        x_train,x_test,y_train,y_test=train_test_split(x,y,test_size=0.30,random_state=42)\n",
    "        regressor = XGBRegressor(n_estimators=100,random_state=29,max_depth=9,learning_rate=0.07)\n",
    "        reg=regressor.fit(x_train,y_train)\n",
    "        XGB_pred=regressor.predict(x_test)\n",
    "        XGB_RMSE = np.sqrt(metrics.mean_squared_error(y_test,XGB_pred))\n",
    "        XGB_r2_score = r2_score(y_test,XGB_pred)\n",
    "        return XGB_RMSE,XGB_r2_score"
   ]
  },
  {
   "cell_type": "code",
   "execution_count": 178,
   "metadata": {},
   "outputs": [
    {
     "name": "stdout",
     "output_type": "stream",
     "text": [
      "Data Modelling object created\n"
     ]
    }
   ],
   "source": [
    "model = Data_Modelling()"
   ]
  },
  {
   "cell_type": "code",
   "execution_count": 179,
   "metadata": {},
   "outputs": [
    {
     "data": {
      "text/plain": [
       "(2761.7760128710843, 0.28489962900593524)"
      ]
     },
     "execution_count": 179,
     "metadata": {},
     "output_type": "execute_result"
    }
   ],
   "source": [
    "model.Linear_Regression_Model(df)"
   ]
  },
  {
   "cell_type": "code",
   "execution_count": 180,
   "metadata": {},
   "outputs": [
    {
     "data": {
      "text/plain": [
       "(1248.3766139170116, 0.8538895273997682)"
      ]
     },
     "execution_count": 180,
     "metadata": {},
     "output_type": "execute_result"
    }
   ],
   "source": [
    "model.Decision_Tree_Model(df)"
   ]
  },
  {
   "cell_type": "code",
   "execution_count": 181,
   "metadata": {},
   "outputs": [
    {
     "data": {
      "text/plain": [
       "(939.539369016892, 0.9172400799465625)"
      ]
     },
     "execution_count": 181,
     "metadata": {},
     "output_type": "execute_result"
    }
   ],
   "source": [
    "model.Random_Forest_Model(df)"
   ]
  },
  {
   "cell_type": "code",
   "execution_count": 182,
   "metadata": {},
   "outputs": [
    {
     "data": {
      "text/plain": [
       "(930.416580304399, 0.9188394504760382)"
      ]
     },
     "execution_count": 182,
     "metadata": {},
     "output_type": "execute_result"
    }
   ],
   "source": [
    "model.Extreme_Gradient_Boosting_Model(df)"
   ]
  },
  {
   "cell_type": "code",
   "execution_count": 196,
   "metadata": {},
   "outputs": [],
   "source": [
    "from sklearn.model_selection import GridSearchCV\n",
    "import warnings\n",
    "warnings.filterwarnings(\"ignore\")\n",
    "class Regression_Cross_Validator():\n",
    "\n",
    "    def __init__(self,n_estimators=100,random_state=42,max_depth=10):\n",
    "        print(\"Cross Validation object created\")\n",
    "        \n",
    "        \n",
    "    def Cross_Validated_Random_Forest_Model(self,data):\n",
    "        param_grid = [\n",
    "        {'n_estimators': [10, 100], 'max_features': [5, 60], \n",
    "         'max_depth': [10, 200, None], 'bootstrap': [True, False]}\n",
    "        ]\n",
    "\n",
    "        x = df.drop(['Customer.Lifetime.Value'],axis=1)\n",
    "        y = df['Customer.Lifetime.Value']\n",
    "        x_train,x_test,y_train,y_test=train_test_split(x,y,test_size=0.30,random_state=42)\n",
    "        regressor = RandomForestRegressor(n_estimators=100,random_state=29,max_depth=12)\n",
    "        reg=regressor.fit(x_train,y_train)\n",
    "        grid_search_forest = GridSearchCV(regressor, param_grid, cv=10, scoring='neg_mean_squared_error')\n",
    "        grid_search_forest.fit(x_train, y_train)\n",
    "\n",
    "        grid_best= grid_search_forest.best_estimator_.predict(x_test)\n",
    "        grid_mse = metrics.mean_squared_error(y_test, grid_best)\n",
    "        grid_rScore = r2_score(y_test, grid_best)\n",
    "        grid_rmse = np.sqrt(grid_mse)\n",
    "        return grid_rmse,grid_rScore\n",
    "    \n",
    "    def Cross_Validated_Extreme_Gradient_Boosting_Model(self,data):\n",
    "        params={\n",
    "         \"learning_rate\"    : [0.05, 0.1] ,\n",
    "         \"max_depth\"        : [ 10,100],\n",
    "         \"n_estimators\"     : [ 10, 100],\n",
    "         \"colsample_bytree\" : [ 0.3, 0.4, 0.5 , 0.7 ]\n",
    "\n",
    "        }\n",
    "\n",
    "        x = df.drop(['Customer.Lifetime.Value'],axis=1)\n",
    "        y = df['Customer.Lifetime.Value']\n",
    "        x_train,x_test,y_train,y_test=train_test_split(x,y,test_size=0.30,random_state=42)\n",
    "        XGBregressor = XGBRegressor(n_estimators=100,random_state=29,max_depth=9,learning_rate=0.07)\n",
    "        reg=XGBregressor.fit(x_train,y_train)\n",
    "        grid_search_forest = GridSearchCV(XGBregressor, params, cv=10, scoring='neg_mean_squared_error')\n",
    "        grid_search_forest.fit(x_train, y_train)\n",
    "\n",
    "        grid_best= grid_search_forest.best_estimator_.predict(x_test)\n",
    "        grid_mse = metrics.mean_squared_error(y_test, grid_best)\n",
    "        grid_rScore = r2_score(y_test, grid_best)\n",
    "        grid_rmse = np.sqrt(grid_mse)\n",
    "        return grid_rmse,grid_rScore"
   ]
  },
  {
   "cell_type": "code",
   "execution_count": 194,
   "metadata": {},
   "outputs": [
    {
     "name": "stdout",
     "output_type": "stream",
     "text": [
      "Cross Validation object created\n"
     ]
    }
   ],
   "source": [
    "cv = Regression_Cross_Validator()"
   ]
  },
  {
   "cell_type": "code",
   "execution_count": 185,
   "metadata": {},
   "outputs": [
    {
     "data": {
      "text/plain": [
       "(945.722881537151, 0.9161471379533397)"
      ]
     },
     "execution_count": 185,
     "metadata": {},
     "output_type": "execute_result"
    }
   ],
   "source": [
    "cv.Cross_Validated_Random_Forest_Model(df)"
   ]
  },
  {
   "cell_type": "code",
   "execution_count": 195,
   "metadata": {},
   "outputs": [
    {
     "data": {
      "text/plain": [
       "(965.8521620284849, 0.9125396100381109)"
      ]
     },
     "execution_count": 195,
     "metadata": {},
     "output_type": "execute_result"
    }
   ],
   "source": [
    "cv.Cross_Validated_Extreme_Gradient_Boosting_Model(df)"
   ]
  },
  {
   "cell_type": "code",
   "execution_count": null,
   "metadata": {},
   "outputs": [],
   "source": []
  },
  {
   "cell_type": "code",
   "execution_count": null,
   "metadata": {},
   "outputs": [],
   "source": []
  }
 ],
 "metadata": {
  "kernelspec": {
   "display_name": "Python 3",
   "language": "python",
   "name": "python3"
  },
  "language_info": {
   "codemirror_mode": {
    "name": "ipython",
    "version": 3
   },
   "file_extension": ".py",
   "mimetype": "text/x-python",
   "name": "python",
   "nbconvert_exporter": "python",
   "pygments_lexer": "ipython3",
   "version": "3.7.7"
  }
 },
 "nbformat": 4,
 "nbformat_minor": 4
}
